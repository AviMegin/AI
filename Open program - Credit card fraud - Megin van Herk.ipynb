{
 "cells": [
  {
   "cell_type": "markdown",
   "id": "ceeedc6b",
   "metadata": {},
   "source": [
    "## 🔵 Can we predict credit card fraud\n",
    "\n",
    "\n"
   ]
  },
  {
   "cell_type": "markdown",
   "id": "93971e24",
   "metadata": {},
   "source": [
    "Open program assignment"
   ]
  },
  {
   "cell_type": "markdown",
   "id": "3822b936",
   "metadata": {},
   "source": [
    "###### By Megin van Herk"
   ]
  },
  {
   "cell_type": "code",
   "execution_count": 61,
   "id": "b85fe0b1",
   "metadata": {},
   "outputs": [
    {
     "name": "stdout",
     "output_type": "stream",
     "text": [
      "numpy version: 1.20.3\n",
      "pandas version: 1.3.4\n",
      "scikit-learn version: 0.24.2\n",
      "matplotlib version: 3.4.3\n"
     ]
    }
   ],
   "source": [
    "import numpy as np\n",
    "import pandas as pd\n",
    "import sklearn as sk\n",
    "import matplotlib\n",
    "import matplotlib.pyplot as plt\n",
    "from IPython.display import display\n",
    "import seaborn as sns\n",
    "print('numpy version:', np.__version__)\n",
    "print('pandas version:', pd.__version__)\n",
    "print('scikit-learn version:', sk.__version__)\n",
    "print('matplotlib version:', matplotlib.__version__)\n",
    "#sampling \n",
    "from imblearn.under_sampling import RandomUnderSampler  \n",
    "from imblearn.under_sampling import NearMiss\n",
    "from imblearn.over_sampling import SMOTE\n",
    "from imblearn.pipeline import make_pipeline as imbalanced_make_pipeline\n",
    "from sklearn.model_selection import train_test_split # train-test split\n",
    "#setting plot style\n",
    "plt.style.use('seaborn-darkgrid')\n",
    "%matplotlib inline\n",
    "import warnings\n",
    "warnings.filterwarnings(\"ignore\")"
   ]
  },
  {
   "cell_type": "markdown",
   "id": "53154090",
   "metadata": {},
   "source": [
    "## 🔵 Index\n"
   ]
  },
  {
   "cell_type": "markdown",
   "id": "1e321f85",
   "metadata": {},
   "source": [
    "🔷Domain understanding\n",
    "\n",
    "🔹Data sourcing\n",
    "\n",
    "🔹Analytic approach\n",
    "\n",
    "\n",
    "\n",
    "🔷 Provisioning\n",
    "\n",
    "🔹Data requirements\n",
    "\n",
    "🔹Data collection\n",
    "\n",
    "🔹Data understanding\n",
    "\n",
    "🔹Data preperation\n",
    "\n",
    "\n",
    "\n",
    "🔷 Predictions\n",
    "\n",
    "🔹Preprocessing\n",
    "\n",
    "🔹Modelling\n",
    "\n",
    "🔹Evaluation"
   ]
  },
  {
   "cell_type": "markdown",
   "id": "e2874ff7",
   "metadata": {},
   "source": [
    "-------------------"
   ]
  },
  {
   "cell_type": "markdown",
   "id": "f28ce5db",
   "metadata": {},
   "source": [
    "# 🔷Domain understanding"
   ]
  },
  {
   "cell_type": "markdown",
   "id": "b4866247",
   "metadata": {},
   "source": [
    "The main part for domain understanding can be found in the project proposal document."
   ]
  },
  {
   "cell_type": "markdown",
   "id": "75399ec8",
   "metadata": {},
   "source": [
    "Credit card fraud is a problem well known to credit card holders. Preventing it usually involves just being carefull. But being able to recognize what is and what is not credit card fraud is already a difficult. Thousands of Transaction go through each day. Being able to known what is fraud can be very beneficial for allot of parties. "
   ]
  },
  {
   "cell_type": "markdown",
   "id": "0c2e6ad9",
   "metadata": {},
   "source": [
    "\n",
    "\n",
    "### 🔹Data sourcing"
   ]
  },
  {
   "cell_type": "markdown",
   "id": "b00570bd",
   "metadata": {},
   "source": [
    "Finding datasets that represent credit card fraud. It is important we have datasets that have both non-fraud and fraudulent data, so that our algortihm can see the difference and predict what is and what is not fraud."
   ]
  },
  {
   "cell_type": "markdown",
   "id": "51c1ee4b",
   "metadata": {},
   "source": [
    "For inital EDA I did some exploring of some possible datasets I found. I chose these datasets because they were the first 2 to show up with very different contents. And a reliable source. They both contain non-fraud and fraudulent data. One is completely censored due to privacy issues, all the columns have been scaled to numbers. the other dataset is not censored and contains various categorical data:"
   ]
  },
  {
   "cell_type": "markdown",
   "id": "c2fb3014",
   "metadata": {},
   "source": [
    "#### Credit card fraud dataset"
   ]
  },
  {
   "cell_type": "markdown",
   "id": "0a2661b8",
   "metadata": {},
   "source": [
    "This dataset contains only numeric data. It has very little cases of actual credit card fraud, it is very imbalanced. Most of the data is anonymous. It has the column “class” which 0 means no fraud and 1 means fraud. \n",
    "https://www.kaggle.com/datasets/mlg-ulb/creditcardfraud\n"
   ]
  },
  {
   "cell_type": "code",
   "execution_count": 2,
   "id": "166ce8e2",
   "metadata": {
    "scrolled": false
   },
   "outputs": [
    {
     "data": {
      "text/html": [
       "<div>\n",
       "<style scoped>\n",
       "    .dataframe tbody tr th:only-of-type {\n",
       "        vertical-align: middle;\n",
       "    }\n",
       "\n",
       "    .dataframe tbody tr th {\n",
       "        vertical-align: top;\n",
       "    }\n",
       "\n",
       "    .dataframe thead th {\n",
       "        text-align: right;\n",
       "    }\n",
       "</style>\n",
       "<table border=\"1\" class=\"dataframe\">\n",
       "  <thead>\n",
       "    <tr style=\"text-align: right;\">\n",
       "      <th></th>\n",
       "      <th>Time</th>\n",
       "      <th>V1</th>\n",
       "      <th>V2</th>\n",
       "      <th>V3</th>\n",
       "      <th>V4</th>\n",
       "      <th>V5</th>\n",
       "      <th>V6</th>\n",
       "      <th>V7</th>\n",
       "      <th>V8</th>\n",
       "      <th>V9</th>\n",
       "      <th>...</th>\n",
       "      <th>V21</th>\n",
       "      <th>V22</th>\n",
       "      <th>V23</th>\n",
       "      <th>V24</th>\n",
       "      <th>V25</th>\n",
       "      <th>V26</th>\n",
       "      <th>V27</th>\n",
       "      <th>V28</th>\n",
       "      <th>Amount</th>\n",
       "      <th>Class</th>\n",
       "    </tr>\n",
       "  </thead>\n",
       "  <tbody>\n",
       "    <tr>\n",
       "      <th>0</th>\n",
       "      <td>0.0</td>\n",
       "      <td>-1.359807</td>\n",
       "      <td>-0.072781</td>\n",
       "      <td>2.536347</td>\n",
       "      <td>1.378155</td>\n",
       "      <td>-0.338321</td>\n",
       "      <td>0.462388</td>\n",
       "      <td>0.239599</td>\n",
       "      <td>0.098698</td>\n",
       "      <td>0.363787</td>\n",
       "      <td>...</td>\n",
       "      <td>-0.018307</td>\n",
       "      <td>0.277838</td>\n",
       "      <td>-0.110474</td>\n",
       "      <td>0.066928</td>\n",
       "      <td>0.128539</td>\n",
       "      <td>-0.189115</td>\n",
       "      <td>0.133558</td>\n",
       "      <td>-0.021053</td>\n",
       "      <td>149.62</td>\n",
       "      <td>0</td>\n",
       "    </tr>\n",
       "    <tr>\n",
       "      <th>1</th>\n",
       "      <td>0.0</td>\n",
       "      <td>1.191857</td>\n",
       "      <td>0.266151</td>\n",
       "      <td>0.166480</td>\n",
       "      <td>0.448154</td>\n",
       "      <td>0.060018</td>\n",
       "      <td>-0.082361</td>\n",
       "      <td>-0.078803</td>\n",
       "      <td>0.085102</td>\n",
       "      <td>-0.255425</td>\n",
       "      <td>...</td>\n",
       "      <td>-0.225775</td>\n",
       "      <td>-0.638672</td>\n",
       "      <td>0.101288</td>\n",
       "      <td>-0.339846</td>\n",
       "      <td>0.167170</td>\n",
       "      <td>0.125895</td>\n",
       "      <td>-0.008983</td>\n",
       "      <td>0.014724</td>\n",
       "      <td>2.69</td>\n",
       "      <td>0</td>\n",
       "    </tr>\n",
       "    <tr>\n",
       "      <th>2</th>\n",
       "      <td>1.0</td>\n",
       "      <td>-1.358354</td>\n",
       "      <td>-1.340163</td>\n",
       "      <td>1.773209</td>\n",
       "      <td>0.379780</td>\n",
       "      <td>-0.503198</td>\n",
       "      <td>1.800499</td>\n",
       "      <td>0.791461</td>\n",
       "      <td>0.247676</td>\n",
       "      <td>-1.514654</td>\n",
       "      <td>...</td>\n",
       "      <td>0.247998</td>\n",
       "      <td>0.771679</td>\n",
       "      <td>0.909412</td>\n",
       "      <td>-0.689281</td>\n",
       "      <td>-0.327642</td>\n",
       "      <td>-0.139097</td>\n",
       "      <td>-0.055353</td>\n",
       "      <td>-0.059752</td>\n",
       "      <td>378.66</td>\n",
       "      <td>0</td>\n",
       "    </tr>\n",
       "    <tr>\n",
       "      <th>3</th>\n",
       "      <td>1.0</td>\n",
       "      <td>-0.966272</td>\n",
       "      <td>-0.185226</td>\n",
       "      <td>1.792993</td>\n",
       "      <td>-0.863291</td>\n",
       "      <td>-0.010309</td>\n",
       "      <td>1.247203</td>\n",
       "      <td>0.237609</td>\n",
       "      <td>0.377436</td>\n",
       "      <td>-1.387024</td>\n",
       "      <td>...</td>\n",
       "      <td>-0.108300</td>\n",
       "      <td>0.005274</td>\n",
       "      <td>-0.190321</td>\n",
       "      <td>-1.175575</td>\n",
       "      <td>0.647376</td>\n",
       "      <td>-0.221929</td>\n",
       "      <td>0.062723</td>\n",
       "      <td>0.061458</td>\n",
       "      <td>123.50</td>\n",
       "      <td>0</td>\n",
       "    </tr>\n",
       "    <tr>\n",
       "      <th>4</th>\n",
       "      <td>2.0</td>\n",
       "      <td>-1.158233</td>\n",
       "      <td>0.877737</td>\n",
       "      <td>1.548718</td>\n",
       "      <td>0.403034</td>\n",
       "      <td>-0.407193</td>\n",
       "      <td>0.095921</td>\n",
       "      <td>0.592941</td>\n",
       "      <td>-0.270533</td>\n",
       "      <td>0.817739</td>\n",
       "      <td>...</td>\n",
       "      <td>-0.009431</td>\n",
       "      <td>0.798278</td>\n",
       "      <td>-0.137458</td>\n",
       "      <td>0.141267</td>\n",
       "      <td>-0.206010</td>\n",
       "      <td>0.502292</td>\n",
       "      <td>0.219422</td>\n",
       "      <td>0.215153</td>\n",
       "      <td>69.99</td>\n",
       "      <td>0</td>\n",
       "    </tr>\n",
       "    <tr>\n",
       "      <th>...</th>\n",
       "      <td>...</td>\n",
       "      <td>...</td>\n",
       "      <td>...</td>\n",
       "      <td>...</td>\n",
       "      <td>...</td>\n",
       "      <td>...</td>\n",
       "      <td>...</td>\n",
       "      <td>...</td>\n",
       "      <td>...</td>\n",
       "      <td>...</td>\n",
       "      <td>...</td>\n",
       "      <td>...</td>\n",
       "      <td>...</td>\n",
       "      <td>...</td>\n",
       "      <td>...</td>\n",
       "      <td>...</td>\n",
       "      <td>...</td>\n",
       "      <td>...</td>\n",
       "      <td>...</td>\n",
       "      <td>...</td>\n",
       "      <td>...</td>\n",
       "    </tr>\n",
       "    <tr>\n",
       "      <th>284802</th>\n",
       "      <td>172786.0</td>\n",
       "      <td>-11.881118</td>\n",
       "      <td>10.071785</td>\n",
       "      <td>-9.834783</td>\n",
       "      <td>-2.066656</td>\n",
       "      <td>-5.364473</td>\n",
       "      <td>-2.606837</td>\n",
       "      <td>-4.918215</td>\n",
       "      <td>7.305334</td>\n",
       "      <td>1.914428</td>\n",
       "      <td>...</td>\n",
       "      <td>0.213454</td>\n",
       "      <td>0.111864</td>\n",
       "      <td>1.014480</td>\n",
       "      <td>-0.509348</td>\n",
       "      <td>1.436807</td>\n",
       "      <td>0.250034</td>\n",
       "      <td>0.943651</td>\n",
       "      <td>0.823731</td>\n",
       "      <td>0.77</td>\n",
       "      <td>0</td>\n",
       "    </tr>\n",
       "    <tr>\n",
       "      <th>284803</th>\n",
       "      <td>172787.0</td>\n",
       "      <td>-0.732789</td>\n",
       "      <td>-0.055080</td>\n",
       "      <td>2.035030</td>\n",
       "      <td>-0.738589</td>\n",
       "      <td>0.868229</td>\n",
       "      <td>1.058415</td>\n",
       "      <td>0.024330</td>\n",
       "      <td>0.294869</td>\n",
       "      <td>0.584800</td>\n",
       "      <td>...</td>\n",
       "      <td>0.214205</td>\n",
       "      <td>0.924384</td>\n",
       "      <td>0.012463</td>\n",
       "      <td>-1.016226</td>\n",
       "      <td>-0.606624</td>\n",
       "      <td>-0.395255</td>\n",
       "      <td>0.068472</td>\n",
       "      <td>-0.053527</td>\n",
       "      <td>24.79</td>\n",
       "      <td>0</td>\n",
       "    </tr>\n",
       "    <tr>\n",
       "      <th>284804</th>\n",
       "      <td>172788.0</td>\n",
       "      <td>1.919565</td>\n",
       "      <td>-0.301254</td>\n",
       "      <td>-3.249640</td>\n",
       "      <td>-0.557828</td>\n",
       "      <td>2.630515</td>\n",
       "      <td>3.031260</td>\n",
       "      <td>-0.296827</td>\n",
       "      <td>0.708417</td>\n",
       "      <td>0.432454</td>\n",
       "      <td>...</td>\n",
       "      <td>0.232045</td>\n",
       "      <td>0.578229</td>\n",
       "      <td>-0.037501</td>\n",
       "      <td>0.640134</td>\n",
       "      <td>0.265745</td>\n",
       "      <td>-0.087371</td>\n",
       "      <td>0.004455</td>\n",
       "      <td>-0.026561</td>\n",
       "      <td>67.88</td>\n",
       "      <td>0</td>\n",
       "    </tr>\n",
       "    <tr>\n",
       "      <th>284805</th>\n",
       "      <td>172788.0</td>\n",
       "      <td>-0.240440</td>\n",
       "      <td>0.530483</td>\n",
       "      <td>0.702510</td>\n",
       "      <td>0.689799</td>\n",
       "      <td>-0.377961</td>\n",
       "      <td>0.623708</td>\n",
       "      <td>-0.686180</td>\n",
       "      <td>0.679145</td>\n",
       "      <td>0.392087</td>\n",
       "      <td>...</td>\n",
       "      <td>0.265245</td>\n",
       "      <td>0.800049</td>\n",
       "      <td>-0.163298</td>\n",
       "      <td>0.123205</td>\n",
       "      <td>-0.569159</td>\n",
       "      <td>0.546668</td>\n",
       "      <td>0.108821</td>\n",
       "      <td>0.104533</td>\n",
       "      <td>10.00</td>\n",
       "      <td>0</td>\n",
       "    </tr>\n",
       "    <tr>\n",
       "      <th>284806</th>\n",
       "      <td>172792.0</td>\n",
       "      <td>-0.533413</td>\n",
       "      <td>-0.189733</td>\n",
       "      <td>0.703337</td>\n",
       "      <td>-0.506271</td>\n",
       "      <td>-0.012546</td>\n",
       "      <td>-0.649617</td>\n",
       "      <td>1.577006</td>\n",
       "      <td>-0.414650</td>\n",
       "      <td>0.486180</td>\n",
       "      <td>...</td>\n",
       "      <td>0.261057</td>\n",
       "      <td>0.643078</td>\n",
       "      <td>0.376777</td>\n",
       "      <td>0.008797</td>\n",
       "      <td>-0.473649</td>\n",
       "      <td>-0.818267</td>\n",
       "      <td>-0.002415</td>\n",
       "      <td>0.013649</td>\n",
       "      <td>217.00</td>\n",
       "      <td>0</td>\n",
       "    </tr>\n",
       "  </tbody>\n",
       "</table>\n",
       "<p>284807 rows × 31 columns</p>\n",
       "</div>"
      ],
      "text/plain": [
       "            Time         V1         V2        V3        V4        V5  \\\n",
       "0            0.0  -1.359807  -0.072781  2.536347  1.378155 -0.338321   \n",
       "1            0.0   1.191857   0.266151  0.166480  0.448154  0.060018   \n",
       "2            1.0  -1.358354  -1.340163  1.773209  0.379780 -0.503198   \n",
       "3            1.0  -0.966272  -0.185226  1.792993 -0.863291 -0.010309   \n",
       "4            2.0  -1.158233   0.877737  1.548718  0.403034 -0.407193   \n",
       "...          ...        ...        ...       ...       ...       ...   \n",
       "284802  172786.0 -11.881118  10.071785 -9.834783 -2.066656 -5.364473   \n",
       "284803  172787.0  -0.732789  -0.055080  2.035030 -0.738589  0.868229   \n",
       "284804  172788.0   1.919565  -0.301254 -3.249640 -0.557828  2.630515   \n",
       "284805  172788.0  -0.240440   0.530483  0.702510  0.689799 -0.377961   \n",
       "284806  172792.0  -0.533413  -0.189733  0.703337 -0.506271 -0.012546   \n",
       "\n",
       "              V6        V7        V8        V9  ...       V21       V22  \\\n",
       "0       0.462388  0.239599  0.098698  0.363787  ... -0.018307  0.277838   \n",
       "1      -0.082361 -0.078803  0.085102 -0.255425  ... -0.225775 -0.638672   \n",
       "2       1.800499  0.791461  0.247676 -1.514654  ...  0.247998  0.771679   \n",
       "3       1.247203  0.237609  0.377436 -1.387024  ... -0.108300  0.005274   \n",
       "4       0.095921  0.592941 -0.270533  0.817739  ... -0.009431  0.798278   \n",
       "...          ...       ...       ...       ...  ...       ...       ...   \n",
       "284802 -2.606837 -4.918215  7.305334  1.914428  ...  0.213454  0.111864   \n",
       "284803  1.058415  0.024330  0.294869  0.584800  ...  0.214205  0.924384   \n",
       "284804  3.031260 -0.296827  0.708417  0.432454  ...  0.232045  0.578229   \n",
       "284805  0.623708 -0.686180  0.679145  0.392087  ...  0.265245  0.800049   \n",
       "284806 -0.649617  1.577006 -0.414650  0.486180  ...  0.261057  0.643078   \n",
       "\n",
       "             V23       V24       V25       V26       V27       V28  Amount  \\\n",
       "0      -0.110474  0.066928  0.128539 -0.189115  0.133558 -0.021053  149.62   \n",
       "1       0.101288 -0.339846  0.167170  0.125895 -0.008983  0.014724    2.69   \n",
       "2       0.909412 -0.689281 -0.327642 -0.139097 -0.055353 -0.059752  378.66   \n",
       "3      -0.190321 -1.175575  0.647376 -0.221929  0.062723  0.061458  123.50   \n",
       "4      -0.137458  0.141267 -0.206010  0.502292  0.219422  0.215153   69.99   \n",
       "...          ...       ...       ...       ...       ...       ...     ...   \n",
       "284802  1.014480 -0.509348  1.436807  0.250034  0.943651  0.823731    0.77   \n",
       "284803  0.012463 -1.016226 -0.606624 -0.395255  0.068472 -0.053527   24.79   \n",
       "284804 -0.037501  0.640134  0.265745 -0.087371  0.004455 -0.026561   67.88   \n",
       "284805 -0.163298  0.123205 -0.569159  0.546668  0.108821  0.104533   10.00   \n",
       "284806  0.376777  0.008797 -0.473649 -0.818267 -0.002415  0.013649  217.00   \n",
       "\n",
       "        Class  \n",
       "0           0  \n",
       "1           0  \n",
       "2           0  \n",
       "3           0  \n",
       "4           0  \n",
       "...       ...  \n",
       "284802      0  \n",
       "284803      0  \n",
       "284804      0  \n",
       "284805      0  \n",
       "284806      0  \n",
       "\n",
       "[284807 rows x 31 columns]"
      ]
     },
     "execution_count": 2,
     "metadata": {},
     "output_type": "execute_result"
    }
   ],
   "source": [
    "df = pd.read_csv(\"Data/creditcard.csv\") #read the csv file\n",
    "df #display top 5 rows"
   ]
  },
  {
   "cell_type": "markdown",
   "id": "eaa08d8c",
   "metadata": {},
   "source": [
    "To get an inital impression of the content we show the intial rows of the dataframe."
   ]
  },
  {
   "cell_type": "code",
   "execution_count": 3,
   "id": "c85b315d",
   "metadata": {},
   "outputs": [
    {
     "data": {
      "text/plain": [
       "0    284315\n",
       "1       492\n",
       "Name: Class, dtype: int64"
      ]
     },
     "execution_count": 3,
     "metadata": {},
     "output_type": "execute_result"
    }
   ],
   "source": [
    "df.Class.value_counts()"
   ]
  },
  {
   "cell_type": "markdown",
   "id": "1c4f1f3d",
   "metadata": {},
   "source": [
    "There is very little amount of data for actual frauds. we will have to perform some sort of scaling to improve this."
   ]
  },
  {
   "cell_type": "markdown",
   "id": "f59d7378",
   "metadata": {},
   "source": [
    "#### Fraud detection dataset"
   ]
  },
  {
   "cell_type": "markdown",
   "id": "e0db8bad",
   "metadata": {},
   "source": [
    "This dataset contains more Categorical data Including peoples names ages and genders etc.This data consists of 2 different csv files that are “test” and “train”. This data is from customers in the US containing around 2 million rows.\n",
    "https://www.kaggle.com/datasets/kartik2112/fraud-detection\n"
   ]
  },
  {
   "cell_type": "code",
   "execution_count": 4,
   "id": "0a997e50",
   "metadata": {},
   "outputs": [
    {
     "data": {
      "text/html": [
       "<div>\n",
       "<style scoped>\n",
       "    .dataframe tbody tr th:only-of-type {\n",
       "        vertical-align: middle;\n",
       "    }\n",
       "\n",
       "    .dataframe tbody tr th {\n",
       "        vertical-align: top;\n",
       "    }\n",
       "\n",
       "    .dataframe thead th {\n",
       "        text-align: right;\n",
       "    }\n",
       "</style>\n",
       "<table border=\"1\" class=\"dataframe\">\n",
       "  <thead>\n",
       "    <tr style=\"text-align: right;\">\n",
       "      <th></th>\n",
       "      <th>trans_date_trans_time</th>\n",
       "      <th>cc_num</th>\n",
       "      <th>merchant</th>\n",
       "      <th>category</th>\n",
       "      <th>amt</th>\n",
       "      <th>first</th>\n",
       "      <th>last</th>\n",
       "      <th>gender</th>\n",
       "      <th>street</th>\n",
       "      <th>city</th>\n",
       "      <th>...</th>\n",
       "      <th>lat</th>\n",
       "      <th>long</th>\n",
       "      <th>city_pop</th>\n",
       "      <th>job</th>\n",
       "      <th>dob</th>\n",
       "      <th>trans_num</th>\n",
       "      <th>unix_time</th>\n",
       "      <th>merch_lat</th>\n",
       "      <th>merch_long</th>\n",
       "      <th>is_fraud</th>\n",
       "    </tr>\n",
       "  </thead>\n",
       "  <tbody>\n",
       "    <tr>\n",
       "      <th>0</th>\n",
       "      <td>2019-01-01 00:00:18</td>\n",
       "      <td>2703186189652095</td>\n",
       "      <td>fraud_Rippin, Kub and Mann</td>\n",
       "      <td>misc_net</td>\n",
       "      <td>4.97</td>\n",
       "      <td>Jennifer</td>\n",
       "      <td>Banks</td>\n",
       "      <td>F</td>\n",
       "      <td>561 Perry Cove</td>\n",
       "      <td>Moravian Falls</td>\n",
       "      <td>...</td>\n",
       "      <td>36.0788</td>\n",
       "      <td>-81.1781</td>\n",
       "      <td>3495</td>\n",
       "      <td>Psychologist, counselling</td>\n",
       "      <td>1988-03-09</td>\n",
       "      <td>0b242abb623afc578575680df30655b9</td>\n",
       "      <td>1325376018</td>\n",
       "      <td>36.011293</td>\n",
       "      <td>-82.048315</td>\n",
       "      <td>0</td>\n",
       "    </tr>\n",
       "    <tr>\n",
       "      <th>1</th>\n",
       "      <td>2019-01-01 00:00:44</td>\n",
       "      <td>630423337322</td>\n",
       "      <td>fraud_Heller, Gutmann and Zieme</td>\n",
       "      <td>grocery_pos</td>\n",
       "      <td>107.23</td>\n",
       "      <td>Stephanie</td>\n",
       "      <td>Gill</td>\n",
       "      <td>F</td>\n",
       "      <td>43039 Riley Greens Suite 393</td>\n",
       "      <td>Orient</td>\n",
       "      <td>...</td>\n",
       "      <td>48.8878</td>\n",
       "      <td>-118.2105</td>\n",
       "      <td>149</td>\n",
       "      <td>Special educational needs teacher</td>\n",
       "      <td>1978-06-21</td>\n",
       "      <td>1f76529f8574734946361c461b024d99</td>\n",
       "      <td>1325376044</td>\n",
       "      <td>49.159047</td>\n",
       "      <td>-118.186462</td>\n",
       "      <td>0</td>\n",
       "    </tr>\n",
       "    <tr>\n",
       "      <th>2</th>\n",
       "      <td>2019-01-01 00:00:51</td>\n",
       "      <td>38859492057661</td>\n",
       "      <td>fraud_Lind-Buckridge</td>\n",
       "      <td>entertainment</td>\n",
       "      <td>220.11</td>\n",
       "      <td>Edward</td>\n",
       "      <td>Sanchez</td>\n",
       "      <td>M</td>\n",
       "      <td>594 White Dale Suite 530</td>\n",
       "      <td>Malad City</td>\n",
       "      <td>...</td>\n",
       "      <td>42.1808</td>\n",
       "      <td>-112.2620</td>\n",
       "      <td>4154</td>\n",
       "      <td>Nature conservation officer</td>\n",
       "      <td>1962-01-19</td>\n",
       "      <td>a1a22d70485983eac12b5b88dad1cf95</td>\n",
       "      <td>1325376051</td>\n",
       "      <td>43.150704</td>\n",
       "      <td>-112.154481</td>\n",
       "      <td>0</td>\n",
       "    </tr>\n",
       "    <tr>\n",
       "      <th>3</th>\n",
       "      <td>2019-01-01 00:01:16</td>\n",
       "      <td>3534093764340240</td>\n",
       "      <td>fraud_Kutch, Hermiston and Farrell</td>\n",
       "      <td>gas_transport</td>\n",
       "      <td>45.00</td>\n",
       "      <td>Jeremy</td>\n",
       "      <td>White</td>\n",
       "      <td>M</td>\n",
       "      <td>9443 Cynthia Court Apt. 038</td>\n",
       "      <td>Boulder</td>\n",
       "      <td>...</td>\n",
       "      <td>46.2306</td>\n",
       "      <td>-112.1138</td>\n",
       "      <td>1939</td>\n",
       "      <td>Patent attorney</td>\n",
       "      <td>1967-01-12</td>\n",
       "      <td>6b849c168bdad6f867558c3793159a81</td>\n",
       "      <td>1325376076</td>\n",
       "      <td>47.034331</td>\n",
       "      <td>-112.561071</td>\n",
       "      <td>0</td>\n",
       "    </tr>\n",
       "    <tr>\n",
       "      <th>4</th>\n",
       "      <td>2019-01-01 00:03:06</td>\n",
       "      <td>375534208663984</td>\n",
       "      <td>fraud_Keeling-Crist</td>\n",
       "      <td>misc_pos</td>\n",
       "      <td>41.96</td>\n",
       "      <td>Tyler</td>\n",
       "      <td>Garcia</td>\n",
       "      <td>M</td>\n",
       "      <td>408 Bradley Rest</td>\n",
       "      <td>Doe Hill</td>\n",
       "      <td>...</td>\n",
       "      <td>38.4207</td>\n",
       "      <td>-79.4629</td>\n",
       "      <td>99</td>\n",
       "      <td>Dance movement psychotherapist</td>\n",
       "      <td>1986-03-28</td>\n",
       "      <td>a41d7549acf90789359a9aa5346dcb46</td>\n",
       "      <td>1325376186</td>\n",
       "      <td>38.674999</td>\n",
       "      <td>-78.632459</td>\n",
       "      <td>0</td>\n",
       "    </tr>\n",
       "  </tbody>\n",
       "</table>\n",
       "<p>5 rows × 22 columns</p>\n",
       "</div>"
      ],
      "text/plain": [
       "  trans_date_trans_time            cc_num                            merchant  \\\n",
       "0   2019-01-01 00:00:18  2703186189652095          fraud_Rippin, Kub and Mann   \n",
       "1   2019-01-01 00:00:44      630423337322     fraud_Heller, Gutmann and Zieme   \n",
       "2   2019-01-01 00:00:51    38859492057661                fraud_Lind-Buckridge   \n",
       "3   2019-01-01 00:01:16  3534093764340240  fraud_Kutch, Hermiston and Farrell   \n",
       "4   2019-01-01 00:03:06   375534208663984                 fraud_Keeling-Crist   \n",
       "\n",
       "        category     amt      first     last gender  \\\n",
       "0       misc_net    4.97   Jennifer    Banks      F   \n",
       "1    grocery_pos  107.23  Stephanie     Gill      F   \n",
       "2  entertainment  220.11     Edward  Sanchez      M   \n",
       "3  gas_transport   45.00     Jeremy    White      M   \n",
       "4       misc_pos   41.96      Tyler   Garcia      M   \n",
       "\n",
       "                         street            city  ...      lat      long  \\\n",
       "0                561 Perry Cove  Moravian Falls  ...  36.0788  -81.1781   \n",
       "1  43039 Riley Greens Suite 393          Orient  ...  48.8878 -118.2105   \n",
       "2      594 White Dale Suite 530      Malad City  ...  42.1808 -112.2620   \n",
       "3   9443 Cynthia Court Apt. 038         Boulder  ...  46.2306 -112.1138   \n",
       "4              408 Bradley Rest        Doe Hill  ...  38.4207  -79.4629   \n",
       "\n",
       "   city_pop                                job         dob  \\\n",
       "0      3495          Psychologist, counselling  1988-03-09   \n",
       "1       149  Special educational needs teacher  1978-06-21   \n",
       "2      4154        Nature conservation officer  1962-01-19   \n",
       "3      1939                    Patent attorney  1967-01-12   \n",
       "4        99     Dance movement psychotherapist  1986-03-28   \n",
       "\n",
       "                          trans_num   unix_time  merch_lat  merch_long  \\\n",
       "0  0b242abb623afc578575680df30655b9  1325376018  36.011293  -82.048315   \n",
       "1  1f76529f8574734946361c461b024d99  1325376044  49.159047 -118.186462   \n",
       "2  a1a22d70485983eac12b5b88dad1cf95  1325376051  43.150704 -112.154481   \n",
       "3  6b849c168bdad6f867558c3793159a81  1325376076  47.034331 -112.561071   \n",
       "4  a41d7549acf90789359a9aa5346dcb46  1325376186  38.674999  -78.632459   \n",
       "\n",
       "   is_fraud  \n",
       "0         0  \n",
       "1         0  \n",
       "2         0  \n",
       "3         0  \n",
       "4         0  \n",
       "\n",
       "[5 rows x 22 columns]"
      ]
     },
     "execution_count": 4,
     "metadata": {},
     "output_type": "execute_result"
    }
   ],
   "source": [
    "#combining trian and test datasets\n",
    "fraud = pd.concat([pd.read_csv('Data/fraudTrain.csv'),\n",
    "                pd.read_csv('Data/fraudTest.csv')],\n",
    "               ignore_index=True) #read the csv file\n",
    "fraud.drop('Unnamed: 0',axis=1,inplace=True) #unnecessary column, it copied the index into another column\n",
    "fraud.head(5) # display the top 5 rows"
   ]
  },
  {
   "cell_type": "code",
   "execution_count": 5,
   "id": "6c73c830",
   "metadata": {},
   "outputs": [
    {
     "data": {
      "text/plain": [
       "Index(['trans_date_trans_time', 'cc_num', 'merchant', 'category', 'amt',\n",
       "       'first', 'last', 'gender', 'street', 'city', 'state', 'zip', 'lat',\n",
       "       'long', 'city_pop', 'job', 'dob', 'trans_num', 'unix_time', 'merch_lat',\n",
       "       'merch_long', 'is_fraud'],\n",
       "      dtype='object')"
      ]
     },
     "execution_count": 5,
     "metadata": {},
     "output_type": "execute_result"
    }
   ],
   "source": [
    "fraud.columns"
   ]
  },
  {
   "cell_type": "markdown",
   "id": "2027c610",
   "metadata": {},
   "source": [
    "This data set has allot more catergorical data, including a time stamp, which could be used for time series algorithm. It also gives us longtitude and latidude, so we can plot some geographic data. This is probably so that we can compare the transactions lontitude latiude with the merch long and latidude, to see if the difference ein geolocation leads to fraud."
   ]
  },
  {
   "cell_type": "markdown",
   "id": "cdae722f",
   "metadata": {},
   "source": [
    "- merch_lat -> lattitude of the merchant\n",
    "- merch_long -> longitude of merchant\n",
    "- lat -> transaction lattitude\n",
    "- long -> transaction longitude"
   ]
  },
  {
   "cell_type": "markdown",
   "id": "cb279ea5",
   "metadata": {},
   "source": [
    "It also gives us DOB, so we can compare if the age of card holders has any correlation with fraud or not."
   ]
  },
  {
   "cell_type": "markdown",
   "id": "81a2e0f8",
   "metadata": {},
   "source": [
    "- dob -> date of birth of card holder"
   ]
  },
  {
   "cell_type": "code",
   "execution_count": 6,
   "id": "ccf4aaff",
   "metadata": {},
   "outputs": [
    {
     "data": {
      "text/plain": [
       "0    1842743\n",
       "1       9651\n",
       "Name: is_fraud, dtype: int64"
      ]
     },
     "execution_count": 6,
     "metadata": {},
     "output_type": "execute_result"
    }
   ],
   "source": [
    "fraud.is_fraud.value_counts()"
   ]
  },
  {
   "cell_type": "markdown",
   "id": "bb8adefe",
   "metadata": {},
   "source": [
    "This data also has very little amount of data for actual frauds. This can affect the prediction outcome. we will have to perform some sort of scaling to improve this."
   ]
  },
  {
   "cell_type": "markdown",
   "id": "ad668362",
   "metadata": {},
   "source": [
    "### I will use both datasets and see which one will get the better result in the end\n"
   ]
  },
  {
   "cell_type": "markdown",
   "id": "4ffb6e39",
   "metadata": {},
   "source": [
    "I think comparing numerical data and catergorical datasets can be interesting to see which one yields a better result. I also feel like I will be able to show my skills well my doing both datasets, since they both need different approaches in the data preparation and preproccesing, I can try many things and showcase my skills."
   ]
  },
  {
   "cell_type": "markdown",
   "id": "1bc88d70",
   "metadata": {},
   "source": [
    "# 🔹Analytic approach"
   ]
  },
  {
   "cell_type": "markdown",
   "id": "68548ce9",
   "metadata": {},
   "source": [
    "In an analytic approach we decide the target variable and we find the nature of the problem."
   ]
  },
  {
   "cell_type": "markdown",
   "id": "f31e7c61",
   "metadata": {},
   "source": [
    "Our <b>target variable</b> will be “is it credit card fraud or not?” \n",
    "This shows in dataset 1 as “class”= “1”or ”0”. In dataset 2 it is shown as “is_fraud”=”1”or ”0”.\n",
    "1 meaning, yes there is credit card fraud.\n",
    "0 meaning, no there is no credit card fraud.\n",
    "Having a binary target variable will make certain predictions easier. and more accurate.\n"
   ]
  },
  {
   "attachments": {
    "algo.png": {
     "image/png": "[encoded data removed]"
    }
   },
   "cell_type": "markdown",
   "id": "d558bfed",
   "metadata": {},
   "source": [
    "![algo.png](attachment:algo.png)"
   ]
  },
  {
   "cell_type": "markdown",
   "id": "2b75dffa",
   "metadata": {},
   "source": [
    " Our problem is definitely “is this A or B” so a classification algorithm could be applied here. since our main research problem is “Is this credit card fraud or not?”\n",
    "Other possible algorithms that could be used is the regression algorithm, we could rephrase the question and ask “how many credit card frauds were there/are there going to be?”. This would also then fit the regression algorithm.\n"
   ]
  },
  {
   "cell_type": "markdown",
   "id": "2cf2df91",
   "metadata": {},
   "source": [
    "specific algorithms I will try:"
   ]
  },
  {
   "cell_type": "markdown",
   "id": "1c0eb6d7",
   "metadata": {},
   "source": [
    "- Logistic regression\n",
    "- Decision tree\n",
    "- Random forest\n"
   ]
  },
  {
   "cell_type": "markdown",
   "id": "bb6a3c73",
   "metadata": {},
   "source": [
    "\n"
   ]
  },
  {
   "cell_type": "markdown",
   "id": "c14ae0b4",
   "metadata": {},
   "source": [
    "# 🔷 Provisioning"
   ]
  },
  {
   "cell_type": "markdown",
   "id": "aa6f1516",
   "metadata": {},
   "source": [
    "## 🔹Data requirements\n"
   ]
  },
  {
   "cell_type": "markdown",
   "id": "792d0479",
   "metadata": {},
   "source": [
    "The high level functions and capabilities of the domain start ofcourse at credit card fraud victims, to banks of the credit card fraud, untill entire countries economies can get affected."
   ]
  },
  {
   "cell_type": "markdown",
   "id": "6e6cf0ea",
   "metadata": {},
   "source": [
    "###### ◽️ Stakeholders"
   ]
  },
  {
   "cell_type": "markdown",
   "id": "372a0a4b",
   "metadata": {},
   "source": [
    "People who could benefit of this research are:\n",
    "- <b>Individual credit card holders</b>\n",
    "\n",
    "  People who own a credit card and are afraid they're being scammed could benefit of this research. They could determine whether   or not they are experiencing credit card or not via this research.\n",
    "  \n",
    "  \n",
    "- <b>Banks</b>\n",
    "\n",
    "  Banks have many customers who can suffer from credit card fraud, they could use this research to secure their clients and\n",
    "  possibly prevent credit card fraud. \n",
    "  \n",
    "  \n",
    "- <b>Companies</b>\n",
    "  \n",
    "  So who foots the bill when a thief uses your credit card or its number to illegally buy stuff? The short answer is it’s typically the merchant where you bought something or the bank that issued the credit card. It depends on the circumstances."
   ]
  },
  {
   "cell_type": "markdown",
   "id": "96e56621",
   "metadata": {},
   "source": [
    "https://www.nerdwallet.com/article/credit-cards/merchants-victims-credit-card-fraud"
   ]
  },
  {
   "cell_type": "markdown",
   "id": "3cbe2958",
   "metadata": {},
   "source": [
    "###### ◽️ Required data elements"
   ]
  },
  {
   "cell_type": "markdown",
   "id": "cb16fdf8",
   "metadata": {},
   "source": [
    "For the required data elements, ofcourse the data has to be readable. You have to be able to understand the data. Everything has to be logically organized. "
   ]
  },
  {
   "cell_type": "markdown",
   "id": "0aa66d77",
   "metadata": {},
   "source": [
    "#### Data Dictionary\n",
    "- trans_date_trans_time = Transaction time stamp\n",
    "- cc_num = Credit card number\n",
    "- merchant = merchant name\n",
    "- category = transaction category\n",
    "- amt = Transaction amount\n",
    "- first = First name of card holder\n",
    "- last = Last name of card holder\n",
    "- gender = Sex of card holder\n",
    "- street = transaction address\n",
    "- city = transaction city\n",
    "- state = transaction state\n",
    "- zip = transaction zipcode\n",
    "- lat = transaction lattitude\n",
    "- long = transaction longitude\n",
    "- city_pop = Population of the city\n",
    "- job = job of the card holder\n",
    "- dob = date of birth of card holder\n",
    "- trans_num = transaction number of transaction\n",
    "- unix_time = time in unix format\n",
    "- merch_lat = lattitude of the merchant\n",
    "- merch_long = longitude of merchant\n",
    "- is_fraud = nature of transaction (fraud or not fraud)"
   ]
  },
  {
   "cell_type": "markdown",
   "id": "14c82cbf",
   "metadata": {},
   "source": [
    "#### Facts & Dimensions"
   ]
  },
  {
   "cell_type": "markdown",
   "id": "68904266",
   "metadata": {},
   "source": [
    "We have allot of columns in our dataset its is good to know what is a facts and what is a dimension. It is a good to way to get to know your data and organize it."
   ]
  },
  {
   "cell_type": "markdown",
   "id": "7b6bc949",
   "metadata": {},
   "source": [
    "Facts are usually something you are able to calculate.\n",
    "\n",
    "◼️ Facts:\n",
    "\n",
    "    ▪️ amt: Best example of a \"fact\" is the amount of money, in this case the amount of money they got scammed\n",
    "    ▪️ unix_time: the unix time format is a more easier way to calculate time passed.\n",
    "    \n",
    "Most dimensions require to be organized, the best example of this is a date.\n",
    "    \n",
    "◻️ Dimensions:\n",
    "\n",
    "    ▫️ trans_date_trans_time: The time/date is very important, you gather hierachy and grain and all kinds of important info\n",
    "    ▫️ Longtitude and latitude : location is an important dimension, it accompanies a fact. Same for; Zip,City,State.\n",
    "    ▫️ Job: knowing a person job is an interesting dimension and category to know. Same for:Name, gender and dob\n",
    "    ▫️ category: is the transaction category, it is good to know in relation to the fact: amount.\n",
    "    ▫️ is_fraud: Our target variable, the most important category\n",
    "    "
   ]
  },
  {
   "cell_type": "markdown",
   "id": "c74c1889",
   "metadata": {},
   "source": [
    "## 🔹Data collection"
   ]
  },
  {
   "cell_type": "markdown",
   "id": "d8ab1f3b",
   "metadata": {},
   "source": [
    "In this section we will focus on how we are going to collect the data"
   ]
  },
  {
   "cell_type": "markdown",
   "id": "cb9a0b09",
   "metadata": {},
   "source": [
    "I have taken both datasets form their kaggle page."
   ]
  },
  {
   "cell_type": "markdown",
   "id": "ea5ce57c",
   "metadata": {},
   "source": [
    "We currently have 2 datasets. 1 with mainly numercial data and the 2 with mainly categorical data. To keep things clear we name them so:\n"
   ]
  },
  {
   "cell_type": "code",
   "execution_count": 7,
   "id": "122a6a65",
   "metadata": {},
   "outputs": [
    {
     "data": {
      "text/html": [
       "<div>\n",
       "<style scoped>\n",
       "    .dataframe tbody tr th:only-of-type {\n",
       "        vertical-align: middle;\n",
       "    }\n",
       "\n",
       "    .dataframe tbody tr th {\n",
       "        vertical-align: top;\n",
       "    }\n",
       "\n",
       "    .dataframe thead th {\n",
       "        text-align: right;\n",
       "    }\n",
       "</style>\n",
       "<table border=\"1\" class=\"dataframe\">\n",
       "  <thead>\n",
       "    <tr style=\"text-align: right;\">\n",
       "      <th></th>\n",
       "      <th>Time</th>\n",
       "      <th>V1</th>\n",
       "      <th>V2</th>\n",
       "      <th>V3</th>\n",
       "      <th>V4</th>\n",
       "      <th>V5</th>\n",
       "      <th>V6</th>\n",
       "      <th>V7</th>\n",
       "      <th>V8</th>\n",
       "      <th>V9</th>\n",
       "      <th>...</th>\n",
       "      <th>V21</th>\n",
       "      <th>V22</th>\n",
       "      <th>V23</th>\n",
       "      <th>V24</th>\n",
       "      <th>V25</th>\n",
       "      <th>V26</th>\n",
       "      <th>V27</th>\n",
       "      <th>V28</th>\n",
       "      <th>Amount</th>\n",
       "      <th>Class</th>\n",
       "    </tr>\n",
       "  </thead>\n",
       "  <tbody>\n",
       "    <tr>\n",
       "      <th>0</th>\n",
       "      <td>0.0</td>\n",
       "      <td>-1.359807</td>\n",
       "      <td>-0.072781</td>\n",
       "      <td>2.536347</td>\n",
       "      <td>1.378155</td>\n",
       "      <td>-0.338321</td>\n",
       "      <td>0.462388</td>\n",
       "      <td>0.239599</td>\n",
       "      <td>0.098698</td>\n",
       "      <td>0.363787</td>\n",
       "      <td>...</td>\n",
       "      <td>-0.018307</td>\n",
       "      <td>0.277838</td>\n",
       "      <td>-0.110474</td>\n",
       "      <td>0.066928</td>\n",
       "      <td>0.128539</td>\n",
       "      <td>-0.189115</td>\n",
       "      <td>0.133558</td>\n",
       "      <td>-0.021053</td>\n",
       "      <td>149.62</td>\n",
       "      <td>0</td>\n",
       "    </tr>\n",
       "    <tr>\n",
       "      <th>1</th>\n",
       "      <td>0.0</td>\n",
       "      <td>1.191857</td>\n",
       "      <td>0.266151</td>\n",
       "      <td>0.166480</td>\n",
       "      <td>0.448154</td>\n",
       "      <td>0.060018</td>\n",
       "      <td>-0.082361</td>\n",
       "      <td>-0.078803</td>\n",
       "      <td>0.085102</td>\n",
       "      <td>-0.255425</td>\n",
       "      <td>...</td>\n",
       "      <td>-0.225775</td>\n",
       "      <td>-0.638672</td>\n",
       "      <td>0.101288</td>\n",
       "      <td>-0.339846</td>\n",
       "      <td>0.167170</td>\n",
       "      <td>0.125895</td>\n",
       "      <td>-0.008983</td>\n",
       "      <td>0.014724</td>\n",
       "      <td>2.69</td>\n",
       "      <td>0</td>\n",
       "    </tr>\n",
       "    <tr>\n",
       "      <th>2</th>\n",
       "      <td>1.0</td>\n",
       "      <td>-1.358354</td>\n",
       "      <td>-1.340163</td>\n",
       "      <td>1.773209</td>\n",
       "      <td>0.379780</td>\n",
       "      <td>-0.503198</td>\n",
       "      <td>1.800499</td>\n",
       "      <td>0.791461</td>\n",
       "      <td>0.247676</td>\n",
       "      <td>-1.514654</td>\n",
       "      <td>...</td>\n",
       "      <td>0.247998</td>\n",
       "      <td>0.771679</td>\n",
       "      <td>0.909412</td>\n",
       "      <td>-0.689281</td>\n",
       "      <td>-0.327642</td>\n",
       "      <td>-0.139097</td>\n",
       "      <td>-0.055353</td>\n",
       "      <td>-0.059752</td>\n",
       "      <td>378.66</td>\n",
       "      <td>0</td>\n",
       "    </tr>\n",
       "    <tr>\n",
       "      <th>3</th>\n",
       "      <td>1.0</td>\n",
       "      <td>-0.966272</td>\n",
       "      <td>-0.185226</td>\n",
       "      <td>1.792993</td>\n",
       "      <td>-0.863291</td>\n",
       "      <td>-0.010309</td>\n",
       "      <td>1.247203</td>\n",
       "      <td>0.237609</td>\n",
       "      <td>0.377436</td>\n",
       "      <td>-1.387024</td>\n",
       "      <td>...</td>\n",
       "      <td>-0.108300</td>\n",
       "      <td>0.005274</td>\n",
       "      <td>-0.190321</td>\n",
       "      <td>-1.175575</td>\n",
       "      <td>0.647376</td>\n",
       "      <td>-0.221929</td>\n",
       "      <td>0.062723</td>\n",
       "      <td>0.061458</td>\n",
       "      <td>123.50</td>\n",
       "      <td>0</td>\n",
       "    </tr>\n",
       "    <tr>\n",
       "      <th>4</th>\n",
       "      <td>2.0</td>\n",
       "      <td>-1.158233</td>\n",
       "      <td>0.877737</td>\n",
       "      <td>1.548718</td>\n",
       "      <td>0.403034</td>\n",
       "      <td>-0.407193</td>\n",
       "      <td>0.095921</td>\n",
       "      <td>0.592941</td>\n",
       "      <td>-0.270533</td>\n",
       "      <td>0.817739</td>\n",
       "      <td>...</td>\n",
       "      <td>-0.009431</td>\n",
       "      <td>0.798278</td>\n",
       "      <td>-0.137458</td>\n",
       "      <td>0.141267</td>\n",
       "      <td>-0.206010</td>\n",
       "      <td>0.502292</td>\n",
       "      <td>0.219422</td>\n",
       "      <td>0.215153</td>\n",
       "      <td>69.99</td>\n",
       "      <td>0</td>\n",
       "    </tr>\n",
       "    <tr>\n",
       "      <th>...</th>\n",
       "      <td>...</td>\n",
       "      <td>...</td>\n",
       "      <td>...</td>\n",
       "      <td>...</td>\n",
       "      <td>...</td>\n",
       "      <td>...</td>\n",
       "      <td>...</td>\n",
       "      <td>...</td>\n",
       "      <td>...</td>\n",
       "      <td>...</td>\n",
       "      <td>...</td>\n",
       "      <td>...</td>\n",
       "      <td>...</td>\n",
       "      <td>...</td>\n",
       "      <td>...</td>\n",
       "      <td>...</td>\n",
       "      <td>...</td>\n",
       "      <td>...</td>\n",
       "      <td>...</td>\n",
       "      <td>...</td>\n",
       "      <td>...</td>\n",
       "    </tr>\n",
       "    <tr>\n",
       "      <th>284802</th>\n",
       "      <td>172786.0</td>\n",
       "      <td>-11.881118</td>\n",
       "      <td>10.071785</td>\n",
       "      <td>-9.834783</td>\n",
       "      <td>-2.066656</td>\n",
       "      <td>-5.364473</td>\n",
       "      <td>-2.606837</td>\n",
       "      <td>-4.918215</td>\n",
       "      <td>7.305334</td>\n",
       "      <td>1.914428</td>\n",
       "      <td>...</td>\n",
       "      <td>0.213454</td>\n",
       "      <td>0.111864</td>\n",
       "      <td>1.014480</td>\n",
       "      <td>-0.509348</td>\n",
       "      <td>1.436807</td>\n",
       "      <td>0.250034</td>\n",
       "      <td>0.943651</td>\n",
       "      <td>0.823731</td>\n",
       "      <td>0.77</td>\n",
       "      <td>0</td>\n",
       "    </tr>\n",
       "    <tr>\n",
       "      <th>284803</th>\n",
       "      <td>172787.0</td>\n",
       "      <td>-0.732789</td>\n",
       "      <td>-0.055080</td>\n",
       "      <td>2.035030</td>\n",
       "      <td>-0.738589</td>\n",
       "      <td>0.868229</td>\n",
       "      <td>1.058415</td>\n",
       "      <td>0.024330</td>\n",
       "      <td>0.294869</td>\n",
       "      <td>0.584800</td>\n",
       "      <td>...</td>\n",
       "      <td>0.214205</td>\n",
       "      <td>0.924384</td>\n",
       "      <td>0.012463</td>\n",
       "      <td>-1.016226</td>\n",
       "      <td>-0.606624</td>\n",
       "      <td>-0.395255</td>\n",
       "      <td>0.068472</td>\n",
       "      <td>-0.053527</td>\n",
       "      <td>24.79</td>\n",
       "      <td>0</td>\n",
       "    </tr>\n",
       "    <tr>\n",
       "      <th>284804</th>\n",
       "      <td>172788.0</td>\n",
       "      <td>1.919565</td>\n",
       "      <td>-0.301254</td>\n",
       "      <td>-3.249640</td>\n",
       "      <td>-0.557828</td>\n",
       "      <td>2.630515</td>\n",
       "      <td>3.031260</td>\n",
       "      <td>-0.296827</td>\n",
       "      <td>0.708417</td>\n",
       "      <td>0.432454</td>\n",
       "      <td>...</td>\n",
       "      <td>0.232045</td>\n",
       "      <td>0.578229</td>\n",
       "      <td>-0.037501</td>\n",
       "      <td>0.640134</td>\n",
       "      <td>0.265745</td>\n",
       "      <td>-0.087371</td>\n",
       "      <td>0.004455</td>\n",
       "      <td>-0.026561</td>\n",
       "      <td>67.88</td>\n",
       "      <td>0</td>\n",
       "    </tr>\n",
       "    <tr>\n",
       "      <th>284805</th>\n",
       "      <td>172788.0</td>\n",
       "      <td>-0.240440</td>\n",
       "      <td>0.530483</td>\n",
       "      <td>0.702510</td>\n",
       "      <td>0.689799</td>\n",
       "      <td>-0.377961</td>\n",
       "      <td>0.623708</td>\n",
       "      <td>-0.686180</td>\n",
       "      <td>0.679145</td>\n",
       "      <td>0.392087</td>\n",
       "      <td>...</td>\n",
       "      <td>0.265245</td>\n",
       "      <td>0.800049</td>\n",
       "      <td>-0.163298</td>\n",
       "      <td>0.123205</td>\n",
       "      <td>-0.569159</td>\n",
       "      <td>0.546668</td>\n",
       "      <td>0.108821</td>\n",
       "      <td>0.104533</td>\n",
       "      <td>10.00</td>\n",
       "      <td>0</td>\n",
       "    </tr>\n",
       "    <tr>\n",
       "      <th>284806</th>\n",
       "      <td>172792.0</td>\n",
       "      <td>-0.533413</td>\n",
       "      <td>-0.189733</td>\n",
       "      <td>0.703337</td>\n",
       "      <td>-0.506271</td>\n",
       "      <td>-0.012546</td>\n",
       "      <td>-0.649617</td>\n",
       "      <td>1.577006</td>\n",
       "      <td>-0.414650</td>\n",
       "      <td>0.486180</td>\n",
       "      <td>...</td>\n",
       "      <td>0.261057</td>\n",
       "      <td>0.643078</td>\n",
       "      <td>0.376777</td>\n",
       "      <td>0.008797</td>\n",
       "      <td>-0.473649</td>\n",
       "      <td>-0.818267</td>\n",
       "      <td>-0.002415</td>\n",
       "      <td>0.013649</td>\n",
       "      <td>217.00</td>\n",
       "      <td>0</td>\n",
       "    </tr>\n",
       "  </tbody>\n",
       "</table>\n",
       "<p>284807 rows × 31 columns</p>\n",
       "</div>"
      ],
      "text/plain": [
       "            Time         V1         V2        V3        V4        V5  \\\n",
       "0            0.0  -1.359807  -0.072781  2.536347  1.378155 -0.338321   \n",
       "1            0.0   1.191857   0.266151  0.166480  0.448154  0.060018   \n",
       "2            1.0  -1.358354  -1.340163  1.773209  0.379780 -0.503198   \n",
       "3            1.0  -0.966272  -0.185226  1.792993 -0.863291 -0.010309   \n",
       "4            2.0  -1.158233   0.877737  1.548718  0.403034 -0.407193   \n",
       "...          ...        ...        ...       ...       ...       ...   \n",
       "284802  172786.0 -11.881118  10.071785 -9.834783 -2.066656 -5.364473   \n",
       "284803  172787.0  -0.732789  -0.055080  2.035030 -0.738589  0.868229   \n",
       "284804  172788.0   1.919565  -0.301254 -3.249640 -0.557828  2.630515   \n",
       "284805  172788.0  -0.240440   0.530483  0.702510  0.689799 -0.377961   \n",
       "284806  172792.0  -0.533413  -0.189733  0.703337 -0.506271 -0.012546   \n",
       "\n",
       "              V6        V7        V8        V9  ...       V21       V22  \\\n",
       "0       0.462388  0.239599  0.098698  0.363787  ... -0.018307  0.277838   \n",
       "1      -0.082361 -0.078803  0.085102 -0.255425  ... -0.225775 -0.638672   \n",
       "2       1.800499  0.791461  0.247676 -1.514654  ...  0.247998  0.771679   \n",
       "3       1.247203  0.237609  0.377436 -1.387024  ... -0.108300  0.005274   \n",
       "4       0.095921  0.592941 -0.270533  0.817739  ... -0.009431  0.798278   \n",
       "...          ...       ...       ...       ...  ...       ...       ...   \n",
       "284802 -2.606837 -4.918215  7.305334  1.914428  ...  0.213454  0.111864   \n",
       "284803  1.058415  0.024330  0.294869  0.584800  ...  0.214205  0.924384   \n",
       "284804  3.031260 -0.296827  0.708417  0.432454  ...  0.232045  0.578229   \n",
       "284805  0.623708 -0.686180  0.679145  0.392087  ...  0.265245  0.800049   \n",
       "284806 -0.649617  1.577006 -0.414650  0.486180  ...  0.261057  0.643078   \n",
       "\n",
       "             V23       V24       V25       V26       V27       V28  Amount  \\\n",
       "0      -0.110474  0.066928  0.128539 -0.189115  0.133558 -0.021053  149.62   \n",
       "1       0.101288 -0.339846  0.167170  0.125895 -0.008983  0.014724    2.69   \n",
       "2       0.909412 -0.689281 -0.327642 -0.139097 -0.055353 -0.059752  378.66   \n",
       "3      -0.190321 -1.175575  0.647376 -0.221929  0.062723  0.061458  123.50   \n",
       "4      -0.137458  0.141267 -0.206010  0.502292  0.219422  0.215153   69.99   \n",
       "...          ...       ...       ...       ...       ...       ...     ...   \n",
       "284802  1.014480 -0.509348  1.436807  0.250034  0.943651  0.823731    0.77   \n",
       "284803  0.012463 -1.016226 -0.606624 -0.395255  0.068472 -0.053527   24.79   \n",
       "284804 -0.037501  0.640134  0.265745 -0.087371  0.004455 -0.026561   67.88   \n",
       "284805 -0.163298  0.123205 -0.569159  0.546668  0.108821  0.104533   10.00   \n",
       "284806  0.376777  0.008797 -0.473649 -0.818267 -0.002415  0.013649  217.00   \n",
       "\n",
       "        Class  \n",
       "0           0  \n",
       "1           0  \n",
       "2           0  \n",
       "3           0  \n",
       "4           0  \n",
       "...       ...  \n",
       "284802      0  \n",
       "284803      0  \n",
       "284804      0  \n",
       "284805      0  \n",
       "284806      0  \n",
       "\n",
       "[284807 rows x 31 columns]"
      ]
     },
     "execution_count": 7,
     "metadata": {},
     "output_type": "execute_result"
    }
   ],
   "source": [
    "num = df #df is previous name of the dataset 1\n",
    "num"
   ]
  },
  {
   "cell_type": "code",
   "execution_count": 8,
   "id": "ff72f493",
   "metadata": {},
   "outputs": [
    {
     "data": {
      "text/html": [
       "<div>\n",
       "<style scoped>\n",
       "    .dataframe tbody tr th:only-of-type {\n",
       "        vertical-align: middle;\n",
       "    }\n",
       "\n",
       "    .dataframe tbody tr th {\n",
       "        vertical-align: top;\n",
       "    }\n",
       "\n",
       "    .dataframe thead th {\n",
       "        text-align: right;\n",
       "    }\n",
       "</style>\n",
       "<table border=\"1\" class=\"dataframe\">\n",
       "  <thead>\n",
       "    <tr style=\"text-align: right;\">\n",
       "      <th></th>\n",
       "      <th>trans_date_trans_time</th>\n",
       "      <th>cc_num</th>\n",
       "      <th>merchant</th>\n",
       "      <th>category</th>\n",
       "      <th>amt</th>\n",
       "      <th>first</th>\n",
       "      <th>last</th>\n",
       "      <th>gender</th>\n",
       "      <th>street</th>\n",
       "      <th>city</th>\n",
       "      <th>...</th>\n",
       "      <th>lat</th>\n",
       "      <th>long</th>\n",
       "      <th>city_pop</th>\n",
       "      <th>job</th>\n",
       "      <th>dob</th>\n",
       "      <th>trans_num</th>\n",
       "      <th>unix_time</th>\n",
       "      <th>merch_lat</th>\n",
       "      <th>merch_long</th>\n",
       "      <th>is_fraud</th>\n",
       "    </tr>\n",
       "  </thead>\n",
       "  <tbody>\n",
       "    <tr>\n",
       "      <th>0</th>\n",
       "      <td>2019-01-01 00:00:18</td>\n",
       "      <td>2703186189652095</td>\n",
       "      <td>fraud_Rippin, Kub and Mann</td>\n",
       "      <td>misc_net</td>\n",
       "      <td>4.97</td>\n",
       "      <td>Jennifer</td>\n",
       "      <td>Banks</td>\n",
       "      <td>F</td>\n",
       "      <td>561 Perry Cove</td>\n",
       "      <td>Moravian Falls</td>\n",
       "      <td>...</td>\n",
       "      <td>36.0788</td>\n",
       "      <td>-81.1781</td>\n",
       "      <td>3495</td>\n",
       "      <td>Psychologist, counselling</td>\n",
       "      <td>1988-03-09</td>\n",
       "      <td>0b242abb623afc578575680df30655b9</td>\n",
       "      <td>1325376018</td>\n",
       "      <td>36.011293</td>\n",
       "      <td>-82.048315</td>\n",
       "      <td>0</td>\n",
       "    </tr>\n",
       "    <tr>\n",
       "      <th>1</th>\n",
       "      <td>2019-01-01 00:00:44</td>\n",
       "      <td>630423337322</td>\n",
       "      <td>fraud_Heller, Gutmann and Zieme</td>\n",
       "      <td>grocery_pos</td>\n",
       "      <td>107.23</td>\n",
       "      <td>Stephanie</td>\n",
       "      <td>Gill</td>\n",
       "      <td>F</td>\n",
       "      <td>43039 Riley Greens Suite 393</td>\n",
       "      <td>Orient</td>\n",
       "      <td>...</td>\n",
       "      <td>48.8878</td>\n",
       "      <td>-118.2105</td>\n",
       "      <td>149</td>\n",
       "      <td>Special educational needs teacher</td>\n",
       "      <td>1978-06-21</td>\n",
       "      <td>1f76529f8574734946361c461b024d99</td>\n",
       "      <td>1325376044</td>\n",
       "      <td>49.159047</td>\n",
       "      <td>-118.186462</td>\n",
       "      <td>0</td>\n",
       "    </tr>\n",
       "    <tr>\n",
       "      <th>2</th>\n",
       "      <td>2019-01-01 00:00:51</td>\n",
       "      <td>38859492057661</td>\n",
       "      <td>fraud_Lind-Buckridge</td>\n",
       "      <td>entertainment</td>\n",
       "      <td>220.11</td>\n",
       "      <td>Edward</td>\n",
       "      <td>Sanchez</td>\n",
       "      <td>M</td>\n",
       "      <td>594 White Dale Suite 530</td>\n",
       "      <td>Malad City</td>\n",
       "      <td>...</td>\n",
       "      <td>42.1808</td>\n",
       "      <td>-112.2620</td>\n",
       "      <td>4154</td>\n",
       "      <td>Nature conservation officer</td>\n",
       "      <td>1962-01-19</td>\n",
       "      <td>a1a22d70485983eac12b5b88dad1cf95</td>\n",
       "      <td>1325376051</td>\n",
       "      <td>43.150704</td>\n",
       "      <td>-112.154481</td>\n",
       "      <td>0</td>\n",
       "    </tr>\n",
       "    <tr>\n",
       "      <th>3</th>\n",
       "      <td>2019-01-01 00:01:16</td>\n",
       "      <td>3534093764340240</td>\n",
       "      <td>fraud_Kutch, Hermiston and Farrell</td>\n",
       "      <td>gas_transport</td>\n",
       "      <td>45.00</td>\n",
       "      <td>Jeremy</td>\n",
       "      <td>White</td>\n",
       "      <td>M</td>\n",
       "      <td>9443 Cynthia Court Apt. 038</td>\n",
       "      <td>Boulder</td>\n",
       "      <td>...</td>\n",
       "      <td>46.2306</td>\n",
       "      <td>-112.1138</td>\n",
       "      <td>1939</td>\n",
       "      <td>Patent attorney</td>\n",
       "      <td>1967-01-12</td>\n",
       "      <td>6b849c168bdad6f867558c3793159a81</td>\n",
       "      <td>1325376076</td>\n",
       "      <td>47.034331</td>\n",
       "      <td>-112.561071</td>\n",
       "      <td>0</td>\n",
       "    </tr>\n",
       "    <tr>\n",
       "      <th>4</th>\n",
       "      <td>2019-01-01 00:03:06</td>\n",
       "      <td>375534208663984</td>\n",
       "      <td>fraud_Keeling-Crist</td>\n",
       "      <td>misc_pos</td>\n",
       "      <td>41.96</td>\n",
       "      <td>Tyler</td>\n",
       "      <td>Garcia</td>\n",
       "      <td>M</td>\n",
       "      <td>408 Bradley Rest</td>\n",
       "      <td>Doe Hill</td>\n",
       "      <td>...</td>\n",
       "      <td>38.4207</td>\n",
       "      <td>-79.4629</td>\n",
       "      <td>99</td>\n",
       "      <td>Dance movement psychotherapist</td>\n",
       "      <td>1986-03-28</td>\n",
       "      <td>a41d7549acf90789359a9aa5346dcb46</td>\n",
       "      <td>1325376186</td>\n",
       "      <td>38.674999</td>\n",
       "      <td>-78.632459</td>\n",
       "      <td>0</td>\n",
       "    </tr>\n",
       "    <tr>\n",
       "      <th>...</th>\n",
       "      <td>...</td>\n",
       "      <td>...</td>\n",
       "      <td>...</td>\n",
       "      <td>...</td>\n",
       "      <td>...</td>\n",
       "      <td>...</td>\n",
       "      <td>...</td>\n",
       "      <td>...</td>\n",
       "      <td>...</td>\n",
       "      <td>...</td>\n",
       "      <td>...</td>\n",
       "      <td>...</td>\n",
       "      <td>...</td>\n",
       "      <td>...</td>\n",
       "      <td>...</td>\n",
       "      <td>...</td>\n",
       "      <td>...</td>\n",
       "      <td>...</td>\n",
       "      <td>...</td>\n",
       "      <td>...</td>\n",
       "      <td>...</td>\n",
       "    </tr>\n",
       "    <tr>\n",
       "      <th>1852389</th>\n",
       "      <td>2020-12-31 23:59:07</td>\n",
       "      <td>30560609640617</td>\n",
       "      <td>fraud_Reilly and Sons</td>\n",
       "      <td>health_fitness</td>\n",
       "      <td>43.77</td>\n",
       "      <td>Michael</td>\n",
       "      <td>Olson</td>\n",
       "      <td>M</td>\n",
       "      <td>558 Michael Estates</td>\n",
       "      <td>Luray</td>\n",
       "      <td>...</td>\n",
       "      <td>40.4931</td>\n",
       "      <td>-91.8912</td>\n",
       "      <td>519</td>\n",
       "      <td>Town planner</td>\n",
       "      <td>1966-02-13</td>\n",
       "      <td>9b1f753c79894c9f4b71f04581835ada</td>\n",
       "      <td>1388534347</td>\n",
       "      <td>39.946837</td>\n",
       "      <td>-91.333331</td>\n",
       "      <td>0</td>\n",
       "    </tr>\n",
       "    <tr>\n",
       "      <th>1852390</th>\n",
       "      <td>2020-12-31 23:59:09</td>\n",
       "      <td>3556613125071656</td>\n",
       "      <td>fraud_Hoppe-Parisian</td>\n",
       "      <td>kids_pets</td>\n",
       "      <td>111.84</td>\n",
       "      <td>Jose</td>\n",
       "      <td>Vasquez</td>\n",
       "      <td>M</td>\n",
       "      <td>572 Davis Mountains</td>\n",
       "      <td>Lake Jackson</td>\n",
       "      <td>...</td>\n",
       "      <td>29.0393</td>\n",
       "      <td>-95.4401</td>\n",
       "      <td>28739</td>\n",
       "      <td>Futures trader</td>\n",
       "      <td>1999-12-27</td>\n",
       "      <td>2090647dac2c89a1d86c514c427f5b91</td>\n",
       "      <td>1388534349</td>\n",
       "      <td>29.661049</td>\n",
       "      <td>-96.186633</td>\n",
       "      <td>0</td>\n",
       "    </tr>\n",
       "    <tr>\n",
       "      <th>1852391</th>\n",
       "      <td>2020-12-31 23:59:15</td>\n",
       "      <td>6011724471098086</td>\n",
       "      <td>fraud_Rau-Robel</td>\n",
       "      <td>kids_pets</td>\n",
       "      <td>86.88</td>\n",
       "      <td>Ann</td>\n",
       "      <td>Lawson</td>\n",
       "      <td>F</td>\n",
       "      <td>144 Evans Islands Apt. 683</td>\n",
       "      <td>Burbank</td>\n",
       "      <td>...</td>\n",
       "      <td>46.1966</td>\n",
       "      <td>-118.9017</td>\n",
       "      <td>3684</td>\n",
       "      <td>Musician</td>\n",
       "      <td>1981-11-29</td>\n",
       "      <td>6c5b7c8add471975aa0fec023b2e8408</td>\n",
       "      <td>1388534355</td>\n",
       "      <td>46.658340</td>\n",
       "      <td>-119.715054</td>\n",
       "      <td>0</td>\n",
       "    </tr>\n",
       "    <tr>\n",
       "      <th>1852392</th>\n",
       "      <td>2020-12-31 23:59:24</td>\n",
       "      <td>4079773899158</td>\n",
       "      <td>fraud_Breitenberg LLC</td>\n",
       "      <td>travel</td>\n",
       "      <td>7.99</td>\n",
       "      <td>Eric</td>\n",
       "      <td>Preston</td>\n",
       "      <td>M</td>\n",
       "      <td>7020 Doyle Stream Apt. 951</td>\n",
       "      <td>Mesa</td>\n",
       "      <td>...</td>\n",
       "      <td>44.6255</td>\n",
       "      <td>-116.4493</td>\n",
       "      <td>129</td>\n",
       "      <td>Cartographer</td>\n",
       "      <td>1965-12-15</td>\n",
       "      <td>14392d723bb7737606b2700ac791b7aa</td>\n",
       "      <td>1388534364</td>\n",
       "      <td>44.470525</td>\n",
       "      <td>-117.080888</td>\n",
       "      <td>0</td>\n",
       "    </tr>\n",
       "    <tr>\n",
       "      <th>1852393</th>\n",
       "      <td>2020-12-31 23:59:34</td>\n",
       "      <td>4170689372027579</td>\n",
       "      <td>fraud_Dare-Marvin</td>\n",
       "      <td>entertainment</td>\n",
       "      <td>38.13</td>\n",
       "      <td>Samuel</td>\n",
       "      <td>Frey</td>\n",
       "      <td>M</td>\n",
       "      <td>830 Myers Plaza Apt. 384</td>\n",
       "      <td>Edmond</td>\n",
       "      <td>...</td>\n",
       "      <td>35.6665</td>\n",
       "      <td>-97.4798</td>\n",
       "      <td>116001</td>\n",
       "      <td>Media buyer</td>\n",
       "      <td>1993-05-10</td>\n",
       "      <td>1765bb45b3aa3224b4cdcb6e7a96cee3</td>\n",
       "      <td>1388534374</td>\n",
       "      <td>36.210097</td>\n",
       "      <td>-97.036372</td>\n",
       "      <td>0</td>\n",
       "    </tr>\n",
       "  </tbody>\n",
       "</table>\n",
       "<p>1852394 rows × 22 columns</p>\n",
       "</div>"
      ],
      "text/plain": [
       "        trans_date_trans_time            cc_num  \\\n",
       "0         2019-01-01 00:00:18  2703186189652095   \n",
       "1         2019-01-01 00:00:44      630423337322   \n",
       "2         2019-01-01 00:00:51    38859492057661   \n",
       "3         2019-01-01 00:01:16  3534093764340240   \n",
       "4         2019-01-01 00:03:06   375534208663984   \n",
       "...                       ...               ...   \n",
       "1852389   2020-12-31 23:59:07    30560609640617   \n",
       "1852390   2020-12-31 23:59:09  3556613125071656   \n",
       "1852391   2020-12-31 23:59:15  6011724471098086   \n",
       "1852392   2020-12-31 23:59:24     4079773899158   \n",
       "1852393   2020-12-31 23:59:34  4170689372027579   \n",
       "\n",
       "                                   merchant        category     amt  \\\n",
       "0                fraud_Rippin, Kub and Mann        misc_net    4.97   \n",
       "1           fraud_Heller, Gutmann and Zieme     grocery_pos  107.23   \n",
       "2                      fraud_Lind-Buckridge   entertainment  220.11   \n",
       "3        fraud_Kutch, Hermiston and Farrell   gas_transport   45.00   \n",
       "4                       fraud_Keeling-Crist        misc_pos   41.96   \n",
       "...                                     ...             ...     ...   \n",
       "1852389               fraud_Reilly and Sons  health_fitness   43.77   \n",
       "1852390                fraud_Hoppe-Parisian       kids_pets  111.84   \n",
       "1852391                     fraud_Rau-Robel       kids_pets   86.88   \n",
       "1852392               fraud_Breitenberg LLC          travel    7.99   \n",
       "1852393                   fraud_Dare-Marvin   entertainment   38.13   \n",
       "\n",
       "             first     last gender                        street  \\\n",
       "0         Jennifer    Banks      F                561 Perry Cove   \n",
       "1        Stephanie     Gill      F  43039 Riley Greens Suite 393   \n",
       "2           Edward  Sanchez      M      594 White Dale Suite 530   \n",
       "3           Jeremy    White      M   9443 Cynthia Court Apt. 038   \n",
       "4            Tyler   Garcia      M              408 Bradley Rest   \n",
       "...            ...      ...    ...                           ...   \n",
       "1852389    Michael    Olson      M           558 Michael Estates   \n",
       "1852390       Jose  Vasquez      M           572 Davis Mountains   \n",
       "1852391        Ann   Lawson      F    144 Evans Islands Apt. 683   \n",
       "1852392       Eric  Preston      M    7020 Doyle Stream Apt. 951   \n",
       "1852393     Samuel     Frey      M      830 Myers Plaza Apt. 384   \n",
       "\n",
       "                   city  ...      lat      long  city_pop  \\\n",
       "0        Moravian Falls  ...  36.0788  -81.1781      3495   \n",
       "1                Orient  ...  48.8878 -118.2105       149   \n",
       "2            Malad City  ...  42.1808 -112.2620      4154   \n",
       "3               Boulder  ...  46.2306 -112.1138      1939   \n",
       "4              Doe Hill  ...  38.4207  -79.4629        99   \n",
       "...                 ...  ...      ...       ...       ...   \n",
       "1852389           Luray  ...  40.4931  -91.8912       519   \n",
       "1852390    Lake Jackson  ...  29.0393  -95.4401     28739   \n",
       "1852391         Burbank  ...  46.1966 -118.9017      3684   \n",
       "1852392            Mesa  ...  44.6255 -116.4493       129   \n",
       "1852393          Edmond  ...  35.6665  -97.4798    116001   \n",
       "\n",
       "                                       job         dob  \\\n",
       "0                Psychologist, counselling  1988-03-09   \n",
       "1        Special educational needs teacher  1978-06-21   \n",
       "2              Nature conservation officer  1962-01-19   \n",
       "3                          Patent attorney  1967-01-12   \n",
       "4           Dance movement psychotherapist  1986-03-28   \n",
       "...                                    ...         ...   \n",
       "1852389                       Town planner  1966-02-13   \n",
       "1852390                     Futures trader  1999-12-27   \n",
       "1852391                           Musician  1981-11-29   \n",
       "1852392                       Cartographer  1965-12-15   \n",
       "1852393                        Media buyer  1993-05-10   \n",
       "\n",
       "                                trans_num   unix_time  merch_lat  merch_long  \\\n",
       "0        0b242abb623afc578575680df30655b9  1325376018  36.011293  -82.048315   \n",
       "1        1f76529f8574734946361c461b024d99  1325376044  49.159047 -118.186462   \n",
       "2        a1a22d70485983eac12b5b88dad1cf95  1325376051  43.150704 -112.154481   \n",
       "3        6b849c168bdad6f867558c3793159a81  1325376076  47.034331 -112.561071   \n",
       "4        a41d7549acf90789359a9aa5346dcb46  1325376186  38.674999  -78.632459   \n",
       "...                                   ...         ...        ...         ...   \n",
       "1852389  9b1f753c79894c9f4b71f04581835ada  1388534347  39.946837  -91.333331   \n",
       "1852390  2090647dac2c89a1d86c514c427f5b91  1388534349  29.661049  -96.186633   \n",
       "1852391  6c5b7c8add471975aa0fec023b2e8408  1388534355  46.658340 -119.715054   \n",
       "1852392  14392d723bb7737606b2700ac791b7aa  1388534364  44.470525 -117.080888   \n",
       "1852393  1765bb45b3aa3224b4cdcb6e7a96cee3  1388534374  36.210097  -97.036372   \n",
       "\n",
       "         is_fraud  \n",
       "0               0  \n",
       "1               0  \n",
       "2               0  \n",
       "3               0  \n",
       "4               0  \n",
       "...           ...  \n",
       "1852389         0  \n",
       "1852390         0  \n",
       "1852391         0  \n",
       "1852392         0  \n",
       "1852393         0  \n",
       "\n",
       "[1852394 rows x 22 columns]"
      ]
     },
     "execution_count": 8,
     "metadata": {},
     "output_type": "execute_result"
    }
   ],
   "source": [
    "cat = fraud #fraud is previous name of dataset 2\n",
    "cat"
   ]
  },
  {
   "cell_type": "markdown",
   "id": "e9e4c616",
   "metadata": {},
   "source": [
    "## 🔹Data understanding"
   ]
  },
  {
   "cell_type": "markdown",
   "id": "1f19a56f",
   "metadata": {},
   "source": [
    "To be able to understand our data better, its better to view it a more familar envoirement instead if just tabular form. It is important to know what your data represents except for numbers. it can give you a clearer understanding of your domain. "
   ]
  },
  {
   "cell_type": "markdown",
   "id": "c8f6806e",
   "metadata": {},
   "source": [
    "### ◼️ Data analyses"
   ]
  },
  {
   "cell_type": "markdown",
   "id": "0ae24623",
   "metadata": {},
   "source": [
    "Here I am going to explain what is presented in the datasets"
   ]
  },
  {
   "cell_type": "markdown",
   "id": "dbd59caa",
   "metadata": {},
   "source": [
    "#### Dataset 1"
   ]
  },
  {
   "cell_type": "markdown",
   "id": "e7ce25bc",
   "metadata": {},
   "source": [
    "we will analyse dataset 1 to see what we are dealing with in terms of data:"
   ]
  },
  {
   "cell_type": "code",
   "execution_count": 9,
   "id": "2ce7cfc1",
   "metadata": {},
   "outputs": [
    {
     "data": {
      "text/plain": [
       "(284807, 31)"
      ]
     },
     "execution_count": 9,
     "metadata": {},
     "output_type": "execute_result"
    }
   ],
   "source": [
    "#determing the shape of the dataset\n",
    "num.shape"
   ]
  },
  {
   "cell_type": "markdown",
   "id": "3815fbd6",
   "metadata": {},
   "source": [
    "This number shows the amount of rows (284807) and the amount of column (31)"
   ]
  },
  {
   "cell_type": "code",
   "execution_count": 10,
   "id": "8eaa0d0a",
   "metadata": {},
   "outputs": [
    {
     "data": {
      "text/html": [
       "<div>\n",
       "<style scoped>\n",
       "    .dataframe tbody tr th:only-of-type {\n",
       "        vertical-align: middle;\n",
       "    }\n",
       "\n",
       "    .dataframe tbody tr th {\n",
       "        vertical-align: top;\n",
       "    }\n",
       "\n",
       "    .dataframe thead th {\n",
       "        text-align: right;\n",
       "    }\n",
       "</style>\n",
       "<table border=\"1\" class=\"dataframe\">\n",
       "  <thead>\n",
       "    <tr style=\"text-align: right;\">\n",
       "      <th></th>\n",
       "      <th>Time</th>\n",
       "      <th>V1</th>\n",
       "      <th>V2</th>\n",
       "      <th>V3</th>\n",
       "      <th>V4</th>\n",
       "      <th>V5</th>\n",
       "      <th>V6</th>\n",
       "      <th>V7</th>\n",
       "      <th>V8</th>\n",
       "      <th>V9</th>\n",
       "      <th>...</th>\n",
       "      <th>V21</th>\n",
       "      <th>V22</th>\n",
       "      <th>V23</th>\n",
       "      <th>V24</th>\n",
       "      <th>V25</th>\n",
       "      <th>V26</th>\n",
       "      <th>V27</th>\n",
       "      <th>V28</th>\n",
       "      <th>Amount</th>\n",
       "      <th>Class</th>\n",
       "    </tr>\n",
       "  </thead>\n",
       "  <tbody>\n",
       "    <tr>\n",
       "      <th>0</th>\n",
       "      <td>0.0</td>\n",
       "      <td>-1.359807</td>\n",
       "      <td>-0.072781</td>\n",
       "      <td>2.536347</td>\n",
       "      <td>1.378155</td>\n",
       "      <td>-0.338321</td>\n",
       "      <td>0.462388</td>\n",
       "      <td>0.239599</td>\n",
       "      <td>0.098698</td>\n",
       "      <td>0.363787</td>\n",
       "      <td>...</td>\n",
       "      <td>-0.018307</td>\n",
       "      <td>0.277838</td>\n",
       "      <td>-0.110474</td>\n",
       "      <td>0.066928</td>\n",
       "      <td>0.128539</td>\n",
       "      <td>-0.189115</td>\n",
       "      <td>0.133558</td>\n",
       "      <td>-0.021053</td>\n",
       "      <td>149.62</td>\n",
       "      <td>0</td>\n",
       "    </tr>\n",
       "    <tr>\n",
       "      <th>1</th>\n",
       "      <td>0.0</td>\n",
       "      <td>1.191857</td>\n",
       "      <td>0.266151</td>\n",
       "      <td>0.166480</td>\n",
       "      <td>0.448154</td>\n",
       "      <td>0.060018</td>\n",
       "      <td>-0.082361</td>\n",
       "      <td>-0.078803</td>\n",
       "      <td>0.085102</td>\n",
       "      <td>-0.255425</td>\n",
       "      <td>...</td>\n",
       "      <td>-0.225775</td>\n",
       "      <td>-0.638672</td>\n",
       "      <td>0.101288</td>\n",
       "      <td>-0.339846</td>\n",
       "      <td>0.167170</td>\n",
       "      <td>0.125895</td>\n",
       "      <td>-0.008983</td>\n",
       "      <td>0.014724</td>\n",
       "      <td>2.69</td>\n",
       "      <td>0</td>\n",
       "    </tr>\n",
       "    <tr>\n",
       "      <th>2</th>\n",
       "      <td>1.0</td>\n",
       "      <td>-1.358354</td>\n",
       "      <td>-1.340163</td>\n",
       "      <td>1.773209</td>\n",
       "      <td>0.379780</td>\n",
       "      <td>-0.503198</td>\n",
       "      <td>1.800499</td>\n",
       "      <td>0.791461</td>\n",
       "      <td>0.247676</td>\n",
       "      <td>-1.514654</td>\n",
       "      <td>...</td>\n",
       "      <td>0.247998</td>\n",
       "      <td>0.771679</td>\n",
       "      <td>0.909412</td>\n",
       "      <td>-0.689281</td>\n",
       "      <td>-0.327642</td>\n",
       "      <td>-0.139097</td>\n",
       "      <td>-0.055353</td>\n",
       "      <td>-0.059752</td>\n",
       "      <td>378.66</td>\n",
       "      <td>0</td>\n",
       "    </tr>\n",
       "    <tr>\n",
       "      <th>3</th>\n",
       "      <td>1.0</td>\n",
       "      <td>-0.966272</td>\n",
       "      <td>-0.185226</td>\n",
       "      <td>1.792993</td>\n",
       "      <td>-0.863291</td>\n",
       "      <td>-0.010309</td>\n",
       "      <td>1.247203</td>\n",
       "      <td>0.237609</td>\n",
       "      <td>0.377436</td>\n",
       "      <td>-1.387024</td>\n",
       "      <td>...</td>\n",
       "      <td>-0.108300</td>\n",
       "      <td>0.005274</td>\n",
       "      <td>-0.190321</td>\n",
       "      <td>-1.175575</td>\n",
       "      <td>0.647376</td>\n",
       "      <td>-0.221929</td>\n",
       "      <td>0.062723</td>\n",
       "      <td>0.061458</td>\n",
       "      <td>123.50</td>\n",
       "      <td>0</td>\n",
       "    </tr>\n",
       "    <tr>\n",
       "      <th>4</th>\n",
       "      <td>2.0</td>\n",
       "      <td>-1.158233</td>\n",
       "      <td>0.877737</td>\n",
       "      <td>1.548718</td>\n",
       "      <td>0.403034</td>\n",
       "      <td>-0.407193</td>\n",
       "      <td>0.095921</td>\n",
       "      <td>0.592941</td>\n",
       "      <td>-0.270533</td>\n",
       "      <td>0.817739</td>\n",
       "      <td>...</td>\n",
       "      <td>-0.009431</td>\n",
       "      <td>0.798278</td>\n",
       "      <td>-0.137458</td>\n",
       "      <td>0.141267</td>\n",
       "      <td>-0.206010</td>\n",
       "      <td>0.502292</td>\n",
       "      <td>0.219422</td>\n",
       "      <td>0.215153</td>\n",
       "      <td>69.99</td>\n",
       "      <td>0</td>\n",
       "    </tr>\n",
       "    <tr>\n",
       "      <th>...</th>\n",
       "      <td>...</td>\n",
       "      <td>...</td>\n",
       "      <td>...</td>\n",
       "      <td>...</td>\n",
       "      <td>...</td>\n",
       "      <td>...</td>\n",
       "      <td>...</td>\n",
       "      <td>...</td>\n",
       "      <td>...</td>\n",
       "      <td>...</td>\n",
       "      <td>...</td>\n",
       "      <td>...</td>\n",
       "      <td>...</td>\n",
       "      <td>...</td>\n",
       "      <td>...</td>\n",
       "      <td>...</td>\n",
       "      <td>...</td>\n",
       "      <td>...</td>\n",
       "      <td>...</td>\n",
       "      <td>...</td>\n",
       "      <td>...</td>\n",
       "    </tr>\n",
       "    <tr>\n",
       "      <th>284802</th>\n",
       "      <td>172786.0</td>\n",
       "      <td>-11.881118</td>\n",
       "      <td>10.071785</td>\n",
       "      <td>-9.834783</td>\n",
       "      <td>-2.066656</td>\n",
       "      <td>-5.364473</td>\n",
       "      <td>-2.606837</td>\n",
       "      <td>-4.918215</td>\n",
       "      <td>7.305334</td>\n",
       "      <td>1.914428</td>\n",
       "      <td>...</td>\n",
       "      <td>0.213454</td>\n",
       "      <td>0.111864</td>\n",
       "      <td>1.014480</td>\n",
       "      <td>-0.509348</td>\n",
       "      <td>1.436807</td>\n",
       "      <td>0.250034</td>\n",
       "      <td>0.943651</td>\n",
       "      <td>0.823731</td>\n",
       "      <td>0.77</td>\n",
       "      <td>0</td>\n",
       "    </tr>\n",
       "    <tr>\n",
       "      <th>284803</th>\n",
       "      <td>172787.0</td>\n",
       "      <td>-0.732789</td>\n",
       "      <td>-0.055080</td>\n",
       "      <td>2.035030</td>\n",
       "      <td>-0.738589</td>\n",
       "      <td>0.868229</td>\n",
       "      <td>1.058415</td>\n",
       "      <td>0.024330</td>\n",
       "      <td>0.294869</td>\n",
       "      <td>0.584800</td>\n",
       "      <td>...</td>\n",
       "      <td>0.214205</td>\n",
       "      <td>0.924384</td>\n",
       "      <td>0.012463</td>\n",
       "      <td>-1.016226</td>\n",
       "      <td>-0.606624</td>\n",
       "      <td>-0.395255</td>\n",
       "      <td>0.068472</td>\n",
       "      <td>-0.053527</td>\n",
       "      <td>24.79</td>\n",
       "      <td>0</td>\n",
       "    </tr>\n",
       "    <tr>\n",
       "      <th>284804</th>\n",
       "      <td>172788.0</td>\n",
       "      <td>1.919565</td>\n",
       "      <td>-0.301254</td>\n",
       "      <td>-3.249640</td>\n",
       "      <td>-0.557828</td>\n",
       "      <td>2.630515</td>\n",
       "      <td>3.031260</td>\n",
       "      <td>-0.296827</td>\n",
       "      <td>0.708417</td>\n",
       "      <td>0.432454</td>\n",
       "      <td>...</td>\n",
       "      <td>0.232045</td>\n",
       "      <td>0.578229</td>\n",
       "      <td>-0.037501</td>\n",
       "      <td>0.640134</td>\n",
       "      <td>0.265745</td>\n",
       "      <td>-0.087371</td>\n",
       "      <td>0.004455</td>\n",
       "      <td>-0.026561</td>\n",
       "      <td>67.88</td>\n",
       "      <td>0</td>\n",
       "    </tr>\n",
       "    <tr>\n",
       "      <th>284805</th>\n",
       "      <td>172788.0</td>\n",
       "      <td>-0.240440</td>\n",
       "      <td>0.530483</td>\n",
       "      <td>0.702510</td>\n",
       "      <td>0.689799</td>\n",
       "      <td>-0.377961</td>\n",
       "      <td>0.623708</td>\n",
       "      <td>-0.686180</td>\n",
       "      <td>0.679145</td>\n",
       "      <td>0.392087</td>\n",
       "      <td>...</td>\n",
       "      <td>0.265245</td>\n",
       "      <td>0.800049</td>\n",
       "      <td>-0.163298</td>\n",
       "      <td>0.123205</td>\n",
       "      <td>-0.569159</td>\n",
       "      <td>0.546668</td>\n",
       "      <td>0.108821</td>\n",
       "      <td>0.104533</td>\n",
       "      <td>10.00</td>\n",
       "      <td>0</td>\n",
       "    </tr>\n",
       "    <tr>\n",
       "      <th>284806</th>\n",
       "      <td>172792.0</td>\n",
       "      <td>-0.533413</td>\n",
       "      <td>-0.189733</td>\n",
       "      <td>0.703337</td>\n",
       "      <td>-0.506271</td>\n",
       "      <td>-0.012546</td>\n",
       "      <td>-0.649617</td>\n",
       "      <td>1.577006</td>\n",
       "      <td>-0.414650</td>\n",
       "      <td>0.486180</td>\n",
       "      <td>...</td>\n",
       "      <td>0.261057</td>\n",
       "      <td>0.643078</td>\n",
       "      <td>0.376777</td>\n",
       "      <td>0.008797</td>\n",
       "      <td>-0.473649</td>\n",
       "      <td>-0.818267</td>\n",
       "      <td>-0.002415</td>\n",
       "      <td>0.013649</td>\n",
       "      <td>217.00</td>\n",
       "      <td>0</td>\n",
       "    </tr>\n",
       "  </tbody>\n",
       "</table>\n",
       "<p>284807 rows × 31 columns</p>\n",
       "</div>"
      ],
      "text/plain": [
       "            Time         V1         V2        V3        V4        V5  \\\n",
       "0            0.0  -1.359807  -0.072781  2.536347  1.378155 -0.338321   \n",
       "1            0.0   1.191857   0.266151  0.166480  0.448154  0.060018   \n",
       "2            1.0  -1.358354  -1.340163  1.773209  0.379780 -0.503198   \n",
       "3            1.0  -0.966272  -0.185226  1.792993 -0.863291 -0.010309   \n",
       "4            2.0  -1.158233   0.877737  1.548718  0.403034 -0.407193   \n",
       "...          ...        ...        ...       ...       ...       ...   \n",
       "284802  172786.0 -11.881118  10.071785 -9.834783 -2.066656 -5.364473   \n",
       "284803  172787.0  -0.732789  -0.055080  2.035030 -0.738589  0.868229   \n",
       "284804  172788.0   1.919565  -0.301254 -3.249640 -0.557828  2.630515   \n",
       "284805  172788.0  -0.240440   0.530483  0.702510  0.689799 -0.377961   \n",
       "284806  172792.0  -0.533413  -0.189733  0.703337 -0.506271 -0.012546   \n",
       "\n",
       "              V6        V7        V8        V9  ...       V21       V22  \\\n",
       "0       0.462388  0.239599  0.098698  0.363787  ... -0.018307  0.277838   \n",
       "1      -0.082361 -0.078803  0.085102 -0.255425  ... -0.225775 -0.638672   \n",
       "2       1.800499  0.791461  0.247676 -1.514654  ...  0.247998  0.771679   \n",
       "3       1.247203  0.237609  0.377436 -1.387024  ... -0.108300  0.005274   \n",
       "4       0.095921  0.592941 -0.270533  0.817739  ... -0.009431  0.798278   \n",
       "...          ...       ...       ...       ...  ...       ...       ...   \n",
       "284802 -2.606837 -4.918215  7.305334  1.914428  ...  0.213454  0.111864   \n",
       "284803  1.058415  0.024330  0.294869  0.584800  ...  0.214205  0.924384   \n",
       "284804  3.031260 -0.296827  0.708417  0.432454  ...  0.232045  0.578229   \n",
       "284805  0.623708 -0.686180  0.679145  0.392087  ...  0.265245  0.800049   \n",
       "284806 -0.649617  1.577006 -0.414650  0.486180  ...  0.261057  0.643078   \n",
       "\n",
       "             V23       V24       V25       V26       V27       V28  Amount  \\\n",
       "0      -0.110474  0.066928  0.128539 -0.189115  0.133558 -0.021053  149.62   \n",
       "1       0.101288 -0.339846  0.167170  0.125895 -0.008983  0.014724    2.69   \n",
       "2       0.909412 -0.689281 -0.327642 -0.139097 -0.055353 -0.059752  378.66   \n",
       "3      -0.190321 -1.175575  0.647376 -0.221929  0.062723  0.061458  123.50   \n",
       "4      -0.137458  0.141267 -0.206010  0.502292  0.219422  0.215153   69.99   \n",
       "...          ...       ...       ...       ...       ...       ...     ...   \n",
       "284802  1.014480 -0.509348  1.436807  0.250034  0.943651  0.823731    0.77   \n",
       "284803  0.012463 -1.016226 -0.606624 -0.395255  0.068472 -0.053527   24.79   \n",
       "284804 -0.037501  0.640134  0.265745 -0.087371  0.004455 -0.026561   67.88   \n",
       "284805 -0.163298  0.123205 -0.569159  0.546668  0.108821  0.104533   10.00   \n",
       "284806  0.376777  0.008797 -0.473649 -0.818267 -0.002415  0.013649  217.00   \n",
       "\n",
       "        Class  \n",
       "0           0  \n",
       "1           0  \n",
       "2           0  \n",
       "3           0  \n",
       "4           0  \n",
       "...       ...  \n",
       "284802      0  \n",
       "284803      0  \n",
       "284804      0  \n",
       "284805      0  \n",
       "284806      0  \n",
       "\n",
       "[284807 rows x 31 columns]"
      ]
     },
     "execution_count": 10,
     "metadata": {},
     "output_type": "execute_result"
    }
   ],
   "source": [
    "num #showing the dataframe"
   ]
  },
  {
   "cell_type": "markdown",
   "id": "bebd8f5a",
   "metadata": {},
   "source": [
    "In this dataset all the columns from v1-v28 are censored details of individual cases. Censored meaning private banking details of people, including their name gender etc. The numbers mean the scaled data. The only columns remaining are \"Amount\" being the amount that was stolen, and \"Class\" which specifies if there was fraud(1) or not(0). and also the column \"time\""
   ]
  },
  {
   "cell_type": "code",
   "execution_count": 11,
   "id": "88114f7f",
   "metadata": {},
   "outputs": [
    {
     "data": {
      "text/html": [
       "<div>\n",
       "<style scoped>\n",
       "    .dataframe tbody tr th:only-of-type {\n",
       "        vertical-align: middle;\n",
       "    }\n",
       "\n",
       "    .dataframe tbody tr th {\n",
       "        vertical-align: top;\n",
       "    }\n",
       "\n",
       "    .dataframe thead th {\n",
       "        text-align: right;\n",
       "    }\n",
       "</style>\n",
       "<table border=\"1\" class=\"dataframe\">\n",
       "  <thead>\n",
       "    <tr style=\"text-align: right;\">\n",
       "      <th></th>\n",
       "      <th>Amount</th>\n",
       "      <th>Class</th>\n",
       "      <th>Time</th>\n",
       "    </tr>\n",
       "  </thead>\n",
       "  <tbody>\n",
       "    <tr>\n",
       "      <th>count</th>\n",
       "      <td>284807.000000</td>\n",
       "      <td>284807.000000</td>\n",
       "      <td>284807.000000</td>\n",
       "    </tr>\n",
       "    <tr>\n",
       "      <th>mean</th>\n",
       "      <td>88.349619</td>\n",
       "      <td>0.001727</td>\n",
       "      <td>94813.859575</td>\n",
       "    </tr>\n",
       "    <tr>\n",
       "      <th>std</th>\n",
       "      <td>250.120109</td>\n",
       "      <td>0.041527</td>\n",
       "      <td>47488.145955</td>\n",
       "    </tr>\n",
       "    <tr>\n",
       "      <th>min</th>\n",
       "      <td>0.000000</td>\n",
       "      <td>0.000000</td>\n",
       "      <td>0.000000</td>\n",
       "    </tr>\n",
       "    <tr>\n",
       "      <th>25%</th>\n",
       "      <td>5.600000</td>\n",
       "      <td>0.000000</td>\n",
       "      <td>54201.500000</td>\n",
       "    </tr>\n",
       "    <tr>\n",
       "      <th>50%</th>\n",
       "      <td>22.000000</td>\n",
       "      <td>0.000000</td>\n",
       "      <td>84692.000000</td>\n",
       "    </tr>\n",
       "    <tr>\n",
       "      <th>75%</th>\n",
       "      <td>77.165000</td>\n",
       "      <td>0.000000</td>\n",
       "      <td>139320.500000</td>\n",
       "    </tr>\n",
       "    <tr>\n",
       "      <th>max</th>\n",
       "      <td>25691.160000</td>\n",
       "      <td>1.000000</td>\n",
       "      <td>172792.000000</td>\n",
       "    </tr>\n",
       "  </tbody>\n",
       "</table>\n",
       "</div>"
      ],
      "text/plain": [
       "              Amount          Class           Time\n",
       "count  284807.000000  284807.000000  284807.000000\n",
       "mean       88.349619       0.001727   94813.859575\n",
       "std       250.120109       0.041527   47488.145955\n",
       "min         0.000000       0.000000       0.000000\n",
       "25%         5.600000       0.000000   54201.500000\n",
       "50%        22.000000       0.000000   84692.000000\n",
       "75%        77.165000       0.000000  139320.500000\n",
       "max     25691.160000       1.000000  172792.000000"
      ]
     },
     "execution_count": 11,
     "metadata": {},
     "output_type": "execute_result"
    }
   ],
   "source": [
    "num[['Amount','Class','Time']].describe()"
   ]
  },
  {
   "cell_type": "markdown",
   "id": "8161ae8a",
   "metadata": {},
   "source": [
    "If we describe the 3 most important columns we can see that the the minimum amount is 0 dollar, and the most amount is 25691 dollars, with a mean of 88 dollars. We have a total of 284807 data entries, how many of those are fraud?\n",
    "\n",
    "The column \"time\" goes from 0 untill 25691. Time contains the seconds elapsed between each transaction and the first transaction in the dataset"
   ]
  },
  {
   "cell_type": "code",
   "execution_count": 12,
   "id": "78b3fad1",
   "metadata": {},
   "outputs": [
    {
     "data": {
      "text/plain": [
       "0    99.827251\n",
       "1     0.172749\n",
       "Name: Class, dtype: float64"
      ]
     },
     "execution_count": 12,
     "metadata": {},
     "output_type": "execute_result"
    }
   ],
   "source": [
    "#let us check the percentage of fraudulent data points in our dataset\n",
    "100*num.Class.value_counts(normalize=True)"
   ]
  },
  {
   "cell_type": "markdown",
   "id": "88738394",
   "metadata": {},
   "source": [
    "in dataset 1 only 0.17% of the data is fraudulent."
   ]
  },
  {
   "cell_type": "code",
   "execution_count": 13,
   "id": "53ebe1e4",
   "metadata": {},
   "outputs": [
    {
     "data": {
      "text/plain": [
       "0"
      ]
     },
     "execution_count": 13,
     "metadata": {},
     "output_type": "execute_result"
    }
   ],
   "source": [
    "# Good No Null Values!\n",
    "num.isnull().sum().max()"
   ]
  },
  {
   "cell_type": "markdown",
   "id": "2ffcf79b",
   "metadata": {},
   "source": [
    "#### Dataset 2"
   ]
  },
  {
   "cell_type": "markdown",
   "id": "7287ef67",
   "metadata": {},
   "source": [
    "Now we will analyse dataset 2 to see what we are dealing with."
   ]
  },
  {
   "cell_type": "code",
   "execution_count": 14,
   "id": "823a1fb2",
   "metadata": {},
   "outputs": [
    {
     "data": {
      "text/plain": [
       "(1852394, 22)"
      ]
     },
     "execution_count": 14,
     "metadata": {},
     "output_type": "execute_result"
    }
   ],
   "source": [
    "#determing the shape of the dataset\n",
    "cat.shape"
   ]
  },
  {
   "cell_type": "markdown",
   "id": "f8e41840",
   "metadata": {},
   "source": [
    "This number shows the amount of rows (1852394) and the amount of column (22)"
   ]
  },
  {
   "cell_type": "code",
   "execution_count": 15,
   "id": "1c1b3c8d",
   "metadata": {},
   "outputs": [
    {
     "data": {
      "text/html": [
       "<div>\n",
       "<style scoped>\n",
       "    .dataframe tbody tr th:only-of-type {\n",
       "        vertical-align: middle;\n",
       "    }\n",
       "\n",
       "    .dataframe tbody tr th {\n",
       "        vertical-align: top;\n",
       "    }\n",
       "\n",
       "    .dataframe thead th {\n",
       "        text-align: right;\n",
       "    }\n",
       "</style>\n",
       "<table border=\"1\" class=\"dataframe\">\n",
       "  <thead>\n",
       "    <tr style=\"text-align: right;\">\n",
       "      <th></th>\n",
       "      <th>trans_date_trans_time</th>\n",
       "      <th>cc_num</th>\n",
       "      <th>merchant</th>\n",
       "      <th>category</th>\n",
       "      <th>amt</th>\n",
       "      <th>first</th>\n",
       "      <th>last</th>\n",
       "      <th>gender</th>\n",
       "      <th>street</th>\n",
       "      <th>city</th>\n",
       "      <th>...</th>\n",
       "      <th>lat</th>\n",
       "      <th>long</th>\n",
       "      <th>city_pop</th>\n",
       "      <th>job</th>\n",
       "      <th>dob</th>\n",
       "      <th>trans_num</th>\n",
       "      <th>unix_time</th>\n",
       "      <th>merch_lat</th>\n",
       "      <th>merch_long</th>\n",
       "      <th>is_fraud</th>\n",
       "    </tr>\n",
       "  </thead>\n",
       "  <tbody>\n",
       "    <tr>\n",
       "      <th>0</th>\n",
       "      <td>2019-01-01 00:00:18</td>\n",
       "      <td>2703186189652095</td>\n",
       "      <td>fraud_Rippin, Kub and Mann</td>\n",
       "      <td>misc_net</td>\n",
       "      <td>4.97</td>\n",
       "      <td>Jennifer</td>\n",
       "      <td>Banks</td>\n",
       "      <td>F</td>\n",
       "      <td>561 Perry Cove</td>\n",
       "      <td>Moravian Falls</td>\n",
       "      <td>...</td>\n",
       "      <td>36.0788</td>\n",
       "      <td>-81.1781</td>\n",
       "      <td>3495</td>\n",
       "      <td>Psychologist, counselling</td>\n",
       "      <td>1988-03-09</td>\n",
       "      <td>0b242abb623afc578575680df30655b9</td>\n",
       "      <td>1325376018</td>\n",
       "      <td>36.011293</td>\n",
       "      <td>-82.048315</td>\n",
       "      <td>0</td>\n",
       "    </tr>\n",
       "    <tr>\n",
       "      <th>1</th>\n",
       "      <td>2019-01-01 00:00:44</td>\n",
       "      <td>630423337322</td>\n",
       "      <td>fraud_Heller, Gutmann and Zieme</td>\n",
       "      <td>grocery_pos</td>\n",
       "      <td>107.23</td>\n",
       "      <td>Stephanie</td>\n",
       "      <td>Gill</td>\n",
       "      <td>F</td>\n",
       "      <td>43039 Riley Greens Suite 393</td>\n",
       "      <td>Orient</td>\n",
       "      <td>...</td>\n",
       "      <td>48.8878</td>\n",
       "      <td>-118.2105</td>\n",
       "      <td>149</td>\n",
       "      <td>Special educational needs teacher</td>\n",
       "      <td>1978-06-21</td>\n",
       "      <td>1f76529f8574734946361c461b024d99</td>\n",
       "      <td>1325376044</td>\n",
       "      <td>49.159047</td>\n",
       "      <td>-118.186462</td>\n",
       "      <td>0</td>\n",
       "    </tr>\n",
       "    <tr>\n",
       "      <th>2</th>\n",
       "      <td>2019-01-01 00:00:51</td>\n",
       "      <td>38859492057661</td>\n",
       "      <td>fraud_Lind-Buckridge</td>\n",
       "      <td>entertainment</td>\n",
       "      <td>220.11</td>\n",
       "      <td>Edward</td>\n",
       "      <td>Sanchez</td>\n",
       "      <td>M</td>\n",
       "      <td>594 White Dale Suite 530</td>\n",
       "      <td>Malad City</td>\n",
       "      <td>...</td>\n",
       "      <td>42.1808</td>\n",
       "      <td>-112.2620</td>\n",
       "      <td>4154</td>\n",
       "      <td>Nature conservation officer</td>\n",
       "      <td>1962-01-19</td>\n",
       "      <td>a1a22d70485983eac12b5b88dad1cf95</td>\n",
       "      <td>1325376051</td>\n",
       "      <td>43.150704</td>\n",
       "      <td>-112.154481</td>\n",
       "      <td>0</td>\n",
       "    </tr>\n",
       "    <tr>\n",
       "      <th>3</th>\n",
       "      <td>2019-01-01 00:01:16</td>\n",
       "      <td>3534093764340240</td>\n",
       "      <td>fraud_Kutch, Hermiston and Farrell</td>\n",
       "      <td>gas_transport</td>\n",
       "      <td>45.00</td>\n",
       "      <td>Jeremy</td>\n",
       "      <td>White</td>\n",
       "      <td>M</td>\n",
       "      <td>9443 Cynthia Court Apt. 038</td>\n",
       "      <td>Boulder</td>\n",
       "      <td>...</td>\n",
       "      <td>46.2306</td>\n",
       "      <td>-112.1138</td>\n",
       "      <td>1939</td>\n",
       "      <td>Patent attorney</td>\n",
       "      <td>1967-01-12</td>\n",
       "      <td>6b849c168bdad6f867558c3793159a81</td>\n",
       "      <td>1325376076</td>\n",
       "      <td>47.034331</td>\n",
       "      <td>-112.561071</td>\n",
       "      <td>0</td>\n",
       "    </tr>\n",
       "    <tr>\n",
       "      <th>4</th>\n",
       "      <td>2019-01-01 00:03:06</td>\n",
       "      <td>375534208663984</td>\n",
       "      <td>fraud_Keeling-Crist</td>\n",
       "      <td>misc_pos</td>\n",
       "      <td>41.96</td>\n",
       "      <td>Tyler</td>\n",
       "      <td>Garcia</td>\n",
       "      <td>M</td>\n",
       "      <td>408 Bradley Rest</td>\n",
       "      <td>Doe Hill</td>\n",
       "      <td>...</td>\n",
       "      <td>38.4207</td>\n",
       "      <td>-79.4629</td>\n",
       "      <td>99</td>\n",
       "      <td>Dance movement psychotherapist</td>\n",
       "      <td>1986-03-28</td>\n",
       "      <td>a41d7549acf90789359a9aa5346dcb46</td>\n",
       "      <td>1325376186</td>\n",
       "      <td>38.674999</td>\n",
       "      <td>-78.632459</td>\n",
       "      <td>0</td>\n",
       "    </tr>\n",
       "  </tbody>\n",
       "</table>\n",
       "<p>5 rows × 22 columns</p>\n",
       "</div>"
      ],
      "text/plain": [
       "  trans_date_trans_time            cc_num                            merchant  \\\n",
       "0   2019-01-01 00:00:18  2703186189652095          fraud_Rippin, Kub and Mann   \n",
       "1   2019-01-01 00:00:44      630423337322     fraud_Heller, Gutmann and Zieme   \n",
       "2   2019-01-01 00:00:51    38859492057661                fraud_Lind-Buckridge   \n",
       "3   2019-01-01 00:01:16  3534093764340240  fraud_Kutch, Hermiston and Farrell   \n",
       "4   2019-01-01 00:03:06   375534208663984                 fraud_Keeling-Crist   \n",
       "\n",
       "        category     amt      first     last gender  \\\n",
       "0       misc_net    4.97   Jennifer    Banks      F   \n",
       "1    grocery_pos  107.23  Stephanie     Gill      F   \n",
       "2  entertainment  220.11     Edward  Sanchez      M   \n",
       "3  gas_transport   45.00     Jeremy    White      M   \n",
       "4       misc_pos   41.96      Tyler   Garcia      M   \n",
       "\n",
       "                         street            city  ...      lat      long  \\\n",
       "0                561 Perry Cove  Moravian Falls  ...  36.0788  -81.1781   \n",
       "1  43039 Riley Greens Suite 393          Orient  ...  48.8878 -118.2105   \n",
       "2      594 White Dale Suite 530      Malad City  ...  42.1808 -112.2620   \n",
       "3   9443 Cynthia Court Apt. 038         Boulder  ...  46.2306 -112.1138   \n",
       "4              408 Bradley Rest        Doe Hill  ...  38.4207  -79.4629   \n",
       "\n",
       "   city_pop                                job         dob  \\\n",
       "0      3495          Psychologist, counselling  1988-03-09   \n",
       "1       149  Special educational needs teacher  1978-06-21   \n",
       "2      4154        Nature conservation officer  1962-01-19   \n",
       "3      1939                    Patent attorney  1967-01-12   \n",
       "4        99     Dance movement psychotherapist  1986-03-28   \n",
       "\n",
       "                          trans_num   unix_time  merch_lat  merch_long  \\\n",
       "0  0b242abb623afc578575680df30655b9  1325376018  36.011293  -82.048315   \n",
       "1  1f76529f8574734946361c461b024d99  1325376044  49.159047 -118.186462   \n",
       "2  a1a22d70485983eac12b5b88dad1cf95  1325376051  43.150704 -112.154481   \n",
       "3  6b849c168bdad6f867558c3793159a81  1325376076  47.034331 -112.561071   \n",
       "4  a41d7549acf90789359a9aa5346dcb46  1325376186  38.674999  -78.632459   \n",
       "\n",
       "   is_fraud  \n",
       "0         0  \n",
       "1         0  \n",
       "2         0  \n",
       "3         0  \n",
       "4         0  \n",
       "\n",
       "[5 rows x 22 columns]"
      ]
     },
     "execution_count": 15,
     "metadata": {},
     "output_type": "execute_result"
    }
   ],
   "source": [
    "cat.head(5) #showing the dataframe"
   ]
  },
  {
   "cell_type": "markdown",
   "id": "27fd13b2",
   "metadata": {},
   "source": [
    "This dataset contains allot of categorical, we can use allot of these columns to create easy to read visualization."
   ]
  },
  {
   "cell_type": "markdown",
   "id": "2797ced5",
   "metadata": {},
   "source": [
    "I will convert the column containing the date to datetime so we can extract more information out of this, such as the specific day and month, for later visualazation. Right now the date time is an object with no real information, when we convert it using pandas it becomes a datetime we can convert to other datetimes, such as the specific day."
   ]
  },
  {
   "cell_type": "code",
   "execution_count": 16,
   "id": "4fa6ced9",
   "metadata": {},
   "outputs": [],
   "source": [
    "#converting trans_date_trans_time into datetime\n",
    "cat['trans_date_trans_time'] = pd.to_datetime(cat['trans_date_trans_time'])"
   ]
  },
  {
   "cell_type": "markdown",
   "id": "4296394d",
   "metadata": {},
   "source": [
    "Now that we have done that we can make more columns using datetime. For future graphs that will give us more information. So we take the inital transdate column and we take that timestamp and split it up into multiple colummns, Such as the specific weekday. If we take the transdate \"2019-01-01 00:00:44\" we know its the year 2019 and time somewhere in midnight, but we dont know what specific day it. By using pandas we can figure this out for each row in the dataset and make a seperate column. I do this for all the information I think is neccesary to know each value for the specific time, it is good informatio and for later visualization: Hour, Day, Month and year and month name. "
   ]
  },
  {
   "cell_type": "code",
   "execution_count": 17,
   "id": "28be1f67",
   "metadata": {},
   "outputs": [],
   "source": [
    "# making additonal columns from 'trans_date_trans_time'\n",
    "# hour\n",
    "cat['hour'] = cat['trans_date_trans_time'].dt.hour\n",
    "#'day of the week'\n",
    "cat['day'] = cat['trans_date_trans_time'].dt.day_name()\n",
    "#'year_month'\n",
    "cat['month_year'] = cat['trans_date_trans_time'].dt.to_period('M')\n",
    "#only month name\n",
    "cat['month'] = pd.to_datetime(cat['trans_date_trans_time']).dt.month_name()\n",
    "#date time\n",
    "cat['date_time'] = cat['trans_date_trans_time'].dt.to_period('M')\n"
   ]
  },
  {
   "cell_type": "markdown",
   "id": "a0d20a54",
   "metadata": {},
   "source": [
    "Now we have done that, I want to sort each weekday in chronological order. Later on the the visualization I will make graphs depiciting each weekday, to make this more readable its good to have them in order so you dont get confused. So we first create the order of the week in a variable, we will sort our rows to this variable. "
   ]
  },
  {
   "cell_type": "code",
   "execution_count": 18,
   "id": "691dad87",
   "metadata": {},
   "outputs": [],
   "source": [
    "# Defining the order of the days of the week\n",
    "day = [\"Monday\", \"Tuesday\", \"Wednesday\", \"Thursday\", \"Friday\", \"Saturday\", \n",
    "          \"Sunday\"]"
   ]
  },
  {
   "cell_type": "markdown",
   "id": "6a11fbe8",
   "metadata": {},
   "source": [
    "Here we sort the entire column \"day\" that we previously made out of the date time column using pandas. "
   ]
  },
  {
   "cell_type": "code",
   "execution_count": 19,
   "id": "8d0b0661",
   "metadata": {},
   "outputs": [],
   "source": [
    " # we sort the column weekdaystart to the variable day\n",
    "cat['day'] = pd.Categorical(cat['day'], categories=day, ordered=True)"
   ]
  },
  {
   "cell_type": "markdown",
   "id": "bb78e8fc",
   "metadata": {},
   "source": [
    "Now we show what we have done in the previous steps. If you scroll to the right you can see 4 new columns containing time related data."
   ]
  },
  {
   "cell_type": "code",
   "execution_count": 20,
   "id": "6d099ff4",
   "metadata": {},
   "outputs": [
    {
     "data": {
      "text/html": [
       "<div>\n",
       "<style scoped>\n",
       "    .dataframe tbody tr th:only-of-type {\n",
       "        vertical-align: middle;\n",
       "    }\n",
       "\n",
       "    .dataframe tbody tr th {\n",
       "        vertical-align: top;\n",
       "    }\n",
       "\n",
       "    .dataframe thead th {\n",
       "        text-align: right;\n",
       "    }\n",
       "</style>\n",
       "<table border=\"1\" class=\"dataframe\">\n",
       "  <thead>\n",
       "    <tr style=\"text-align: right;\">\n",
       "      <th></th>\n",
       "      <th>trans_date_trans_time</th>\n",
       "      <th>cc_num</th>\n",
       "      <th>merchant</th>\n",
       "      <th>category</th>\n",
       "      <th>amt</th>\n",
       "      <th>first</th>\n",
       "      <th>last</th>\n",
       "      <th>gender</th>\n",
       "      <th>street</th>\n",
       "      <th>city</th>\n",
       "      <th>...</th>\n",
       "      <th>trans_num</th>\n",
       "      <th>unix_time</th>\n",
       "      <th>merch_lat</th>\n",
       "      <th>merch_long</th>\n",
       "      <th>is_fraud</th>\n",
       "      <th>hour</th>\n",
       "      <th>day</th>\n",
       "      <th>month_year</th>\n",
       "      <th>month</th>\n",
       "      <th>date_time</th>\n",
       "    </tr>\n",
       "  </thead>\n",
       "  <tbody>\n",
       "    <tr>\n",
       "      <th>0</th>\n",
       "      <td>2019-01-01 00:00:18</td>\n",
       "      <td>2703186189652095</td>\n",
       "      <td>fraud_Rippin, Kub and Mann</td>\n",
       "      <td>misc_net</td>\n",
       "      <td>4.97</td>\n",
       "      <td>Jennifer</td>\n",
       "      <td>Banks</td>\n",
       "      <td>F</td>\n",
       "      <td>561 Perry Cove</td>\n",
       "      <td>Moravian Falls</td>\n",
       "      <td>...</td>\n",
       "      <td>0b242abb623afc578575680df30655b9</td>\n",
       "      <td>1325376018</td>\n",
       "      <td>36.011293</td>\n",
       "      <td>-82.048315</td>\n",
       "      <td>0</td>\n",
       "      <td>0</td>\n",
       "      <td>Tuesday</td>\n",
       "      <td>2019-01</td>\n",
       "      <td>January</td>\n",
       "      <td>2019-01</td>\n",
       "    </tr>\n",
       "    <tr>\n",
       "      <th>1</th>\n",
       "      <td>2019-01-01 00:00:44</td>\n",
       "      <td>630423337322</td>\n",
       "      <td>fraud_Heller, Gutmann and Zieme</td>\n",
       "      <td>grocery_pos</td>\n",
       "      <td>107.23</td>\n",
       "      <td>Stephanie</td>\n",
       "      <td>Gill</td>\n",
       "      <td>F</td>\n",
       "      <td>43039 Riley Greens Suite 393</td>\n",
       "      <td>Orient</td>\n",
       "      <td>...</td>\n",
       "      <td>1f76529f8574734946361c461b024d99</td>\n",
       "      <td>1325376044</td>\n",
       "      <td>49.159047</td>\n",
       "      <td>-118.186462</td>\n",
       "      <td>0</td>\n",
       "      <td>0</td>\n",
       "      <td>Tuesday</td>\n",
       "      <td>2019-01</td>\n",
       "      <td>January</td>\n",
       "      <td>2019-01</td>\n",
       "    </tr>\n",
       "  </tbody>\n",
       "</table>\n",
       "<p>2 rows × 27 columns</p>\n",
       "</div>"
      ],
      "text/plain": [
       "  trans_date_trans_time            cc_num                         merchant  \\\n",
       "0   2019-01-01 00:00:18  2703186189652095       fraud_Rippin, Kub and Mann   \n",
       "1   2019-01-01 00:00:44      630423337322  fraud_Heller, Gutmann and Zieme   \n",
       "\n",
       "      category     amt      first   last gender                        street  \\\n",
       "0     misc_net    4.97   Jennifer  Banks      F                561 Perry Cove   \n",
       "1  grocery_pos  107.23  Stephanie   Gill      F  43039 Riley Greens Suite 393   \n",
       "\n",
       "             city  ...                         trans_num   unix_time  \\\n",
       "0  Moravian Falls  ...  0b242abb623afc578575680df30655b9  1325376018   \n",
       "1          Orient  ...  1f76529f8574734946361c461b024d99  1325376044   \n",
       "\n",
       "   merch_lat  merch_long  is_fraud hour      day month_year    month  \\\n",
       "0  36.011293  -82.048315         0    0  Tuesday    2019-01  January   \n",
       "1  49.159047 -118.186462         0    0  Tuesday    2019-01  January   \n",
       "\n",
       "   date_time  \n",
       "0    2019-01  \n",
       "1    2019-01  \n",
       "\n",
       "[2 rows x 27 columns]"
      ]
     },
     "execution_count": 20,
     "metadata": {},
     "output_type": "execute_result"
    }
   ],
   "source": [
    "cat.head(2) #only showing the first 2 rows as an example of all the rows without throwing too much information at you"
   ]
  },
  {
   "cell_type": "markdown",
   "id": "fa43a702",
   "metadata": {},
   "source": [
    "We now made 4 new columns, \"hour\",\"day\",\"month_year\" and \"month\" with just the month name. we will use these later to make interesting graphs, giving us more insight into the domain"
   ]
  },
  {
   "cell_type": "markdown",
   "id": "f3fb07f4",
   "metadata": {},
   "source": [
    "Also for this dataset we will check how much of the dataset is fraud so if our data is balanced or not."
   ]
  },
  {
   "cell_type": "code",
   "execution_count": 21,
   "id": "64c698d1",
   "metadata": {},
   "outputs": [
    {
     "data": {
      "text/plain": [
       "0    99.478999\n",
       "1     0.521001\n",
       "Name: is_fraud, dtype: float64"
      ]
     },
     "execution_count": 21,
     "metadata": {},
     "output_type": "execute_result"
    }
   ],
   "source": [
    "#let us check the percentage of fraudulent data points in our dataset\n",
    "100*cat.is_fraud.value_counts(normalize=True)"
   ]
  },
  {
   "cell_type": "markdown",
   "id": "281a96e0",
   "metadata": {},
   "source": [
    "Also in this dataset 2, there is only a 0.52% of fraud in total, to make our prediction more accurate we will do some sort of scaling later in preproccesing. To not preduce a biased result. "
   ]
  },
  {
   "cell_type": "code",
   "execution_count": 22,
   "id": "1bb70346",
   "metadata": {},
   "outputs": [
    {
     "data": {
      "text/plain": [
       "0"
      ]
     },
     "execution_count": 22,
     "metadata": {},
     "output_type": "execute_result"
    }
   ],
   "source": [
    "# Good No Null Values!\n",
    "cat.isnull().sum().max()"
   ]
  },
  {
   "cell_type": "markdown",
   "id": "26c2c19f",
   "metadata": {},
   "source": [
    "### ◼️ Data visualization"
   ]
  },
  {
   "cell_type": "markdown",
   "id": "785b2bc0",
   "metadata": {},
   "source": [
    "####  Dataset 1"
   ]
  },
  {
   "cell_type": "markdown",
   "id": "175d5ab7",
   "metadata": {},
   "source": [
    "Now we will visualize dataset number 1. containing numeric data."
   ]
  },
  {
   "cell_type": "markdown",
   "id": "abc01f15",
   "metadata": {},
   "source": [
    "Now we will put our analyses to good use and make some visualizations of our data. "
   ]
  },
  {
   "cell_type": "markdown",
   "id": "b98f7ba3",
   "metadata": {},
   "source": [
    "First of all I would like to see what our \"time\" column actually means. We know the \"0\" value is the beginning and all the following numbers are seconds after this points."
   ]
  },
  {
   "cell_type": "code",
   "execution_count": 23,
   "id": "296cf5d4",
   "metadata": {},
   "outputs": [
    {
     "data": {
      "image/png": "[encoded data removed]",
      "text/plain": [
       "<Figure size 360x360 with 1 Axes>"
      ]
     },
     "metadata": {
      "needs_background": "light"
     },
     "output_type": "display_data"
    }
   ],
   "source": [
    "# Time\n",
    "sns.displot(num['Time'].values)\n",
    "plt.title('Distribution of Transaction Time');"
   ]
  },
  {
   "cell_type": "markdown",
   "id": "f8d8166d",
   "metadata": {},
   "source": [
    "Here we see the overall distribution of the time. it goes from o untill 175 000. This passing of time is in seconds. There are 86 400 seconds in a day. so we can assume:"
   ]
  },
  {
   "cell_type": "code",
   "execution_count": 24,
   "id": "f3bf97e1",
   "metadata": {},
   "outputs": [
    {
     "data": {
      "text/plain": [
       "2.025462962962963"
      ]
     },
     "execution_count": 24,
     "metadata": {},
     "output_type": "execute_result"
    }
   ],
   "source": [
    "175000/86400"
   ]
  },
  {
   "cell_type": "markdown",
   "id": "a92149f7",
   "metadata": {},
   "source": [
    "This graph shows the time of 2 days. The distribution makes sense if you see the 2 high points, there are probably the day hours while the dips are the night hours. this means that there are more transaction during the day than in the evening."
   ]
  },
  {
   "cell_type": "markdown",
   "id": "c1929516",
   "metadata": {},
   "source": [
    "Lets review the distribution of fraud and not fraud compared, to see if there are any pattern that could possibly affect our predicitions"
   ]
  },
  {
   "cell_type": "code",
   "execution_count": 25,
   "id": "7fa30f1f",
   "metadata": {},
   "outputs": [
    {
     "data": {
      "image/png": "[encoded data removed]",
      "text/plain": [
       "<Figure size 432x288 with 1 Axes>"
      ]
     },
     "metadata": {
      "needs_background": "light"
     },
     "output_type": "display_data"
    }
   ],
   "source": [
    "sns.distplot(num['Amount'].values , color = 'orange')\n",
    "plt.title('Distribution of amount');"
   ]
  },
  {
   "cell_type": "markdown",
   "id": "0a494435",
   "metadata": {},
   "source": [
    "In this distribution graph we can see that there are allot of outliers. As previously noted in the data analyses, the minimum amount of fraud is \"0\" and the maximum amount is \"25000\". But the average is 88. this means that 25000 is an outlier. since the average is much lower. Most of the variables lie withing 0-100. In data preparations we will fix these outliers to prevent them affecting our prediction negatively"
   ]
  },
  {
   "cell_type": "markdown",
   "id": "6ea73a8b",
   "metadata": {},
   "source": [
    "#### dataset 2"
   ]
  },
  {
   "cell_type": "markdown",
   "id": "27598a22",
   "metadata": {},
   "source": [
    "Now we will visualize dataset number 2. containing categorical data"
   ]
  },
  {
   "cell_type": "markdown",
   "id": "f6eb95cf",
   "metadata": {},
   "source": [
    "Exploring the time data:"
   ]
  },
  {
   "cell_type": "markdown",
   "id": "e1d36be4",
   "metadata": {},
   "source": [
    "Lets visualize the transaction date and time to see if there is a pattern. that could be of benefit for us in making predictions. its also good to see the reach of our dataset timewise:"
   ]
  },
  {
   "cell_type": "code",
   "execution_count": 26,
   "id": "0f2f25ec",
   "metadata": {},
   "outputs": [
    {
     "data": {
      "image/png": "[encoded data removed]",
      "text/plain": [
       "<Figure size 432x288 with 1 Axes>"
      ]
     },
     "metadata": {
      "needs_background": "light"
     },
     "output_type": "display_data"
    }
   ],
   "source": [
    "# let's analyze the the date when maximum frauds have happened\n",
    "sns.kdeplot(cat.trans_date_trans_time)\n",
    "plt.xticks(rotation = 90)\n",
    "plt.show()"
   ]
  },
  {
   "cell_type": "markdown",
   "id": "40272b43",
   "metadata": {},
   "source": [
    "we can see 2 clear spikes. later on in both 2019 and 2020, this is most likely due to the holiday season having spikes in transactions, when people buy more things for gifts during the holiday season."
   ]
  },
  {
   "cell_type": "markdown",
   "id": "01486c7d",
   "metadata": {},
   "source": [
    "First I would like to see all the weekdays compared to amount of frauds, to see if there is a correlation:"
   ]
  },
  {
   "cell_type": "code",
   "execution_count": 27,
   "id": "c2648441",
   "metadata": {},
   "outputs": [
    {
     "data": {
      "image/png": "[encoded data removed]",
      "text/plain": [
       "<Figure size 1152x360 with 1 Axes>"
      ]
     },
     "metadata": {
      "needs_background": "light"
     },
     "output_type": "display_data"
    }
   ],
   "source": [
    "plt.figure(figsize=(16,5))\n",
    "sns.countplot(x=\"day\", data=cat, hue=\"is_fraud\",\n",
    "            palette=\"pastel\")\n",
    "plt.title('Distribution of frauds per day');"
   ]
  },
  {
   "cell_type": "markdown",
   "id": "4d3d3cc2",
   "metadata": {},
   "source": [
    "This graph shows the distribution of data entries for each day of the week, monday has the most amount of transactions, probably because credit card automatic transactions go through on mondays. Other than that, because our data is very imbalanced, you cant really tell when the most frauds occur. will scale our data later"
   ]
  },
  {
   "cell_type": "markdown",
   "id": "2b776e34",
   "metadata": {},
   "source": [
    "now I want to visualize each hour of the day. to see if there are any patterns."
   ]
  },
  {
   "cell_type": "code",
   "execution_count": 28,
   "id": "69da4d37",
   "metadata": {},
   "outputs": [
    {
     "data": {
      "text/plain": [
       "[Text(0.5, 1.0, 'Weekday compared to hours')]"
      ]
     },
     "execution_count": 28,
     "metadata": {},
     "output_type": "execute_result"
    },
    {
     "data": {
      "image/png": "[encoded data removed]",
      "text/plain": [
       "<Figure size 1152x360 with 1 Axes>"
      ]
     },
     "metadata": {
      "needs_background": "light"
     },
     "output_type": "display_data"
    }
   ],
   "source": [
    "plt.figure(figsize=(16,5))\n",
    "sns.countplot(x=\"hour\", data=cat,hue=\"is_fraud\",\n",
    "            palette=\"pastel\").set(title='Weekday compared to hours')"
   ]
  },
  {
   "cell_type": "markdown",
   "id": "1c1a66b4",
   "metadata": {},
   "source": [
    "Here is shows that in the afternoon most transactions start. which makes sense, people dont usually buy things in the morning. "
   ]
  },
  {
   "cell_type": "markdown",
   "id": "8c212e45",
   "metadata": {},
   "source": [
    "Now lets see if there are any noticable things when we show the distribution per month"
   ]
  },
  {
   "cell_type": "code",
   "execution_count": 29,
   "id": "9815df62",
   "metadata": {},
   "outputs": [
    {
     "data": {
      "image/png": "[encoded data removed]",
      "text/plain": [
       "<Figure size 1152x360 with 1 Axes>"
      ]
     },
     "metadata": {
      "needs_background": "light"
     },
     "output_type": "display_data"
    }
   ],
   "source": [
    "plt.figure(figsize=(16,5))\n",
    "sns.countplot(x=\"month\", data=cat,hue=\"is_fraud\",\n",
    "            palette=\"pastel\")\n",
    "plt.title('Distribution of frauds per month');"
   ]
  },
  {
   "cell_type": "markdown",
   "id": "97b7663a",
   "metadata": {},
   "source": [
    "We can tell most people make transactions during december, for it is the holiday season. other than that the fluctuation isnt that much."
   ]
  },
  {
   "cell_type": "code",
   "execution_count": 30,
   "id": "3e40d274",
   "metadata": {},
   "outputs": [
    {
     "data": {
      "image/png": "[encoded data removed]",
      "text/plain": [
       "<Figure size 1080x720 with 4 Axes>"
      ]
     },
     "metadata": {
      "needs_background": "light"
     },
     "output_type": "display_data"
    }
   ],
   "source": [
    "fig, ax = plt.subplots(figsize=(15,10))\n",
    "\n",
    "plot = [0,0,0,0]\n",
    "#plot gender\n",
    "plot[0] = sns.countplot(cat.gender, ax=plt.subplot(211))\n",
    "plt.title(\"Amount of transaction per gender\")\n",
    "#plot gender in comparison with time\n",
    "plot[1] = sns.countplot(cat.hour, hue=cat.gender, ax=plt.subplot(234))\n",
    "plot[2] = sns.countplot(cat.day, hue=cat.gender, ax=plt.subplot(235))\n",
    "plot[3] = sns.countplot(cat.month, hue=cat.gender, ax=plt.subplot(236))\n",
    "\n",
    "for i in plot:\n",
    "  i.set_xticklabels(i.get_xticklabels(), rotation=90) #rotate the x labels 90 degrees\n",
    "\n",
    "plt.show()"
   ]
  },
  {
   "cell_type": "markdown",
   "id": "2102ef21",
   "metadata": {},
   "source": [
    "Here we can see that females have more transactions, therefor they have a higher chance of fraud.\n",
    "Also interesting to see is in graph 4 for the distribution for each month, that december has the highest count, this is probably due to the holiday season, which gives opputunity for more fraud, since most peope do more transaction for gifts."
   ]
  },
  {
   "cell_type": "markdown",
   "id": "94ca81ee",
   "metadata": {},
   "source": [
    "Geolocation:"
   ]
  },
  {
   "cell_type": "markdown",
   "id": "aefb1792",
   "metadata": {},
   "source": [
    "Even tho I don think im going to use the geolocation in my predictions, I still want to visualize the longtitude and latitude. To create a nice visual of the map of america:"
   ]
  },
  {
   "cell_type": "code",
   "execution_count": 31,
   "id": "3647fc81",
   "metadata": {
    "scrolled": false
   },
   "outputs": [
    {
     "data": {
      "text/plain": [
       "Text(0.5, 0.98, 'Longitude latidude mapped')"
      ]
     },
     "execution_count": 31,
     "metadata": {},
     "output_type": "execute_result"
    },
    {
     "data": {
      "text/plain": [
       "<Figure size 1152x360 with 0 Axes>"
      ]
     },
     "metadata": {},
     "output_type": "display_data"
    },
    {
     "data": {
      "image/png": "[encoded data removed]",
      "text/plain": [
       "<Figure size 432x432 with 3 Axes>"
      ]
     },
     "metadata": {
      "needs_background": "light"
     },
     "output_type": "display_data"
    }
   ],
   "source": [
    "plt.figure(figsize=(16,5))\n",
    "p = sns.jointplot(data=cat, x=\"long\", y=\"lat\", hue=\"is_fraud\")\n",
    "p.fig.suptitle(\"Longitude latidude mapped\")"
   ]
  },
  {
   "cell_type": "markdown",
   "id": "f67d9e91",
   "metadata": {},
   "source": [
    "Here we plot the long and lat of the transactions. This creates a map in the shape of american. the outlier here are probably alaska and hawaii. You can tell its most dense around the east coast, this means that there are more transactions here."
   ]
  },
  {
   "cell_type": "markdown",
   "id": "d04c4dd3",
   "metadata": {},
   "source": [
    "We will explore further by going into the specific category of each transaction. To see if there is a pattern or which category has the most fraud. but first we will see which category has the most amount of losses:"
   ]
  },
  {
   "cell_type": "code",
   "execution_count": 32,
   "id": "238acf3a",
   "metadata": {},
   "outputs": [
    {
     "data": {
      "image/png": "[encoded data removed]",
      "text/plain": [
       "<Figure size 432x288 with 1 Axes>"
      ]
     },
     "metadata": {
      "needs_background": "light"
     },
     "output_type": "display_data"
    }
   ],
   "source": [
    "# Let's see in which category the losses are huge\n",
    "data_cat = cat.groupby(by = \"category\").sum()\n",
    "sns.barplot(y = data_cat.index,x=data_cat.amt)\n",
    "plt.show()"
   ]
  },
  {
   "cell_type": "markdown",
   "id": "eca5412c",
   "metadata": {},
   "source": [
    "Here we see that grocery_pos has the most amount of money stolen. grocery pos means that the transaction was not made via the internet. This is probably the case because when people get scammed online they scammers usually take small amounts of money to not alarm the consumer, when physical interaction occur people usually steal the credit card and then take as much money as they can get."
   ]
  },
  {
   "cell_type": "markdown",
   "id": "a24b57c0",
   "metadata": {},
   "source": [
    "Now we will see which specific category has the most fraud in total"
   ]
  },
  {
   "cell_type": "code",
   "execution_count": 33,
   "id": "2b2632ff",
   "metadata": {},
   "outputs": [
    {
     "data": {
      "text/plain": [
       "[Text(0.5, 1.0, 'Number of frauds by category')]"
      ]
     },
     "execution_count": 33,
     "metadata": {},
     "output_type": "execute_result"
    },
    {
     "data": {
      "image/png": "[encoded data removed]",
      "text/plain": [
       "<Figure size 1440x576 with 1 Axes>"
      ]
     },
     "metadata": {
      "needs_background": "light"
     },
     "output_type": "display_data"
    }
   ],
   "source": [
    "plt.figure(figsize=(20,8))\n",
    "a = sns.barplot(x=\"category\", y='is_fraud' ,data=cat)\n",
    "\n",
    "a.set(title='Number of frauds by category')  "
   ]
  },
  {
   "cell_type": "markdown",
   "id": "ca7d711b",
   "metadata": {},
   "source": [
    "Here we can see that online shopping has the most instances of fraud. this means that most fraud happens online."
   ]
  },
  {
   "cell_type": "markdown",
   "id": "16b42589",
   "metadata": {},
   "source": [
    "I dont think jobs are important, there are too many jobs and I dont think there will be a correlation between fraud or not "
   ]
  },
  {
   "cell_type": "code",
   "execution_count": 34,
   "id": "1598424d",
   "metadata": {},
   "outputs": [
    {
     "data": {
      "text/plain": [
       "array(['Psychologist, counselling', 'Special educational needs teacher',\n",
       "       'Nature conservation officer', 'Patent attorney',\n",
       "       'Dance movement psychotherapist', 'Transport planner',\n",
       "       'Arboriculturist', 'Designer, multimedia',\n",
       "       'Public affairs consultant', 'Pathologist', 'IT trainer',\n",
       "       'Systems developer', 'Engineer, land', 'Systems analyst',\n",
       "       'Naval architect', 'Radiographer, diagnostic',\n",
       "       'Programme researcher, broadcasting/film/video', 'Energy engineer',\n",
       "       'Event organiser', 'Operational researcher', 'Market researcher',\n",
       "       'Probation officer', 'Leisure centre manager',\n",
       "       'Corporate investment banker', 'Therapist, occupational',\n",
       "       'Call centre manager', 'Police officer',\n",
       "       'Education officer, museum', 'Physiotherapist', 'Network engineer',\n",
       "       'Forensic psychologist', 'Geochemist',\n",
       "       'Armed forces training and education officer',\n",
       "       'Designer, furniture', 'Optician, dispensing',\n",
       "       'Psychologist, forensic', 'Librarian, public', 'Fine artist',\n",
       "       'Scientist, research (maths)', 'Research officer, trade union',\n",
       "       'Tourism officer', 'Human resources officer', 'Surveyor, minerals',\n",
       "       'Applications developer', 'Video editor', 'Curator',\n",
       "       'Research officer, political party', 'Engineer, mining',\n",
       "       'Education officer, community', 'Physicist, medical',\n",
       "       'Amenity horticulturist', 'Electrical engineer',\n",
       "       'Television camera operator', 'Higher education careers adviser',\n",
       "       'Ambulance person', 'Dealer', 'Paediatric nurse',\n",
       "       'Trading standards officer', 'Engineer, technical sales',\n",
       "       'Designer, jewellery', 'Clinical biochemist',\n",
       "       'Engineer, electronics', 'Water engineer', 'Science writer',\n",
       "       'Film/video editor', 'Solicitor, Scotland',\n",
       "       'Product/process development scientist', 'Tree surgeon',\n",
       "       'Careers information officer', 'Geologist, engineering',\n",
       "       'Counsellor', 'Freight forwarder',\n",
       "       'Senior tax professional/tax inspector',\n",
       "       'Engineer, broadcasting (operations)',\n",
       "       'English as a second language teacher', 'Economist',\n",
       "       'Child psychotherapist', 'Claims inspector/assessor',\n",
       "       'Tourist information centre manager',\n",
       "       'Exhibitions officer, museum/gallery', 'Location manager',\n",
       "       'Engineer, biomedical', 'Research scientist (physical sciences)',\n",
       "       'Purchasing manager', 'Editor, magazine features',\n",
       "       'Operations geologist', 'Interpreter', 'Engineering geologist',\n",
       "       'Agricultural consultant', 'Paramedic', 'Financial adviser',\n",
       "       'Administrator, education', 'Educational psychologist',\n",
       "       'Financial trader', 'Audiological scientist',\n",
       "       'Scientist, audiological',\n",
       "       'Administrator, charities/voluntary organisations',\n",
       "       'Health service manager', 'Retail merchandiser',\n",
       "       'Telecommunications researcher', 'Exercise physiologist',\n",
       "       'Accounting technician', 'Product designer',\n",
       "       'Waste management officer', 'Mining engineer', 'Surgeon',\n",
       "       'Therapist, horticultural', 'Environmental consultant',\n",
       "       'Broadcast presenter', 'Producer, radio',\n",
       "       'Engineer, communications',\n",
       "       'Historic buildings inspector/conservation officer',\n",
       "       'Teacher, English as a foreign language', 'Materials engineer',\n",
       "       'Health visitor', 'Medical secretary', 'Theatre director',\n",
       "       'Technical brewer', 'Land/geomatics surveyor',\n",
       "       'Engineer, structural', 'Diagnostic radiographer',\n",
       "       'Television production assistant', 'Medical sales representative',\n",
       "       'Building control surveyor', 'Therapist, sports',\n",
       "       'Structural engineer', 'Commercial/residential surveyor',\n",
       "       'Database administrator', 'Exhibition designer',\n",
       "       'Training and development officer', 'Mechanical engineer',\n",
       "       'Medical physicist', 'Administrator', 'Mudlogger',\n",
       "       'Fisheries officer', 'Conservator, museum/gallery',\n",
       "       'Programmer, multimedia', 'Cytogeneticist',\n",
       "       'Multimedia programmer', 'Counselling psychologist', 'Chiropodist',\n",
       "       'Teacher, early years/pre', 'Cartographer', 'Pensions consultant',\n",
       "       'Primary school teacher', 'Electronics engineer',\n",
       "       'Museum/gallery exhibitions officer', 'Air broker',\n",
       "       'Chemical engineer', 'Advertising account executive',\n",
       "       'Advertising account planner',\n",
       "       'Chartered legal executive (England and Wales)',\n",
       "       'Psychiatric nurse', 'Secondary school teacher',\n",
       "       'Librarian, academic', 'Embryologist, clinical', 'Immunologist',\n",
       "       'Television floor manager', 'Contractor', 'Health physicist',\n",
       "       'Copy', 'Bookseller', 'Land', 'Chartered loss adjuster',\n",
       "       'Occupational psychologist', 'Facilities manager',\n",
       "       'Further education lecturer', 'Archivist', 'Investment analyst',\n",
       "       'Engineer, building services', 'Psychologist, sport and exercise',\n",
       "       'Journalist, newspaper', 'Doctor, hospital', 'Phytotherapist',\n",
       "       'Pharmacologist', 'Horticultural therapist', 'Hydrologist',\n",
       "       'Community arts worker', 'Public house manager', 'Architect',\n",
       "       'Lexicographer', 'Psychotherapist, child',\n",
       "       'Teacher, secondary school', 'Toxicologist',\n",
       "       'Commercial horticulturist', 'Podiatrist', 'Building surveyor',\n",
       "       'Architectural technologist', 'Editor, film/video',\n",
       "       'Social researcher', 'Wellsite geologist', 'Minerals surveyor',\n",
       "       'Designer, ceramics/pottery', 'Mental health nurse',\n",
       "       'Volunteer coordinator', 'Chief Technology Officer',\n",
       "       'Camera operator', 'Copywriter, advertising', 'Surveyor, mining',\n",
       "       'Product manager', \"Nurse, children's\", 'Pension scheme manager',\n",
       "       'Archaeologist', 'Sub', 'Designer, interior/spatial',\n",
       "       'Futures trader', 'Chief Financial Officer',\n",
       "       'Museum education officer', 'Quantity surveyor',\n",
       "       'Physiological scientist', 'Loss adjuster, chartered',\n",
       "       'Pilot, airline', 'Production assistant, radio',\n",
       "       'Immigration officer', 'Retail banker',\n",
       "       'Health and safety adviser', 'Teacher, special educational needs',\n",
       "       'Jewellery designer', 'Community pharmacist',\n",
       "       'Control and instrumentation engineer', 'Make',\n",
       "       'Early years teacher', 'Sales professional, IT',\n",
       "       'Scientist, marine', 'Intelligence analyst',\n",
       "       'Clinical research associate', 'Administrator, local government',\n",
       "       'Barrister', 'Engineer, control and instrumentation',\n",
       "       'Clothing/textile technologist', 'Development worker, community',\n",
       "       'Art therapist', 'Sales executive',\n",
       "       'Armed forces logistics/support/administrative officer',\n",
       "       'Optometrist', 'Insurance underwriter', 'Charity officer',\n",
       "       'Civil Service fast streamer', 'Retail buyer',\n",
       "       'Magazine features editor', 'Equities trader',\n",
       "       'Trade mark attorney', 'Research scientist (life sciences)',\n",
       "       'Psychotherapist', 'Pharmacist, community', 'Risk analyst',\n",
       "       'Engineer, maintenance', 'Logistics and distribution manager',\n",
       "       'Water quality scientist', 'Lecturer, further education',\n",
       "       'Production assistant, television', 'Tour manager',\n",
       "       'Music therapist', 'Surveyor, land/geomatics',\n",
       "       'Engineer, production', 'Acupuncturist', 'Hospital doctor',\n",
       "       'Teacher, primary school', 'Accountant, chartered public finance',\n",
       "       'Illustrator', 'Scientist, physiological', 'Buyer, industrial',\n",
       "       'Scientist, research (physical sciences)', 'Radio producer',\n",
       "       'Manufacturing engineer', 'Animal technologist',\n",
       "       'Production engineer', 'Biochemist, clinical',\n",
       "       'Engineer, manufacturing', 'Comptroller',\n",
       "       'General practice doctor', 'Designer, industrial/product',\n",
       "       'Prison officer', 'Merchandiser, retail', 'Engineer, drilling',\n",
       "       'Engineer, petroleum', 'Cabin crew', 'Commissioning editor',\n",
       "       'Accountant, chartered certified', 'Local government officer',\n",
       "       'Professor Emeritus', 'Press sub',\n",
       "       'Chartered public finance accountant', 'Writer',\n",
       "       'Chief Executive Officer', 'Occupational hygienist',\n",
       "       'Doctor, general practice', 'Community education officer',\n",
       "       'Landscape architect', 'Occupational therapist',\n",
       "       'Special effects artist', 'Civil engineer, contracting',\n",
       "       \"Barrister's clerk\", 'Travel agency manager',\n",
       "       'Associate Professor', 'Neurosurgeon', 'Plant breeder/geneticist',\n",
       "       'Radio broadcast assistant', 'Field seismologist',\n",
       "       'Industrial/product designer', 'Metallurgist',\n",
       "       \"Politician's assistant\", 'Insurance claims handler',\n",
       "       'Theme park manager', 'Gaffer', 'Chief Strategy Officer',\n",
       "       'Heritage manager', 'Ceramics designer', 'Animator',\n",
       "       'Oceanographer', 'Colour technologist', 'Engineer, agricultural',\n",
       "       'Therapist, drama', 'Orthoptist', 'Learning mentor',\n",
       "       'Arts development officer', 'Biomedical engineer',\n",
       "       'Race relations officer', 'Therapist, music', 'Retail manager',\n",
       "       'Furniture designer', 'Building services engineer',\n",
       "       'Maintenance engineer', 'Aid worker', 'Editor, commissioning',\n",
       "       'Private music teacher', 'Scientist, biomedical',\n",
       "       'Public relations account executive', 'Dispensing optician',\n",
       "       'Advice worker', 'Hydrographic surveyor', 'Geoscientist',\n",
       "       'Environmental health practitioner', 'Learning disability nurse',\n",
       "       'Chief Operating Officer', 'Scientific laboratory technician',\n",
       "       'Records manager', 'Barista', 'Marketing executive',\n",
       "       'Tax inspector', 'Musician', 'Therapist, art',\n",
       "       'Engineer, automotive', 'Clinical psychologist', 'Warden/ranger',\n",
       "       'Surveyor, rural practice', 'Sport and exercise psychologist',\n",
       "       'Education administrator', 'Chief of Staff',\n",
       "       'Nurse, mental health', 'Music tutor',\n",
       "       'Planning and development surveyor',\n",
       "       'Teaching laboratory technician', 'Chief Marketing Officer',\n",
       "       'Theatre manager', 'Quarry manager',\n",
       "       'Interior and spatial designer', 'Lecturer, higher education',\n",
       "       'Regulatory affairs officer', 'Secretary/administrator',\n",
       "       'Chemist, analytical', 'Designer, exhibition/display',\n",
       "       'Pharmacist, hospital', 'Site engineer',\n",
       "       'Equality and diversity officer', 'Public librarian',\n",
       "       'Town planner', 'Chartered accountant', 'Programmer, applications',\n",
       "       'Manufacturing systems engineer', 'Web designer',\n",
       "       'Community development worker', 'Animal nutritionist',\n",
       "       'Petroleum engineer', 'Information systems manager',\n",
       "       'Press photographer', 'Insurance risk surveyor', 'Soil scientist',\n",
       "       'Buyer, retail', 'Public relations officer',\n",
       "       'Health promotion specialist', 'Psychiatrist',\n",
       "       'Visual merchandiser', 'Rural practice surveyor', 'Hotel manager',\n",
       "       'Communications engineer', 'Insurance broker',\n",
       "       'Radiographer, therapeutic', 'Set designer', 'Tax adviser',\n",
       "       'Drilling engineer', 'Fitness centre manager', 'Farm manager',\n",
       "       'Management consultant', 'Energy manager',\n",
       "       'Museum/gallery conservator', 'Herbalist', 'Osteopath',\n",
       "       'Statistician', 'Hospital pharmacist', 'Estate manager/land agent',\n",
       "       'Sports development officer', 'Investment banker, corporate',\n",
       "       'Biomedical scientist', 'Television/film/video producer',\n",
       "       'Nutritional therapist', 'Company secretary', 'Production manager',\n",
       "       'Magazine journalist', 'Media buyer', 'Data scientist',\n",
       "       'Engineer, civil (contracting)', 'Herpetologist',\n",
       "       'Garment/textile technologist', 'Scientist, research (medical)',\n",
       "       'Civil Service administrator', 'Airline pilot', 'Textile designer',\n",
       "       'Environmental manager', 'Furniture conservator/restorer',\n",
       "       'Horticultural consultant', 'Firefighter',\n",
       "       'Geophysicist/field seismologist', 'Psychologist, clinical',\n",
       "       'Development worker, international aid', 'Sports administrator',\n",
       "       'IT consultant', 'Presenter, broadcasting',\n",
       "       'Outdoor activities/education manager', 'Field trials officer',\n",
       "       'Social research officer, government',\n",
       "       'English as a foreign language teacher',\n",
       "       'Restaurant manager, fast food', 'Hydrogeologist',\n",
       "       'Research scientist (medical)', 'Designer, television/film set',\n",
       "       'Geneticist, molecular', 'Designer, textile',\n",
       "       'Licensed conveyancer', 'Emergency planning/management officer',\n",
       "       'Geologist, wellsite', 'Air cabin crew', 'Seismic interpreter',\n",
       "       'Surveyor, hydrographic', 'Charity fundraiser', 'Stage manager',\n",
       "       'Aeronautical engineer', 'Glass blower/designer', 'Ecologist',\n",
       "       'Horticulturist, commercial', 'Research scientist (maths)',\n",
       "       'Engineer, aeronautical',\n",
       "       'Conservation officer, historic buildings', 'Art gallery manager',\n",
       "       'Advertising copywriter', 'Engineer, civil (consulting)',\n",
       "       'Oncologist', 'Engineer, materials',\n",
       "       'Scientist, clinical (histocompatibility and immunogenetics)',\n",
       "       'Investment banker, operational', 'Medical technical officer',\n",
       "       'Academic librarian', 'Artist', 'Clinical cytogeneticist',\n",
       "       'TEFL teacher', 'Administrator, arts', 'Teacher, adult education',\n",
       "       'Catering manager', 'Environmental education officer',\n",
       "       'Conservator, furniture', 'Analytical chemist',\n",
       "       'Broadcast engineer', 'Media planner', 'Lawyer',\n",
       "       'Producer, television/film/video',\n",
       "       'Armed forces technical officer', 'Engineer, site',\n",
       "       'Contracting civil engineer', 'Veterinary surgeon',\n",
       "       'Sales promotion account executive', 'Broadcast journalist',\n",
       "       'Dancer', 'Forest/woodland manager', 'Personnel officer',\n",
       "       'Industrial buyer', 'Accountant, chartered',\n",
       "       'Air traffic controller', 'Careers adviser', 'Information officer',\n",
       "       'Ship broker', 'Legal secretary', 'Homeopath', 'Solicitor',\n",
       "       'Warehouse manager', 'Engineer, water',\n",
       "       'Operational investment banker', 'Software engineer'], dtype=object)"
      ]
     },
     "execution_count": 34,
     "metadata": {},
     "output_type": "execute_result"
    }
   ],
   "source": [
    "cat.job.unique()"
   ]
  },
  {
   "cell_type": "markdown",
   "id": "5a413fb0",
   "metadata": {},
   "source": [
    "## 🔹Data preperation\n"
   ]
  },
  {
   "cell_type": "markdown",
   "id": "a985af3b",
   "metadata": {},
   "source": [
    "#### Dataset 1"
   ]
  },
  {
   "cell_type": "markdown",
   "id": "6c1c99d5",
   "metadata": {},
   "source": [
    "In data preparation we prepare the data for modeling, we usually clean the dataset when neccesary and deal with missing values. Since dataset number 1 is already mainly numeric data. there is not much cleaning we can do."
   ]
  },
  {
   "cell_type": "code",
   "execution_count": 68,
   "id": "fbc92a42",
   "metadata": {},
   "outputs": [
    {
     "data": {
      "text/html": [
       "<div>\n",
       "<style scoped>\n",
       "    .dataframe tbody tr th:only-of-type {\n",
       "        vertical-align: middle;\n",
       "    }\n",
       "\n",
       "    .dataframe tbody tr th {\n",
       "        vertical-align: top;\n",
       "    }\n",
       "\n",
       "    .dataframe thead th {\n",
       "        text-align: right;\n",
       "    }\n",
       "</style>\n",
       "<table border=\"1\" class=\"dataframe\">\n",
       "  <thead>\n",
       "    <tr style=\"text-align: right;\">\n",
       "      <th></th>\n",
       "      <th>scaled_amount</th>\n",
       "      <th>scaled_time</th>\n",
       "      <th>V1</th>\n",
       "      <th>V2</th>\n",
       "      <th>V3</th>\n",
       "      <th>V4</th>\n",
       "      <th>V5</th>\n",
       "      <th>V6</th>\n",
       "      <th>V7</th>\n",
       "      <th>V8</th>\n",
       "      <th>...</th>\n",
       "      <th>V20</th>\n",
       "      <th>V21</th>\n",
       "      <th>V22</th>\n",
       "      <th>V23</th>\n",
       "      <th>V24</th>\n",
       "      <th>V25</th>\n",
       "      <th>V26</th>\n",
       "      <th>V27</th>\n",
       "      <th>V28</th>\n",
       "      <th>Class</th>\n",
       "    </tr>\n",
       "  </thead>\n",
       "  <tbody>\n",
       "    <tr>\n",
       "      <th>0</th>\n",
       "      <td>1.783274</td>\n",
       "      <td>-0.994983</td>\n",
       "      <td>-1.359807</td>\n",
       "      <td>-0.072781</td>\n",
       "      <td>2.536347</td>\n",
       "      <td>1.378155</td>\n",
       "      <td>-0.338321</td>\n",
       "      <td>0.462388</td>\n",
       "      <td>0.239599</td>\n",
       "      <td>0.098698</td>\n",
       "      <td>...</td>\n",
       "      <td>0.251412</td>\n",
       "      <td>-0.018307</td>\n",
       "      <td>0.277838</td>\n",
       "      <td>-0.110474</td>\n",
       "      <td>0.066928</td>\n",
       "      <td>0.128539</td>\n",
       "      <td>-0.189115</td>\n",
       "      <td>0.133558</td>\n",
       "      <td>-0.021053</td>\n",
       "      <td>0</td>\n",
       "    </tr>\n",
       "    <tr>\n",
       "      <th>1</th>\n",
       "      <td>-0.269825</td>\n",
       "      <td>-0.994983</td>\n",
       "      <td>1.191857</td>\n",
       "      <td>0.266151</td>\n",
       "      <td>0.166480</td>\n",
       "      <td>0.448154</td>\n",
       "      <td>0.060018</td>\n",
       "      <td>-0.082361</td>\n",
       "      <td>-0.078803</td>\n",
       "      <td>0.085102</td>\n",
       "      <td>...</td>\n",
       "      <td>-0.069083</td>\n",
       "      <td>-0.225775</td>\n",
       "      <td>-0.638672</td>\n",
       "      <td>0.101288</td>\n",
       "      <td>-0.339846</td>\n",
       "      <td>0.167170</td>\n",
       "      <td>0.125895</td>\n",
       "      <td>-0.008983</td>\n",
       "      <td>0.014724</td>\n",
       "      <td>0</td>\n",
       "    </tr>\n",
       "    <tr>\n",
       "      <th>2</th>\n",
       "      <td>4.983721</td>\n",
       "      <td>-0.994972</td>\n",
       "      <td>-1.358354</td>\n",
       "      <td>-1.340163</td>\n",
       "      <td>1.773209</td>\n",
       "      <td>0.379780</td>\n",
       "      <td>-0.503198</td>\n",
       "      <td>1.800499</td>\n",
       "      <td>0.791461</td>\n",
       "      <td>0.247676</td>\n",
       "      <td>...</td>\n",
       "      <td>0.524980</td>\n",
       "      <td>0.247998</td>\n",
       "      <td>0.771679</td>\n",
       "      <td>0.909412</td>\n",
       "      <td>-0.689281</td>\n",
       "      <td>-0.327642</td>\n",
       "      <td>-0.139097</td>\n",
       "      <td>-0.055353</td>\n",
       "      <td>-0.059752</td>\n",
       "      <td>0</td>\n",
       "    </tr>\n",
       "    <tr>\n",
       "      <th>3</th>\n",
       "      <td>1.418291</td>\n",
       "      <td>-0.994972</td>\n",
       "      <td>-0.966272</td>\n",
       "      <td>-0.185226</td>\n",
       "      <td>1.792993</td>\n",
       "      <td>-0.863291</td>\n",
       "      <td>-0.010309</td>\n",
       "      <td>1.247203</td>\n",
       "      <td>0.237609</td>\n",
       "      <td>0.377436</td>\n",
       "      <td>...</td>\n",
       "      <td>-0.208038</td>\n",
       "      <td>-0.108300</td>\n",
       "      <td>0.005274</td>\n",
       "      <td>-0.190321</td>\n",
       "      <td>-1.175575</td>\n",
       "      <td>0.647376</td>\n",
       "      <td>-0.221929</td>\n",
       "      <td>0.062723</td>\n",
       "      <td>0.061458</td>\n",
       "      <td>0</td>\n",
       "    </tr>\n",
       "    <tr>\n",
       "      <th>4</th>\n",
       "      <td>0.670579</td>\n",
       "      <td>-0.994960</td>\n",
       "      <td>-1.158233</td>\n",
       "      <td>0.877737</td>\n",
       "      <td>1.548718</td>\n",
       "      <td>0.403034</td>\n",
       "      <td>-0.407193</td>\n",
       "      <td>0.095921</td>\n",
       "      <td>0.592941</td>\n",
       "      <td>-0.270533</td>\n",
       "      <td>...</td>\n",
       "      <td>0.408542</td>\n",
       "      <td>-0.009431</td>\n",
       "      <td>0.798278</td>\n",
       "      <td>-0.137458</td>\n",
       "      <td>0.141267</td>\n",
       "      <td>-0.206010</td>\n",
       "      <td>0.502292</td>\n",
       "      <td>0.219422</td>\n",
       "      <td>0.215153</td>\n",
       "      <td>0</td>\n",
       "    </tr>\n",
       "  </tbody>\n",
       "</table>\n",
       "<p>5 rows × 31 columns</p>\n",
       "</div>"
      ],
      "text/plain": [
       "   scaled_amount  scaled_time        V1        V2        V3        V4  \\\n",
       "0       1.783274    -0.994983 -1.359807 -0.072781  2.536347  1.378155   \n",
       "1      -0.269825    -0.994983  1.191857  0.266151  0.166480  0.448154   \n",
       "2       4.983721    -0.994972 -1.358354 -1.340163  1.773209  0.379780   \n",
       "3       1.418291    -0.994972 -0.966272 -0.185226  1.792993 -0.863291   \n",
       "4       0.670579    -0.994960 -1.158233  0.877737  1.548718  0.403034   \n",
       "\n",
       "         V5        V6        V7        V8  ...       V20       V21       V22  \\\n",
       "0 -0.338321  0.462388  0.239599  0.098698  ...  0.251412 -0.018307  0.277838   \n",
       "1  0.060018 -0.082361 -0.078803  0.085102  ... -0.069083 -0.225775 -0.638672   \n",
       "2 -0.503198  1.800499  0.791461  0.247676  ...  0.524980  0.247998  0.771679   \n",
       "3 -0.010309  1.247203  0.237609  0.377436  ... -0.208038 -0.108300  0.005274   \n",
       "4 -0.407193  0.095921  0.592941 -0.270533  ...  0.408542 -0.009431  0.798278   \n",
       "\n",
       "        V23       V24       V25       V26       V27       V28  Class  \n",
       "0 -0.110474  0.066928  0.128539 -0.189115  0.133558 -0.021053      0  \n",
       "1  0.101288 -0.339846  0.167170  0.125895 -0.008983  0.014724      0  \n",
       "2  0.909412 -0.689281 -0.327642 -0.139097 -0.055353 -0.059752      0  \n",
       "3 -0.190321 -1.175575  0.647376 -0.221929  0.062723  0.061458      0  \n",
       "4 -0.137458  0.141267 -0.206010  0.502292  0.219422  0.215153      0  \n",
       "\n",
       "[5 rows x 31 columns]"
      ]
     },
     "execution_count": 68,
     "metadata": {},
     "output_type": "execute_result"
    }
   ],
   "source": [
    "num.head()"
   ]
  },
  {
   "cell_type": "markdown",
   "id": "2f55fed0",
   "metadata": {},
   "source": [
    "There are also no null values"
   ]
  },
  {
   "cell_type": "code",
   "execution_count": 71,
   "id": "5d6dd026",
   "metadata": {},
   "outputs": [
    {
     "data": {
      "text/plain": [
       "scaled_amount    0\n",
       "scaled_time      0\n",
       "V1               0\n",
       "V2               0\n",
       "V3               0\n",
       "V4               0\n",
       "V5               0\n",
       "V6               0\n",
       "V7               0\n",
       "V8               0\n",
       "V9               0\n",
       "V10              0\n",
       "V11              0\n",
       "V12              0\n",
       "V13              0\n",
       "V14              0\n",
       "V15              0\n",
       "V16              0\n",
       "V17              0\n",
       "V18              0\n",
       "V19              0\n",
       "V20              0\n",
       "V21              0\n",
       "V22              0\n",
       "V23              0\n",
       "V24              0\n",
       "V25              0\n",
       "V26              0\n",
       "V27              0\n",
       "V28              0\n",
       "Class            0\n",
       "dtype: int64"
      ]
     },
     "execution_count": 71,
     "metadata": {},
     "output_type": "execute_result"
    }
   ],
   "source": [
    "num.isna().sum()"
   ]
  },
  {
   "cell_type": "markdown",
   "id": "619ba657",
   "metadata": {},
   "source": [
    "#### Dataset 2"
   ]
  },
  {
   "cell_type": "markdown",
   "id": "0051b1df",
   "metadata": {},
   "source": [
    "I will now prepare dataset 2 with the categorical data. SInce most of the columns contain categorical data, we cant use these for our predictions. I will try to make most of the columns numerical for better predictions:"
   ]
  },
  {
   "cell_type": "markdown",
   "id": "4607ee37",
   "metadata": {},
   "source": [
    "Before I waste my previous time on making everything numerical I will select the features I actually want to use."
   ]
  },
  {
   "cell_type": "code",
   "execution_count": 35,
   "id": "814ecb23",
   "metadata": {},
   "outputs": [
    {
     "data": {
      "text/plain": [
       "Index(['trans_date_trans_time', 'cc_num', 'merchant', 'category', 'amt',\n",
       "       'first', 'last', 'gender', 'street', 'city', 'state', 'zip', 'lat',\n",
       "       'long', 'city_pop', 'job', 'dob', 'trans_num', 'unix_time', 'merch_lat',\n",
       "       'merch_long', 'is_fraud', 'hour', 'day', 'month_year', 'month',\n",
       "       'date_time'],\n",
       "      dtype='object')"
      ]
     },
     "execution_count": 35,
     "metadata": {},
     "output_type": "execute_result"
    }
   ],
   "source": [
    "cat.columns"
   ]
  },
  {
   "cell_type": "markdown",
   "id": "b1e87716",
   "metadata": {},
   "source": [
    "#### Keeping:\n",
    "- amt, the amount could have a significant impact on fraudulent data, so I will keeping this column\n",
    "- category of the transaction could have an impact on fraud\n",
    "- gender is easily turned numerical, and has an impact on fraud\n",
    "- is_fraud ofcourse I'll keep, its our target variable\n",
    "\n",
    "#### Dropping:\n",
    "- trans date and time is very handy, but currently I am not doing a time series so we dont really need it.\n",
    "- CC_num is the specific credit card number, which is not neccesary in making predictions\n",
    "- Mechant name isnt important\n",
    "- card holder name isnt important\n",
    "- location data isnt important enough to keep. it might show an impact but ill keep it out for now.\n",
    "- there are too many jobs to turn into numerical data, I will leave it for now\n"
   ]
  },
  {
   "cell_type": "markdown",
   "id": "9131fc59",
   "metadata": {},
   "source": [
    "I will select the columns into a new dataframe"
   ]
  },
  {
   "cell_type": "code",
   "execution_count": 43,
   "id": "22321208",
   "metadata": {},
   "outputs": [],
   "source": [
    "cat1 = cat[['amt','is_fraud','gender','category']]"
   ]
  },
  {
   "cell_type": "markdown",
   "id": "3c08a3fd",
   "metadata": {},
   "source": [
    "Lets turn gender into binary, female = \"0\", male = \"1\"."
   ]
  },
  {
   "cell_type": "code",
   "execution_count": 44,
   "id": "fd76fd30",
   "metadata": {},
   "outputs": [
    {
     "data": {
      "text/html": [
       "<div>\n",
       "<style scoped>\n",
       "    .dataframe tbody tr th:only-of-type {\n",
       "        vertical-align: middle;\n",
       "    }\n",
       "\n",
       "    .dataframe tbody tr th {\n",
       "        vertical-align: top;\n",
       "    }\n",
       "\n",
       "    .dataframe thead th {\n",
       "        text-align: right;\n",
       "    }\n",
       "</style>\n",
       "<table border=\"1\" class=\"dataframe\">\n",
       "  <thead>\n",
       "    <tr style=\"text-align: right;\">\n",
       "      <th></th>\n",
       "      <th>amt</th>\n",
       "      <th>is_fraud</th>\n",
       "      <th>gender</th>\n",
       "      <th>category</th>\n",
       "    </tr>\n",
       "  </thead>\n",
       "  <tbody>\n",
       "    <tr>\n",
       "      <th>0</th>\n",
       "      <td>4.97</td>\n",
       "      <td>0</td>\n",
       "      <td>1</td>\n",
       "      <td>misc_net</td>\n",
       "    </tr>\n",
       "    <tr>\n",
       "      <th>1</th>\n",
       "      <td>107.23</td>\n",
       "      <td>0</td>\n",
       "      <td>1</td>\n",
       "      <td>grocery_pos</td>\n",
       "    </tr>\n",
       "    <tr>\n",
       "      <th>2</th>\n",
       "      <td>220.11</td>\n",
       "      <td>0</td>\n",
       "      <td>0</td>\n",
       "      <td>entertainment</td>\n",
       "    </tr>\n",
       "    <tr>\n",
       "      <th>3</th>\n",
       "      <td>45.00</td>\n",
       "      <td>0</td>\n",
       "      <td>0</td>\n",
       "      <td>gas_transport</td>\n",
       "    </tr>\n",
       "    <tr>\n",
       "      <th>4</th>\n",
       "      <td>41.96</td>\n",
       "      <td>0</td>\n",
       "      <td>0</td>\n",
       "      <td>misc_pos</td>\n",
       "    </tr>\n",
       "    <tr>\n",
       "      <th>...</th>\n",
       "      <td>...</td>\n",
       "      <td>...</td>\n",
       "      <td>...</td>\n",
       "      <td>...</td>\n",
       "    </tr>\n",
       "    <tr>\n",
       "      <th>1852389</th>\n",
       "      <td>43.77</td>\n",
       "      <td>0</td>\n",
       "      <td>0</td>\n",
       "      <td>health_fitness</td>\n",
       "    </tr>\n",
       "    <tr>\n",
       "      <th>1852390</th>\n",
       "      <td>111.84</td>\n",
       "      <td>0</td>\n",
       "      <td>0</td>\n",
       "      <td>kids_pets</td>\n",
       "    </tr>\n",
       "    <tr>\n",
       "      <th>1852391</th>\n",
       "      <td>86.88</td>\n",
       "      <td>0</td>\n",
       "      <td>1</td>\n",
       "      <td>kids_pets</td>\n",
       "    </tr>\n",
       "    <tr>\n",
       "      <th>1852392</th>\n",
       "      <td>7.99</td>\n",
       "      <td>0</td>\n",
       "      <td>0</td>\n",
       "      <td>travel</td>\n",
       "    </tr>\n",
       "    <tr>\n",
       "      <th>1852393</th>\n",
       "      <td>38.13</td>\n",
       "      <td>0</td>\n",
       "      <td>0</td>\n",
       "      <td>entertainment</td>\n",
       "    </tr>\n",
       "  </tbody>\n",
       "</table>\n",
       "<p>1852394 rows × 4 columns</p>\n",
       "</div>"
      ],
      "text/plain": [
       "            amt  is_fraud gender        category\n",
       "0          4.97         0      1        misc_net\n",
       "1        107.23         0      1     grocery_pos\n",
       "2        220.11         0      0   entertainment\n",
       "3         45.00         0      0   gas_transport\n",
       "4         41.96         0      0        misc_pos\n",
       "...         ...       ...    ...             ...\n",
       "1852389   43.77         0      0  health_fitness\n",
       "1852390  111.84         0      0       kids_pets\n",
       "1852391   86.88         0      1       kids_pets\n",
       "1852392    7.99         0      0          travel\n",
       "1852393   38.13         0      0   entertainment\n",
       "\n",
       "[1852394 rows x 4 columns]"
      ]
     },
     "execution_count": 44,
     "metadata": {},
     "output_type": "execute_result"
    }
   ],
   "source": [
    "cat1.gender[cat1.gender == 'M'] = 0\n",
    "cat1.gender[cat1.gender == 'F'] = 1\n",
    "cat1"
   ]
  },
  {
   "cell_type": "markdown",
   "id": "704c4698",
   "metadata": {},
   "source": [
    "Now for the category, there are too many columns. So I think splitting all the categories into different columns and giving them the \"has\" or \"has not\" also known as our lovely binary \"0\" and \"1\". I will be using pandas, get dummies, to make this happen. get_dummies() is used for data manipulation. It converts categorical data into dummy or indicator variables. Indicator variables meaning, a variable with just two possible values, sometimes represented by the symbols 0 and 1."
   ]
  },
  {
   "cell_type": "code",
   "execution_count": 45,
   "id": "b97d5c6b",
   "metadata": {},
   "outputs": [
    {
     "name": "stdout",
     "output_type": "stream",
     "text": [
      "<class 'pandas.core.frame.DataFrame'>\n",
      "RangeIndex: 1852394 entries, 0 to 1852393\n",
      "Data columns (total 16 columns):\n",
      " #   Column                   Dtype  \n",
      "---  ------                   -----  \n",
      " 0   amt                      float64\n",
      " 1   is_fraud                 int64  \n",
      " 2   gender                   object \n",
      " 3   category_food_dining     uint8  \n",
      " 4   category_gas_transport   uint8  \n",
      " 5   category_grocery_net     uint8  \n",
      " 6   category_grocery_pos     uint8  \n",
      " 7   category_health_fitness  uint8  \n",
      " 8   category_home            uint8  \n",
      " 9   category_kids_pets       uint8  \n",
      " 10  category_misc_net        uint8  \n",
      " 11  category_misc_pos        uint8  \n",
      " 12  category_personal_care   uint8  \n",
      " 13  category_shopping_net    uint8  \n",
      " 14  category_shopping_pos    uint8  \n",
      " 15  category_travel          uint8  \n",
      "dtypes: float64(1), int64(1), object(1), uint8(13)\n",
      "memory usage: 65.4+ MB\n"
     ]
    }
   ],
   "source": [
    "cat_final = pd.get_dummies(cat1,columns=['category'],drop_first=True)\n",
    "cat_final.info()"
   ]
  },
  {
   "cell_type": "markdown",
   "id": "9a19e525",
   "metadata": {},
   "source": [
    "Now we have all the columns we need and as you can see:\n"
   ]
  },
  {
   "cell_type": "code",
   "execution_count": 46,
   "id": "4e6316a0",
   "metadata": {},
   "outputs": [
    {
     "data": {
      "text/html": [
       "<div>\n",
       "<style scoped>\n",
       "    .dataframe tbody tr th:only-of-type {\n",
       "        vertical-align: middle;\n",
       "    }\n",
       "\n",
       "    .dataframe tbody tr th {\n",
       "        vertical-align: top;\n",
       "    }\n",
       "\n",
       "    .dataframe thead th {\n",
       "        text-align: right;\n",
       "    }\n",
       "</style>\n",
       "<table border=\"1\" class=\"dataframe\">\n",
       "  <thead>\n",
       "    <tr style=\"text-align: right;\">\n",
       "      <th></th>\n",
       "      <th>amt</th>\n",
       "      <th>is_fraud</th>\n",
       "      <th>gender</th>\n",
       "      <th>category_food_dining</th>\n",
       "      <th>category_gas_transport</th>\n",
       "      <th>category_grocery_net</th>\n",
       "      <th>category_grocery_pos</th>\n",
       "      <th>category_health_fitness</th>\n",
       "      <th>category_home</th>\n",
       "      <th>category_kids_pets</th>\n",
       "      <th>category_misc_net</th>\n",
       "      <th>category_misc_pos</th>\n",
       "      <th>category_personal_care</th>\n",
       "      <th>category_shopping_net</th>\n",
       "      <th>category_shopping_pos</th>\n",
       "      <th>category_travel</th>\n",
       "    </tr>\n",
       "  </thead>\n",
       "  <tbody>\n",
       "    <tr>\n",
       "      <th>0</th>\n",
       "      <td>4.97</td>\n",
       "      <td>0</td>\n",
       "      <td>1</td>\n",
       "      <td>0</td>\n",
       "      <td>0</td>\n",
       "      <td>0</td>\n",
       "      <td>0</td>\n",
       "      <td>0</td>\n",
       "      <td>0</td>\n",
       "      <td>0</td>\n",
       "      <td>1</td>\n",
       "      <td>0</td>\n",
       "      <td>0</td>\n",
       "      <td>0</td>\n",
       "      <td>0</td>\n",
       "      <td>0</td>\n",
       "    </tr>\n",
       "    <tr>\n",
       "      <th>1</th>\n",
       "      <td>107.23</td>\n",
       "      <td>0</td>\n",
       "      <td>1</td>\n",
       "      <td>0</td>\n",
       "      <td>0</td>\n",
       "      <td>0</td>\n",
       "      <td>1</td>\n",
       "      <td>0</td>\n",
       "      <td>0</td>\n",
       "      <td>0</td>\n",
       "      <td>0</td>\n",
       "      <td>0</td>\n",
       "      <td>0</td>\n",
       "      <td>0</td>\n",
       "      <td>0</td>\n",
       "      <td>0</td>\n",
       "    </tr>\n",
       "    <tr>\n",
       "      <th>2</th>\n",
       "      <td>220.11</td>\n",
       "      <td>0</td>\n",
       "      <td>0</td>\n",
       "      <td>0</td>\n",
       "      <td>0</td>\n",
       "      <td>0</td>\n",
       "      <td>0</td>\n",
       "      <td>0</td>\n",
       "      <td>0</td>\n",
       "      <td>0</td>\n",
       "      <td>0</td>\n",
       "      <td>0</td>\n",
       "      <td>0</td>\n",
       "      <td>0</td>\n",
       "      <td>0</td>\n",
       "      <td>0</td>\n",
       "    </tr>\n",
       "    <tr>\n",
       "      <th>3</th>\n",
       "      <td>45.00</td>\n",
       "      <td>0</td>\n",
       "      <td>0</td>\n",
       "      <td>0</td>\n",
       "      <td>1</td>\n",
       "      <td>0</td>\n",
       "      <td>0</td>\n",
       "      <td>0</td>\n",
       "      <td>0</td>\n",
       "      <td>0</td>\n",
       "      <td>0</td>\n",
       "      <td>0</td>\n",
       "      <td>0</td>\n",
       "      <td>0</td>\n",
       "      <td>0</td>\n",
       "      <td>0</td>\n",
       "    </tr>\n",
       "    <tr>\n",
       "      <th>4</th>\n",
       "      <td>41.96</td>\n",
       "      <td>0</td>\n",
       "      <td>0</td>\n",
       "      <td>0</td>\n",
       "      <td>0</td>\n",
       "      <td>0</td>\n",
       "      <td>0</td>\n",
       "      <td>0</td>\n",
       "      <td>0</td>\n",
       "      <td>0</td>\n",
       "      <td>0</td>\n",
       "      <td>1</td>\n",
       "      <td>0</td>\n",
       "      <td>0</td>\n",
       "      <td>0</td>\n",
       "      <td>0</td>\n",
       "    </tr>\n",
       "  </tbody>\n",
       "</table>\n",
       "</div>"
      ],
      "text/plain": [
       "      amt  is_fraud gender  category_food_dining  category_gas_transport  \\\n",
       "0    4.97         0      1                     0                       0   \n",
       "1  107.23         0      1                     0                       0   \n",
       "2  220.11         0      0                     0                       0   \n",
       "3   45.00         0      0                     0                       1   \n",
       "4   41.96         0      0                     0                       0   \n",
       "\n",
       "   category_grocery_net  category_grocery_pos  category_health_fitness  \\\n",
       "0                     0                     0                        0   \n",
       "1                     0                     1                        0   \n",
       "2                     0                     0                        0   \n",
       "3                     0                     0                        0   \n",
       "4                     0                     0                        0   \n",
       "\n",
       "   category_home  category_kids_pets  category_misc_net  category_misc_pos  \\\n",
       "0              0                   0                  1                  0   \n",
       "1              0                   0                  0                  0   \n",
       "2              0                   0                  0                  0   \n",
       "3              0                   0                  0                  0   \n",
       "4              0                   0                  0                  1   \n",
       "\n",
       "   category_personal_care  category_shopping_net  category_shopping_pos  \\\n",
       "0                       0                      0                      0   \n",
       "1                       0                      0                      0   \n",
       "2                       0                      0                      0   \n",
       "3                       0                      0                      0   \n",
       "4                       0                      0                      0   \n",
       "\n",
       "   category_travel  \n",
       "0                0  \n",
       "1                0  \n",
       "2                0  \n",
       "3                0  \n",
       "4                0  "
      ]
     },
     "execution_count": 46,
     "metadata": {},
     "output_type": "execute_result"
    }
   ],
   "source": [
    "cat_final.head()"
   ]
  },
  {
   "cell_type": "markdown",
   "id": "4941f39c",
   "metadata": {},
   "source": [
    "All the data is numerical. Now we can use it to start modelling, in the following step \"preprocessing\" we will scale and balance the dataset. Because right now our dataset is still very unbalanced, which might influence our prediction negatively"
   ]
  },
  {
   "cell_type": "markdown",
   "id": "300d68e2",
   "metadata": {},
   "source": [
    "# 🔷 Predictions"
   ]
  },
  {
   "cell_type": "markdown",
   "id": "a67f5d0e",
   "metadata": {},
   "source": [
    "## 🔹Preprocessing"
   ]
  },
  {
   "cell_type": "markdown",
   "id": "754ba772",
   "metadata": {},
   "source": [
    "In this section we will prepare data. We will clean it where neccesary"
   ]
  },
  {
   "cell_type": "markdown",
   "id": "750c4064",
   "metadata": {},
   "source": [
    "#### Dataset 1"
   ]
  },
  {
   "cell_type": "markdown",
   "id": "dfc91a1e",
   "metadata": {},
   "source": [
    "Standardization of a dataset is a common requirement for many machine learning estimators. Typically this is done by removing the mean and scaling to unit variance. However, outliers can often influence the sample mean / variance in a negative way. In such cases, the median and the interquartile range often give better results. https://scikit-learn.org/stable/modules/generated/sklearn.preprocessing.RobustScaler.html"
   ]
  },
  {
   "attachments": {
    "EDANCjJXkAAOSjO.jpg": {
     "image/jpeg": "[encoded data removed]"
    }
   },
   "cell_type": "markdown",
   "id": "f12d55fe",
   "metadata": {},
   "source": [
    "![EDANCjJXkAAOSjO.jpg](attachment:EDANCjJXkAAOSjO.jpg)"
   ]
  },
  {
   "cell_type": "markdown",
   "id": "0fe25cef",
   "metadata": {},
   "source": [
    "We scale our dataset because our data is very unbalanced, We have too many \"0\" not fraud. We have to balance this our to make sure that our predictions arent biased. first we import the robust scaler. Then we scale our 2 non scaled columns:"
   ]
  },
  {
   "cell_type": "code",
   "execution_count": 49,
   "id": "0e3de440",
   "metadata": {},
   "outputs": [],
   "source": [
    "from sklearn.preprocessing import RobustScaler\n",
    "\n",
    "# RobustScaler is less prone to outliers.\n",
    "RobScaler = RobustScaler()\n",
    "\n",
    "scaled_amount = RobScaler.fit_transform(num['Amount'].values.reshape(-1,1)) \n",
    "scaled_time = RobScaler.fit_transform(num['Time'].values.reshape(-1,1))"
   ]
  },
  {
   "cell_type": "markdown",
   "id": "0830258f",
   "metadata": {},
   "source": [
    "Since most of the data we got in the first place was already scaled for privacy issues, we dont need to scale them again. First we will scale \"Amount\" and \"Time\". We then replace the old columns with the new columns containing the scaled data."
   ]
  },
  {
   "cell_type": "code",
   "execution_count": 50,
   "id": "44aa1f19",
   "metadata": {},
   "outputs": [
    {
     "data": {
      "text/html": [
       "<div>\n",
       "<style scoped>\n",
       "    .dataframe tbody tr th:only-of-type {\n",
       "        vertical-align: middle;\n",
       "    }\n",
       "\n",
       "    .dataframe tbody tr th {\n",
       "        vertical-align: top;\n",
       "    }\n",
       "\n",
       "    .dataframe thead th {\n",
       "        text-align: right;\n",
       "    }\n",
       "</style>\n",
       "<table border=\"1\" class=\"dataframe\">\n",
       "  <thead>\n",
       "    <tr style=\"text-align: right;\">\n",
       "      <th></th>\n",
       "      <th>scaled_amount</th>\n",
       "      <th>scaled_time</th>\n",
       "      <th>V1</th>\n",
       "      <th>V2</th>\n",
       "      <th>V3</th>\n",
       "      <th>V4</th>\n",
       "      <th>V5</th>\n",
       "      <th>V6</th>\n",
       "      <th>V7</th>\n",
       "      <th>V8</th>\n",
       "      <th>...</th>\n",
       "      <th>V20</th>\n",
       "      <th>V21</th>\n",
       "      <th>V22</th>\n",
       "      <th>V23</th>\n",
       "      <th>V24</th>\n",
       "      <th>V25</th>\n",
       "      <th>V26</th>\n",
       "      <th>V27</th>\n",
       "      <th>V28</th>\n",
       "      <th>Class</th>\n",
       "    </tr>\n",
       "  </thead>\n",
       "  <tbody>\n",
       "    <tr>\n",
       "      <th>0</th>\n",
       "      <td>1.783274</td>\n",
       "      <td>-0.994983</td>\n",
       "      <td>-1.359807</td>\n",
       "      <td>-0.072781</td>\n",
       "      <td>2.536347</td>\n",
       "      <td>1.378155</td>\n",
       "      <td>-0.338321</td>\n",
       "      <td>0.462388</td>\n",
       "      <td>0.239599</td>\n",
       "      <td>0.098698</td>\n",
       "      <td>...</td>\n",
       "      <td>0.251412</td>\n",
       "      <td>-0.018307</td>\n",
       "      <td>0.277838</td>\n",
       "      <td>-0.110474</td>\n",
       "      <td>0.066928</td>\n",
       "      <td>0.128539</td>\n",
       "      <td>-0.189115</td>\n",
       "      <td>0.133558</td>\n",
       "      <td>-0.021053</td>\n",
       "      <td>0</td>\n",
       "    </tr>\n",
       "    <tr>\n",
       "      <th>1</th>\n",
       "      <td>-0.269825</td>\n",
       "      <td>-0.994983</td>\n",
       "      <td>1.191857</td>\n",
       "      <td>0.266151</td>\n",
       "      <td>0.166480</td>\n",
       "      <td>0.448154</td>\n",
       "      <td>0.060018</td>\n",
       "      <td>-0.082361</td>\n",
       "      <td>-0.078803</td>\n",
       "      <td>0.085102</td>\n",
       "      <td>...</td>\n",
       "      <td>-0.069083</td>\n",
       "      <td>-0.225775</td>\n",
       "      <td>-0.638672</td>\n",
       "      <td>0.101288</td>\n",
       "      <td>-0.339846</td>\n",
       "      <td>0.167170</td>\n",
       "      <td>0.125895</td>\n",
       "      <td>-0.008983</td>\n",
       "      <td>0.014724</td>\n",
       "      <td>0</td>\n",
       "    </tr>\n",
       "    <tr>\n",
       "      <th>2</th>\n",
       "      <td>4.983721</td>\n",
       "      <td>-0.994972</td>\n",
       "      <td>-1.358354</td>\n",
       "      <td>-1.340163</td>\n",
       "      <td>1.773209</td>\n",
       "      <td>0.379780</td>\n",
       "      <td>-0.503198</td>\n",
       "      <td>1.800499</td>\n",
       "      <td>0.791461</td>\n",
       "      <td>0.247676</td>\n",
       "      <td>...</td>\n",
       "      <td>0.524980</td>\n",
       "      <td>0.247998</td>\n",
       "      <td>0.771679</td>\n",
       "      <td>0.909412</td>\n",
       "      <td>-0.689281</td>\n",
       "      <td>-0.327642</td>\n",
       "      <td>-0.139097</td>\n",
       "      <td>-0.055353</td>\n",
       "      <td>-0.059752</td>\n",
       "      <td>0</td>\n",
       "    </tr>\n",
       "    <tr>\n",
       "      <th>3</th>\n",
       "      <td>1.418291</td>\n",
       "      <td>-0.994972</td>\n",
       "      <td>-0.966272</td>\n",
       "      <td>-0.185226</td>\n",
       "      <td>1.792993</td>\n",
       "      <td>-0.863291</td>\n",
       "      <td>-0.010309</td>\n",
       "      <td>1.247203</td>\n",
       "      <td>0.237609</td>\n",
       "      <td>0.377436</td>\n",
       "      <td>...</td>\n",
       "      <td>-0.208038</td>\n",
       "      <td>-0.108300</td>\n",
       "      <td>0.005274</td>\n",
       "      <td>-0.190321</td>\n",
       "      <td>-1.175575</td>\n",
       "      <td>0.647376</td>\n",
       "      <td>-0.221929</td>\n",
       "      <td>0.062723</td>\n",
       "      <td>0.061458</td>\n",
       "      <td>0</td>\n",
       "    </tr>\n",
       "    <tr>\n",
       "      <th>4</th>\n",
       "      <td>0.670579</td>\n",
       "      <td>-0.994960</td>\n",
       "      <td>-1.158233</td>\n",
       "      <td>0.877737</td>\n",
       "      <td>1.548718</td>\n",
       "      <td>0.403034</td>\n",
       "      <td>-0.407193</td>\n",
       "      <td>0.095921</td>\n",
       "      <td>0.592941</td>\n",
       "      <td>-0.270533</td>\n",
       "      <td>...</td>\n",
       "      <td>0.408542</td>\n",
       "      <td>-0.009431</td>\n",
       "      <td>0.798278</td>\n",
       "      <td>-0.137458</td>\n",
       "      <td>0.141267</td>\n",
       "      <td>-0.206010</td>\n",
       "      <td>0.502292</td>\n",
       "      <td>0.219422</td>\n",
       "      <td>0.215153</td>\n",
       "      <td>0</td>\n",
       "    </tr>\n",
       "    <tr>\n",
       "      <th>...</th>\n",
       "      <td>...</td>\n",
       "      <td>...</td>\n",
       "      <td>...</td>\n",
       "      <td>...</td>\n",
       "      <td>...</td>\n",
       "      <td>...</td>\n",
       "      <td>...</td>\n",
       "      <td>...</td>\n",
       "      <td>...</td>\n",
       "      <td>...</td>\n",
       "      <td>...</td>\n",
       "      <td>...</td>\n",
       "      <td>...</td>\n",
       "      <td>...</td>\n",
       "      <td>...</td>\n",
       "      <td>...</td>\n",
       "      <td>...</td>\n",
       "      <td>...</td>\n",
       "      <td>...</td>\n",
       "      <td>...</td>\n",
       "      <td>...</td>\n",
       "    </tr>\n",
       "    <tr>\n",
       "      <th>284802</th>\n",
       "      <td>-0.296653</td>\n",
       "      <td>1.034951</td>\n",
       "      <td>-11.881118</td>\n",
       "      <td>10.071785</td>\n",
       "      <td>-9.834783</td>\n",
       "      <td>-2.066656</td>\n",
       "      <td>-5.364473</td>\n",
       "      <td>-2.606837</td>\n",
       "      <td>-4.918215</td>\n",
       "      <td>7.305334</td>\n",
       "      <td>...</td>\n",
       "      <td>1.475829</td>\n",
       "      <td>0.213454</td>\n",
       "      <td>0.111864</td>\n",
       "      <td>1.014480</td>\n",
       "      <td>-0.509348</td>\n",
       "      <td>1.436807</td>\n",
       "      <td>0.250034</td>\n",
       "      <td>0.943651</td>\n",
       "      <td>0.823731</td>\n",
       "      <td>0</td>\n",
       "    </tr>\n",
       "    <tr>\n",
       "      <th>284803</th>\n",
       "      <td>0.038986</td>\n",
       "      <td>1.034963</td>\n",
       "      <td>-0.732789</td>\n",
       "      <td>-0.055080</td>\n",
       "      <td>2.035030</td>\n",
       "      <td>-0.738589</td>\n",
       "      <td>0.868229</td>\n",
       "      <td>1.058415</td>\n",
       "      <td>0.024330</td>\n",
       "      <td>0.294869</td>\n",
       "      <td>...</td>\n",
       "      <td>0.059616</td>\n",
       "      <td>0.214205</td>\n",
       "      <td>0.924384</td>\n",
       "      <td>0.012463</td>\n",
       "      <td>-1.016226</td>\n",
       "      <td>-0.606624</td>\n",
       "      <td>-0.395255</td>\n",
       "      <td>0.068472</td>\n",
       "      <td>-0.053527</td>\n",
       "      <td>0</td>\n",
       "    </tr>\n",
       "    <tr>\n",
       "      <th>284804</th>\n",
       "      <td>0.641096</td>\n",
       "      <td>1.034975</td>\n",
       "      <td>1.919565</td>\n",
       "      <td>-0.301254</td>\n",
       "      <td>-3.249640</td>\n",
       "      <td>-0.557828</td>\n",
       "      <td>2.630515</td>\n",
       "      <td>3.031260</td>\n",
       "      <td>-0.296827</td>\n",
       "      <td>0.708417</td>\n",
       "      <td>...</td>\n",
       "      <td>0.001396</td>\n",
       "      <td>0.232045</td>\n",
       "      <td>0.578229</td>\n",
       "      <td>-0.037501</td>\n",
       "      <td>0.640134</td>\n",
       "      <td>0.265745</td>\n",
       "      <td>-0.087371</td>\n",
       "      <td>0.004455</td>\n",
       "      <td>-0.026561</td>\n",
       "      <td>0</td>\n",
       "    </tr>\n",
       "    <tr>\n",
       "      <th>284805</th>\n",
       "      <td>-0.167680</td>\n",
       "      <td>1.034975</td>\n",
       "      <td>-0.240440</td>\n",
       "      <td>0.530483</td>\n",
       "      <td>0.702510</td>\n",
       "      <td>0.689799</td>\n",
       "      <td>-0.377961</td>\n",
       "      <td>0.623708</td>\n",
       "      <td>-0.686180</td>\n",
       "      <td>0.679145</td>\n",
       "      <td>...</td>\n",
       "      <td>0.127434</td>\n",
       "      <td>0.265245</td>\n",
       "      <td>0.800049</td>\n",
       "      <td>-0.163298</td>\n",
       "      <td>0.123205</td>\n",
       "      <td>-0.569159</td>\n",
       "      <td>0.546668</td>\n",
       "      <td>0.108821</td>\n",
       "      <td>0.104533</td>\n",
       "      <td>0</td>\n",
       "    </tr>\n",
       "    <tr>\n",
       "      <th>284806</th>\n",
       "      <td>2.724796</td>\n",
       "      <td>1.035022</td>\n",
       "      <td>-0.533413</td>\n",
       "      <td>-0.189733</td>\n",
       "      <td>0.703337</td>\n",
       "      <td>-0.506271</td>\n",
       "      <td>-0.012546</td>\n",
       "      <td>-0.649617</td>\n",
       "      <td>1.577006</td>\n",
       "      <td>-0.414650</td>\n",
       "      <td>...</td>\n",
       "      <td>0.382948</td>\n",
       "      <td>0.261057</td>\n",
       "      <td>0.643078</td>\n",
       "      <td>0.376777</td>\n",
       "      <td>0.008797</td>\n",
       "      <td>-0.473649</td>\n",
       "      <td>-0.818267</td>\n",
       "      <td>-0.002415</td>\n",
       "      <td>0.013649</td>\n",
       "      <td>0</td>\n",
       "    </tr>\n",
       "  </tbody>\n",
       "</table>\n",
       "<p>284807 rows × 31 columns</p>\n",
       "</div>"
      ],
      "text/plain": [
       "        scaled_amount  scaled_time         V1         V2        V3        V4  \\\n",
       "0            1.783274    -0.994983  -1.359807  -0.072781  2.536347  1.378155   \n",
       "1           -0.269825    -0.994983   1.191857   0.266151  0.166480  0.448154   \n",
       "2            4.983721    -0.994972  -1.358354  -1.340163  1.773209  0.379780   \n",
       "3            1.418291    -0.994972  -0.966272  -0.185226  1.792993 -0.863291   \n",
       "4            0.670579    -0.994960  -1.158233   0.877737  1.548718  0.403034   \n",
       "...               ...          ...        ...        ...       ...       ...   \n",
       "284802      -0.296653     1.034951 -11.881118  10.071785 -9.834783 -2.066656   \n",
       "284803       0.038986     1.034963  -0.732789  -0.055080  2.035030 -0.738589   \n",
       "284804       0.641096     1.034975   1.919565  -0.301254 -3.249640 -0.557828   \n",
       "284805      -0.167680     1.034975  -0.240440   0.530483  0.702510  0.689799   \n",
       "284806       2.724796     1.035022  -0.533413  -0.189733  0.703337 -0.506271   \n",
       "\n",
       "              V5        V6        V7        V8  ...       V20       V21  \\\n",
       "0      -0.338321  0.462388  0.239599  0.098698  ...  0.251412 -0.018307   \n",
       "1       0.060018 -0.082361 -0.078803  0.085102  ... -0.069083 -0.225775   \n",
       "2      -0.503198  1.800499  0.791461  0.247676  ...  0.524980  0.247998   \n",
       "3      -0.010309  1.247203  0.237609  0.377436  ... -0.208038 -0.108300   \n",
       "4      -0.407193  0.095921  0.592941 -0.270533  ...  0.408542 -0.009431   \n",
       "...          ...       ...       ...       ...  ...       ...       ...   \n",
       "284802 -5.364473 -2.606837 -4.918215  7.305334  ...  1.475829  0.213454   \n",
       "284803  0.868229  1.058415  0.024330  0.294869  ...  0.059616  0.214205   \n",
       "284804  2.630515  3.031260 -0.296827  0.708417  ...  0.001396  0.232045   \n",
       "284805 -0.377961  0.623708 -0.686180  0.679145  ...  0.127434  0.265245   \n",
       "284806 -0.012546 -0.649617  1.577006 -0.414650  ...  0.382948  0.261057   \n",
       "\n",
       "             V22       V23       V24       V25       V26       V27       V28  \\\n",
       "0       0.277838 -0.110474  0.066928  0.128539 -0.189115  0.133558 -0.021053   \n",
       "1      -0.638672  0.101288 -0.339846  0.167170  0.125895 -0.008983  0.014724   \n",
       "2       0.771679  0.909412 -0.689281 -0.327642 -0.139097 -0.055353 -0.059752   \n",
       "3       0.005274 -0.190321 -1.175575  0.647376 -0.221929  0.062723  0.061458   \n",
       "4       0.798278 -0.137458  0.141267 -0.206010  0.502292  0.219422  0.215153   \n",
       "...          ...       ...       ...       ...       ...       ...       ...   \n",
       "284802  0.111864  1.014480 -0.509348  1.436807  0.250034  0.943651  0.823731   \n",
       "284803  0.924384  0.012463 -1.016226 -0.606624 -0.395255  0.068472 -0.053527   \n",
       "284804  0.578229 -0.037501  0.640134  0.265745 -0.087371  0.004455 -0.026561   \n",
       "284805  0.800049 -0.163298  0.123205 -0.569159  0.546668  0.108821  0.104533   \n",
       "284806  0.643078  0.376777  0.008797 -0.473649 -0.818267 -0.002415  0.013649   \n",
       "\n",
       "        Class  \n",
       "0           0  \n",
       "1           0  \n",
       "2           0  \n",
       "3           0  \n",
       "4           0  \n",
       "...       ...  \n",
       "284802      0  \n",
       "284803      0  \n",
       "284804      0  \n",
       "284805      0  \n",
       "284806      0  \n",
       "\n",
       "[284807 rows x 31 columns]"
      ]
     },
     "execution_count": 50,
     "metadata": {},
     "output_type": "execute_result"
    }
   ],
   "source": [
    "# replace the unscaled columns with its scaled values\n",
    "num.drop(['Time','Amount'], axis=1, inplace=True)\n",
    "num.insert(0 , 'scaled_amount' , scaled_amount)\n",
    "num.insert(1 , 'scaled_time' , scaled_time)\n",
    "\n",
    "num"
   ]
  },
  {
   "cell_type": "markdown",
   "id": "ae704be6",
   "metadata": {},
   "source": [
    "Now we will balance the dataset. making sure we have the equal amount of \"0\" , \"1\". This will greatly reduce our amount of data entries, but it will make our prediction more accurate, since we will not have a more biased prediction towards \"0\" since we have more data of that."
   ]
  },
  {
   "cell_type": "code",
   "execution_count": 51,
   "id": "bdbdd6f2",
   "metadata": {},
   "outputs": [],
   "source": [
    "# under Sampling\n",
    "X = num.drop('Class' , axis = 1)\n",
    "y = num['Class']\n",
    "RUS = RandomUnderSampler(random_state=42) # Supports multi-class resampling by sampling each class independently\n",
    "X_rus, y_rus = RUS.fit_resample(X,y)\n",
    "df_rus = pd.concat([X_rus ,y_rus]  , axis = 1)"
   ]
  },
  {
   "cell_type": "markdown",
   "id": "b0f1d8c0",
   "metadata": {},
   "source": [
    "Our original dataset shape"
   ]
  },
  {
   "cell_type": "code",
   "execution_count": 52,
   "id": "19d82466",
   "metadata": {},
   "outputs": [
    {
     "data": {
      "text/plain": [
       "(284807, 31)"
      ]
     },
     "execution_count": 52,
     "metadata": {},
     "output_type": "execute_result"
    }
   ],
   "source": [
    "num.shape"
   ]
  },
  {
   "cell_type": "markdown",
   "id": "14c763cf",
   "metadata": {},
   "source": [
    "After scaling and under sampling"
   ]
  },
  {
   "cell_type": "code",
   "execution_count": 53,
   "id": "5ade8288",
   "metadata": {},
   "outputs": [
    {
     "data": {
      "text/plain": [
       "(984, 31)"
      ]
     },
     "execution_count": 53,
     "metadata": {},
     "output_type": "execute_result"
    }
   ],
   "source": [
    "df_rus.shape"
   ]
  },
  {
   "cell_type": "markdown",
   "id": "a34daec1",
   "metadata": {},
   "source": [
    "You can see our number of rows has decreased allot, we went from 284k rows to not even 1k"
   ]
  },
  {
   "cell_type": "code",
   "execution_count": 54,
   "id": "442f3dac",
   "metadata": {},
   "outputs": [
    {
     "data": {
      "image/png": "[encoded data removed]",
      "text/plain": [
       "<Figure size 432x288 with 1 Axes>"
      ]
     },
     "metadata": {
      "needs_background": "light"
     },
     "output_type": "display_data"
    }
   ],
   "source": [
    "# show Class count again for the under sampling data\n",
    "ax = sns.countplot(y_rus)\n",
    "plt.title('Credit Card Fraud Class');\n",
    "ax.bar_label(ax.containers[0])\n",
    "ax.set_xticklabels(['Not fraud = 0', 'Fraud = 1']);"
   ]
  },
  {
   "cell_type": "markdown",
   "id": "ec59422d",
   "metadata": {},
   "source": [
    "Now lets see if our correlation has improved with this:"
   ]
  },
  {
   "cell_type": "code",
   "execution_count": 55,
   "id": "2a9c38e5",
   "metadata": {},
   "outputs": [
    {
     "data": {
      "text/plain": [
       "Text(0.5, 1.0, 'balanced Correlation Matrix')"
      ]
     },
     "execution_count": 55,
     "metadata": {},
     "output_type": "execute_result"
    },
    {
     "data": {
      "image/png": "[encoded data removed]",
      "text/plain": [
       "<Figure size 1440x1296 with 4 Axes>"
      ]
     },
     "metadata": {
      "needs_background": "light"
     },
     "output_type": "display_data"
    }
   ],
   "source": [
    " f, ax = plt.subplots(2, 1, figsize=(20,18))\n",
    "\n",
    "# Imbalanced Correlation Matrix for original data\n",
    "sns.heatmap(num.corr() , cmap = 'coolwarm_r' , ax= ax[0] )\n",
    "ax[0].set_title('Imbalanced Correlation Matrix' , fontsize=14)\n",
    "\n",
    "# balanced Correlation Matrix for under sampling data\n",
    "sns.heatmap(df_rus.corr() , cmap = 'coolwarm_r' , ax= ax[1])\n",
    "ax[1].set_title('balanced Correlation Matrix' , fontsize=14)"
   ]
  },
  {
   "cell_type": "markdown",
   "id": "74255bb6",
   "metadata": {},
   "source": [
    "We can see we have allot more correlations with our balanced data. Now we can also take the previously made graphs of the distribution of amount and we can tell the clearer results we get:"
   ]
  },
  {
   "cell_type": "code",
   "execution_count": 56,
   "id": "90187102",
   "metadata": {},
   "outputs": [
    {
     "data": {
      "image/png": "[encoded data removed]",
      "text/plain": [
       "<Figure size 432x288 with 1 Axes>"
      ]
     },
     "metadata": {
      "needs_background": "light"
     },
     "output_type": "display_data"
    }
   ],
   "source": [
    "sns.distplot(df_rus['scaled_amount'].values , color = 'blue')\n",
    "plt.title('Distribution of amount');"
   ]
  },
  {
   "cell_type": "markdown",
   "id": "ccf9b246",
   "metadata": {},
   "source": [
    "We split the data into test and train for the modelling"
   ]
  },
  {
   "cell_type": "code",
   "execution_count": 74,
   "id": "df0e429c",
   "metadata": {},
   "outputs": [],
   "source": [
    "X = df_rus.drop('Class',axis=1) #we take all the columns for x\n",
    "y = df_rus['Class'] #our target variable.\n",
    "\n",
    "X_train1, X_test1, y_train1, y_test1 = train_test_split(X, y, test_size=0.3, random_state=42) #making sure we dont double up the test by specifing test1 and test2"
   ]
  },
  {
   "cell_type": "markdown",
   "id": "ef37dbc8",
   "metadata": {},
   "source": [
    "Now we are ready for modelling!"
   ]
  },
  {
   "cell_type": "markdown",
   "id": "562462dd",
   "metadata": {},
   "source": [
    "#### Dataset 2"
   ]
  },
  {
   "cell_type": "markdown",
   "id": "c80c77e2",
   "metadata": {},
   "source": [
    "In data preparation we made our dataset 2 \"cat_final\" numerical and filtered it to only the required columns. Now we will split the dataset into test and train for our modelling:"
   ]
  },
  {
   "cell_type": "code",
   "execution_count": 65,
   "id": "09bfff21",
   "metadata": {},
   "outputs": [],
   "source": [
    "X_df = cat_final.drop('is_fraud',axis=1)#we take all the columns for x\n",
    "y_df = cat_final['is_fraud']#our target variable.\n",
    "\n",
    "X_train2, X_test2, y_train2, y_test2 = train_test_split(X_df, y_df, test_size=0.3, random_state=42)"
   ]
  },
  {
   "cell_type": "markdown",
   "id": "4eb2f6a2",
   "metadata": {},
   "source": [
    "I want to use a different way to balance the dataset 2 than dataset 1, to explore more methods. For fixing the imbalance we use SMOTE.  SMOTE works by selecting examples that are close in the feature space, drawing a line between the examples in the feature space and drawing a new sample at a point along that line."
   ]
  },
  {
   "cell_type": "code",
   "execution_count": 67,
   "id": "6cb4b16b",
   "metadata": {},
   "outputs": [
    {
     "data": {
      "image/png": "[encoded data removed]",
      "text/plain": [
       "<Figure size 1080x360 with 2 Axes>"
      ]
     },
     "metadata": {},
     "output_type": "display_data"
    }
   ],
   "source": [
    "sm = SMOTE()\n",
    "X_train_new, y_train_new = sm.fit_resample(X_train2, y_train2.ravel())\n",
    "\n",
    "# to demonstrate the effect of SMOTE over imbalanced datasets\n",
    "fig, (ax1, ax2) = plt.subplots(ncols = 2, figsize =(15, 5))\n",
    "ax1.set_title('Before Resampling')\n",
    "pd.Series(y_train2).value_counts().plot.pie(autopct='%.1f%%',ax=ax1)\n",
    "\n",
    "ax2.set_title('After Resampling')  \n",
    "pd.Series(y_train_new).value_counts().plot.pie(autopct='%.1f%%',ax=ax2)\n",
    "\n",
    "plt.show()"
   ]
  },
  {
   "cell_type": "markdown",
   "id": "3cde7ccd",
   "metadata": {},
   "source": [
    "Now we are ready for modelling!"
   ]
  },
  {
   "cell_type": "markdown",
   "id": "96725f33",
   "metadata": {},
   "source": [
    "## 🔹Modelling"
   ]
  },
  {
   "cell_type": "markdown",
   "id": "e9d73149",
   "metadata": {},
   "source": [
    "#### Dataset 1"
   ]
  },
  {
   "cell_type": "code",
   "execution_count": null,
   "id": "90819f11",
   "metadata": {},
   "outputs": [],
   "source": []
  },
  {
   "cell_type": "markdown",
   "id": "cbb44595",
   "metadata": {},
   "source": [
    "####  Dataset 2"
   ]
  },
  {
   "cell_type": "code",
   "execution_count": null,
   "id": "b72c4fff",
   "metadata": {},
   "outputs": [],
   "source": []
  },
  {
   "cell_type": "markdown",
   "id": "79842a4c",
   "metadata": {},
   "source": [
    "## 🔹Evaluation"
   ]
  },
  {
   "cell_type": "code",
   "execution_count": null,
   "id": "a38aa6ab",
   "metadata": {},
   "outputs": [],
   "source": []
  }
 ],
 "metadata": {
  "kernelspec": {
   "display_name": "Python 3 (ipykernel)",
   "language": "python",
   "name": "python3"
  },
  "language_info": {
   "codemirror_mode": {
    "name": "ipython",
    "version": 3
   },
   "file_extension": ".py",
   "mimetype": "text/x-python",
   "name": "python",
   "nbconvert_exporter": "python",
   "pygments_lexer": "ipython3",
   "version": "3.9.7"
  }
 },
 "nbformat": 4,
 "nbformat_minor": 5
}
