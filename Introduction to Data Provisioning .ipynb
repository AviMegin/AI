{
 "cells": [
  {
   "cell_type": "markdown",
   "id": "28bc3931",
   "metadata": {},
   "source": [
    "## What requirements does your data has to meet in order to be able to make a prediction?"
   ]
  },
  {
   "cell_type": "code",
   "execution_count": 2,
   "id": "b1702ae0",
   "metadata": {},
   "outputs": [],
   "source": [
    "import numpy as np\n",
    "import pandas as pd\n",
    "import sklearn as sk\n",
    "import matplotlib\n",
    "import matplotlib.pyplot as plt\n",
    "from IPython.display import display\n",
    "import pandas as pd\n",
    "import numpy\n",
    "import seaborn as sns\n",
    "%matplotlib inline\n"
   ]
  },
  {
   "cell_type": "markdown",
   "id": "0d345011",
   "metadata": {},
   "source": [
    "You can get data from online sources, or store the file on your computer and link to it."
   ]
  },
  {
   "cell_type": "code",
   "execution_count": 9,
   "id": "7d5b4ad9",
   "metadata": {},
   "outputs": [],
   "source": [
    "dfWine = pd.read_csv(\"http://archive.ics.uci.edu/ml/machine-learning-databases/wine/wine.data\")\n"
   ]
  },
  {
   "cell_type": "markdown",
   "id": "f0bdf6a5",
   "metadata": {},
   "source": [
    "### Clean the data\n"
   ]
  },
  {
   "cell_type": "markdown",
   "id": "3d587215",
   "metadata": {},
   "source": [
    "#### Make sure there is no missing data\n"
   ]
  },
  {
   "cell_type": "code",
   "execution_count": 10,
   "id": "16db40fd",
   "metadata": {},
   "outputs": [
    {
     "name": "stdout",
     "output_type": "stream",
     "text": [
      "<class 'pandas.core.frame.DataFrame'>\n",
      "RangeIndex: 177 entries, 0 to 176\n",
      "Data columns (total 14 columns):\n",
      " #   Column  Non-Null Count  Dtype  \n",
      "---  ------  --------------  -----  \n",
      " 0   1       177 non-null    int64  \n",
      " 1   14.23   177 non-null    float64\n",
      " 2   1.71    177 non-null    float64\n",
      " 3   2.43    177 non-null    float64\n",
      " 4   15.6    177 non-null    float64\n",
      " 5   127     177 non-null    int64  \n",
      " 6   2.8     177 non-null    float64\n",
      " 7   3.06    177 non-null    float64\n",
      " 8   .28     177 non-null    float64\n",
      " 9   2.29    177 non-null    float64\n",
      " 10  5.64    177 non-null    float64\n",
      " 11  1.04    177 non-null    float64\n",
      " 12  3.92    177 non-null    float64\n",
      " 13  1065    177 non-null    int64  \n",
      "dtypes: float64(11), int64(3)\n",
      "memory usage: 19.5 KB\n"
     ]
    }
   ],
   "source": [
    "dfWine.info()"
   ]
  },
  {
   "cell_type": "markdown",
   "id": "77c7a818",
   "metadata": {},
   "source": [
    "The \"non-null\" means there is no NaN, so this dataset is good in that part"
   ]
  },
  {
   "cell_type": "markdown",
   "id": "acf54f15",
   "metadata": {},
   "source": [
    "### Machine Learning Algorithms Expect Numbers\n"
   ]
  },
  {
   "cell_type": "markdown",
   "id": "17330dbe",
   "metadata": {},
   "source": [
    "this dataset only has numbers, so were good here."
   ]
  },
  {
   "cell_type": "code",
   "execution_count": 11,
   "id": "8b128232",
   "metadata": {},
   "outputs": [
    {
     "data": {
      "text/html": [
       "<div>\n",
       "<style scoped>\n",
       "    .dataframe tbody tr th:only-of-type {\n",
       "        vertical-align: middle;\n",
       "    }\n",
       "\n",
       "    .dataframe tbody tr th {\n",
       "        vertical-align: top;\n",
       "    }\n",
       "\n",
       "    .dataframe thead th {\n",
       "        text-align: right;\n",
       "    }\n",
       "</style>\n",
       "<table border=\"1\" class=\"dataframe\">\n",
       "  <thead>\n",
       "    <tr style=\"text-align: right;\">\n",
       "      <th></th>\n",
       "      <th>Alcohol</th>\n",
       "      <th>Malic acid</th>\n",
       "      <th>ash</th>\n",
       "      <th>Alcalinity of ash</th>\n",
       "      <th>Magnesium</th>\n",
       "      <th>Total phenols</th>\n",
       "      <th>Flavanoids</th>\n",
       "      <th>Nonflavanoid phenols</th>\n",
       "      <th>Proanthocyanins</th>\n",
       "      <th>Color intensity</th>\n",
       "      <th>Hue</th>\n",
       "      <th>OD280/OD315 of diluted wines</th>\n",
       "      <th>Proline</th>\n",
       "      <th>1</th>\n",
       "    </tr>\n",
       "  </thead>\n",
       "  <tbody>\n",
       "    <tr>\n",
       "      <th>41</th>\n",
       "      <td>1</td>\n",
       "      <td>13.88</td>\n",
       "      <td>1.89</td>\n",
       "      <td>2.59</td>\n",
       "      <td>15.0</td>\n",
       "      <td>101</td>\n",
       "      <td>3.25</td>\n",
       "      <td>3.56</td>\n",
       "      <td>0.17</td>\n",
       "      <td>1.70</td>\n",
       "      <td>5.43</td>\n",
       "      <td>0.88</td>\n",
       "      <td>3.56</td>\n",
       "      <td>1095</td>\n",
       "    </tr>\n",
       "    <tr>\n",
       "      <th>99</th>\n",
       "      <td>2</td>\n",
       "      <td>12.08</td>\n",
       "      <td>2.08</td>\n",
       "      <td>1.70</td>\n",
       "      <td>17.5</td>\n",
       "      <td>97</td>\n",
       "      <td>2.23</td>\n",
       "      <td>2.17</td>\n",
       "      <td>0.26</td>\n",
       "      <td>1.40</td>\n",
       "      <td>3.30</td>\n",
       "      <td>1.27</td>\n",
       "      <td>2.96</td>\n",
       "      <td>710</td>\n",
       "    </tr>\n",
       "    <tr>\n",
       "      <th>124</th>\n",
       "      <td>2</td>\n",
       "      <td>12.07</td>\n",
       "      <td>2.16</td>\n",
       "      <td>2.17</td>\n",
       "      <td>21.0</td>\n",
       "      <td>85</td>\n",
       "      <td>2.60</td>\n",
       "      <td>2.65</td>\n",
       "      <td>0.37</td>\n",
       "      <td>1.35</td>\n",
       "      <td>2.76</td>\n",
       "      <td>0.86</td>\n",
       "      <td>3.28</td>\n",
       "      <td>378</td>\n",
       "    </tr>\n",
       "    <tr>\n",
       "      <th>17</th>\n",
       "      <td>1</td>\n",
       "      <td>14.19</td>\n",
       "      <td>1.59</td>\n",
       "      <td>2.48</td>\n",
       "      <td>16.5</td>\n",
       "      <td>108</td>\n",
       "      <td>3.30</td>\n",
       "      <td>3.93</td>\n",
       "      <td>0.32</td>\n",
       "      <td>1.86</td>\n",
       "      <td>8.70</td>\n",
       "      <td>1.23</td>\n",
       "      <td>2.82</td>\n",
       "      <td>1680</td>\n",
       "    </tr>\n",
       "    <tr>\n",
       "      <th>88</th>\n",
       "      <td>2</td>\n",
       "      <td>12.08</td>\n",
       "      <td>1.33</td>\n",
       "      <td>2.30</td>\n",
       "      <td>23.6</td>\n",
       "      <td>70</td>\n",
       "      <td>2.20</td>\n",
       "      <td>1.59</td>\n",
       "      <td>0.42</td>\n",
       "      <td>1.38</td>\n",
       "      <td>1.74</td>\n",
       "      <td>1.07</td>\n",
       "      <td>3.21</td>\n",
       "      <td>625</td>\n",
       "    </tr>\n",
       "    <tr>\n",
       "      <th>138</th>\n",
       "      <td>3</td>\n",
       "      <td>12.84</td>\n",
       "      <td>2.96</td>\n",
       "      <td>2.61</td>\n",
       "      <td>24.0</td>\n",
       "      <td>101</td>\n",
       "      <td>2.32</td>\n",
       "      <td>0.60</td>\n",
       "      <td>0.53</td>\n",
       "      <td>0.81</td>\n",
       "      <td>4.92</td>\n",
       "      <td>0.89</td>\n",
       "      <td>2.15</td>\n",
       "      <td>590</td>\n",
       "    </tr>\n",
       "    <tr>\n",
       "      <th>30</th>\n",
       "      <td>1</td>\n",
       "      <td>13.58</td>\n",
       "      <td>1.66</td>\n",
       "      <td>2.36</td>\n",
       "      <td>19.1</td>\n",
       "      <td>106</td>\n",
       "      <td>2.86</td>\n",
       "      <td>3.19</td>\n",
       "      <td>0.22</td>\n",
       "      <td>1.95</td>\n",
       "      <td>6.90</td>\n",
       "      <td>1.09</td>\n",
       "      <td>2.88</td>\n",
       "      <td>1515</td>\n",
       "    </tr>\n",
       "    <tr>\n",
       "      <th>68</th>\n",
       "      <td>2</td>\n",
       "      <td>12.21</td>\n",
       "      <td>1.19</td>\n",
       "      <td>1.75</td>\n",
       "      <td>16.8</td>\n",
       "      <td>151</td>\n",
       "      <td>1.85</td>\n",
       "      <td>1.28</td>\n",
       "      <td>0.14</td>\n",
       "      <td>2.50</td>\n",
       "      <td>2.85</td>\n",
       "      <td>1.28</td>\n",
       "      <td>3.07</td>\n",
       "      <td>718</td>\n",
       "    </tr>\n",
       "    <tr>\n",
       "      <th>35</th>\n",
       "      <td>1</td>\n",
       "      <td>13.28</td>\n",
       "      <td>1.64</td>\n",
       "      <td>2.84</td>\n",
       "      <td>15.5</td>\n",
       "      <td>110</td>\n",
       "      <td>2.60</td>\n",
       "      <td>2.68</td>\n",
       "      <td>0.34</td>\n",
       "      <td>1.36</td>\n",
       "      <td>4.60</td>\n",
       "      <td>1.09</td>\n",
       "      <td>2.78</td>\n",
       "      <td>880</td>\n",
       "    </tr>\n",
       "    <tr>\n",
       "      <th>14</th>\n",
       "      <td>1</td>\n",
       "      <td>13.63</td>\n",
       "      <td>1.81</td>\n",
       "      <td>2.70</td>\n",
       "      <td>17.2</td>\n",
       "      <td>112</td>\n",
       "      <td>2.85</td>\n",
       "      <td>2.91</td>\n",
       "      <td>0.30</td>\n",
       "      <td>1.46</td>\n",
       "      <td>7.30</td>\n",
       "      <td>1.28</td>\n",
       "      <td>2.88</td>\n",
       "      <td>1310</td>\n",
       "    </tr>\n",
       "  </tbody>\n",
       "</table>\n",
       "</div>"
      ],
      "text/plain": [
       "     Alcohol  Malic acid   ash  Alcalinity of ash  Magnesium  Total phenols  \\\n",
       "41         1       13.88  1.89               2.59       15.0            101   \n",
       "99         2       12.08  2.08               1.70       17.5             97   \n",
       "124        2       12.07  2.16               2.17       21.0             85   \n",
       "17         1       14.19  1.59               2.48       16.5            108   \n",
       "88         2       12.08  1.33               2.30       23.6             70   \n",
       "138        3       12.84  2.96               2.61       24.0            101   \n",
       "30         1       13.58  1.66               2.36       19.1            106   \n",
       "68         2       12.21  1.19               1.75       16.8            151   \n",
       "35         1       13.28  1.64               2.84       15.5            110   \n",
       "14         1       13.63  1.81               2.70       17.2            112   \n",
       "\n",
       "     Flavanoids  Nonflavanoid phenols  Proanthocyanins  Color intensity   Hue  \\\n",
       "41         3.25                  3.56             0.17             1.70  5.43   \n",
       "99         2.23                  2.17             0.26             1.40  3.30   \n",
       "124        2.60                  2.65             0.37             1.35  2.76   \n",
       "17         3.30                  3.93             0.32             1.86  8.70   \n",
       "88         2.20                  1.59             0.42             1.38  1.74   \n",
       "138        2.32                  0.60             0.53             0.81  4.92   \n",
       "30         2.86                  3.19             0.22             1.95  6.90   \n",
       "68         1.85                  1.28             0.14             2.50  2.85   \n",
       "35         2.60                  2.68             0.34             1.36  4.60   \n",
       "14         2.85                  2.91             0.30             1.46  7.30   \n",
       "\n",
       "     OD280/OD315 of diluted wines  Proline     1  \n",
       "41                           0.88     3.56  1095  \n",
       "99                           1.27     2.96   710  \n",
       "124                          0.86     3.28   378  \n",
       "17                           1.23     2.82  1680  \n",
       "88                           1.07     3.21   625  \n",
       "138                          0.89     2.15   590  \n",
       "30                           1.09     2.88  1515  \n",
       "68                           1.28     3.07   718  \n",
       "35                           1.09     2.78   880  \n",
       "14                           1.28     2.88  1310  "
      ]
     },
     "execution_count": 11,
     "metadata": {},
     "output_type": "execute_result"
    }
   ],
   "source": [
    "dfWine.columns = ['Alcohol', 'Malic acid', 'ash', 'Alcalinity of ash', 'Magnesium', 'Total phenols','Flavanoids', 'Nonflavanoid phenols','Proanthocyanins','Color intensity','Hue','OD280/OD315 of diluted wines','Proline','1']\n",
    "\n",
    "dfWine.sample(10)"
   ]
  },
  {
   "cell_type": "markdown",
   "id": "7a6151cd",
   "metadata": {},
   "source": [
    "### Understanding and visualizing the data"
   ]
  },
  {
   "cell_type": "markdown",
   "id": "0e283a2f",
   "metadata": {},
   "source": [
    "to better understand your data, experiement with creating some graph to visualize the data"
   ]
  },
  {
   "cell_type": "code",
   "execution_count": 16,
   "id": "7d3e7382",
   "metadata": {},
   "outputs": [],
   "source": [
    "totalWine = dfWine.groupby('Alcohol').sum()"
   ]
  },
  {
   "cell_type": "code",
   "execution_count": 20,
   "id": "cdf44384",
   "metadata": {},
   "outputs": [
    {
     "data": {
      "text/plain": [
       "<AxesSubplot:xlabel='Alcohol', ylabel='Proline'>"
      ]
     },
     "execution_count": 20,
     "metadata": {},
     "output_type": "execute_result"
    },
    {
     "data": {
      "image/png": "[encoded data removed]",
      "text/plain": [
       "<Figure size 432x288 with 1 Axes>"
      ]
     },
     "metadata": {
      "needs_background": "light"
     },
     "output_type": "display_data"
    }
   ],
   "source": [
    "sns.barplot(x=totalWine.index, y=totalWine.Proline)"
   ]
  },
  {
   "cell_type": "markdown",
   "id": "05d070ab",
   "metadata": {},
   "source": [
    "Here you can see how much each alcohol has proline in it"
   ]
  },
  {
   "cell_type": "code",
   "execution_count": 21,
   "id": "e401d707",
   "metadata": {},
   "outputs": [
    {
     "data": {
      "text/plain": [
       "<AxesSubplot:xlabel='Alcohol', ylabel='Magnesium'>"
      ]
     },
     "execution_count": 21,
     "metadata": {},
     "output_type": "execute_result"
    },
    {
     "data": {
      "image/png": "[encoded data removed]",
      "text/plain": [
       "<Figure size 432x288 with 1 Axes>"
      ]
     },
     "metadata": {
      "needs_background": "light"
     },
     "output_type": "display_data"
    }
   ],
   "source": [
    "sns.barplot(x=totalWine.index, y=totalWine.Magnesium)"
   ]
  },
  {
   "cell_type": "markdown",
   "id": "a8003176",
   "metadata": {},
   "source": [
    "And here how much magnesium in each alcohol"
   ]
  },
  {
   "cell_type": "markdown",
   "id": "f36d9ab3",
   "metadata": {},
   "source": [
    "I think graphs like these are readible by most people"
   ]
  },
  {
   "cell_type": "markdown",
   "id": "d4719d03",
   "metadata": {},
   "source": [
    "## Preparing for ML"
   ]
  },
  {
   "cell_type": "markdown",
   "id": "2c7acd04",
   "metadata": {},
   "source": [
    "we split data into test and train data"
   ]
  },
  {
   "cell_type": "code",
   "execution_count": 24,
   "id": "ba6e7126",
   "metadata": {},
   "outputs": [],
   "source": [
    "X = dfWine[['Alcohol']].values\n",
    "y = dfWine[['Magnesium']].values"
   ]
  },
  {
   "cell_type": "code",
   "execution_count": 25,
   "id": "aca9fad2",
   "metadata": {},
   "outputs": [],
   "source": [
    "from sklearn.model_selection import train_test_split\n",
    "X_train, X_test, y_train, y_test = train_test_split(\n",
    "     X, y, test_size=0.3, random_state=0\n",
    ")"
   ]
  },
  {
   "cell_type": "markdown",
   "id": "cf0a96d4",
   "metadata": {},
   "source": [
    "if you’re preparing a dataset with particular tasks in mind, it’s better to reduce data."
   ]
  },
  {
   "cell_type": "markdown",
   "id": "8a900296",
   "metadata": {},
   "source": [
    "For k-nearest neighbors algorithm you select 2 values"
   ]
  },
  {
   "cell_type": "code",
   "execution_count": 27,
   "id": "09b888ea",
   "metadata": {},
   "outputs": [],
   "source": [
    "from sklearn.preprocessing import StandardScaler\n",
    "from sklearn.model_selection import train_test_split\n",
    "from sklearn.svm import SVC\n",
    "from sklearn import metrics"
   ]
  },
  {
   "cell_type": "markdown",
   "id": "c9f279dd",
   "metadata": {},
   "source": [
    "you then make a scatter plot"
   ]
  },
  {
   "cell_type": "code",
   "execution_count": 28,
   "id": "20172402",
   "metadata": {},
   "outputs": [
    {
     "data": {
      "text/plain": [
       "<matplotlib.collections.PathCollection at 0x150f3acba30>"
      ]
     },
     "execution_count": 28,
     "metadata": {},
     "output_type": "execute_result"
    },
    {
     "data": {
      "image/png": "[encoded data removed]",
      "text/plain": [
       "<Figure size 432x288 with 1 Axes>"
      ]
     },
     "metadata": {
      "needs_background": "light"
     },
     "output_type": "display_data"
    }
   ],
   "source": [
    "plt.scatter(X,y)"
   ]
  },
  {
   "cell_type": "markdown",
   "id": "5c96024a",
   "metadata": {},
   "source": [
    "this is probably not the choice of values of the data to perform ml on, but you get the idea"
   ]
  },
  {
   "cell_type": "markdown",
   "id": "df75105a",
   "metadata": {},
   "source": [
    "### after this you're ready to feed it into an ML model"
   ]
  },
  {
   "cell_type": "markdown",
   "id": "7bc9f78f",
   "metadata": {},
   "source": [
    "Megin van Herk"
   ]
  }
 ],
 "metadata": {
  "kernelspec": {
   "display_name": "Python 3 (ipykernel)",
   "language": "python",
   "name": "python3"
  },
  "language_info": {
   "codemirror_mode": {
    "name": "ipython",
    "version": 3
   },
   "file_extension": ".py",
   "mimetype": "text/x-python",
   "name": "python",
   "nbconvert_exporter": "python",
   "pygments_lexer": "ipython3",
   "version": "3.9.7"
  }
 },
 "nbformat": 4,
 "nbformat_minor": 5
}
