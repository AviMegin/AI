{
 "cells": [
  {
   "cell_type": "code",
   "execution_count": null,
   "metadata": {
    "_cell_guid": "b1076dfc-b9ad-4769-8c92-a6c4dae69d19",
    "_uuid": "8f2839f25d086af736a60e9eeb907d3b93b6e0e5",
    "execution": {
     "iopub.execute_input": "2021-11-21T18:46:39.03855Z",
     "iopub.status.busy": "2021-11-21T18:46:39.038173Z",
     "iopub.status.idle": "2021-11-21T18:46:39.368064Z",
     "shell.execute_reply": "2021-11-21T18:46:39.367063Z",
     "shell.execute_reply.started": "2021-11-21T18:46:39.038491Z"
    }
   },
   "outputs": [],
   "source": [
    "# This Python 3 environment comes with many helpful analytics libraries installed\n",
    "# It is defined by the kaggle/python Docker image: https://github.com/kaggle/docker-python\n",
    "# For example, here's several helpful packages to load\n",
    "\n",
    "import numpy as np # linear algebra\n",
    "import pandas as pd # data processing, CSV file I/O (e.g. pd.read_csv)\n",
    "\n",
    "# Input data files are available in the read-only \"../input/\" directory\n",
    "# For example, running this (by clicking run or pressing Shift+Enter) will list all files under the input directory\n",
    "import seaborn as sns\n",
    "import os\n",
    "for dirname, _, filenames in os.walk('/kaggle/input'):\n",
    "    for filename in filenames:\n",
    "        print(os.path.join(dirname, filename))\n",
    "import matplotlib.pyplot as plt \n",
    "\n",
    "# You can write up to 20GB to the current directory (/kaggle/working/) that gets preserved as output when you create a version using \"Save & Run All\" \n",
    "# You can also write temporary files to /kaggle/temp/, but they won't be saved outside of the current session"
   ]
  },
  {
   "cell_type": "code",
   "execution_count": null,
   "metadata": {
    "execution": {
     "iopub.execute_input": "2021-11-21T18:46:39.373798Z",
     "iopub.status.busy": "2021-11-21T18:46:39.373508Z",
     "iopub.status.idle": "2021-11-21T18:46:39.595229Z",
     "shell.execute_reply": "2021-11-21T18:46:39.594506Z",
     "shell.execute_reply.started": "2021-11-21T18:46:39.373758Z"
    }
   },
   "outputs": [],
   "source": [
    "from sklearn.linear_model import LogisticRegression\n",
    "from sklearn.naive_bayes import MultinomialNB\n",
    "\n",
    "# Transformers\n",
    "\n",
    "from sklearn.feature_extraction.text import CountVectorizer\n",
    "from sklearn.model_selection import train_test_split\n",
    "from sklearn.metrics import accuracy_score,classification_report,confusion_matrix"
   ]
  },
  {
   "cell_type": "code",
   "execution_count": null,
   "metadata": {
    "execution": {
     "iopub.execute_input": "2021-11-21T18:46:40.089479Z",
     "iopub.status.busy": "2021-11-21T18:46:40.088725Z",
     "iopub.status.idle": "2021-11-21T18:46:47.197713Z",
     "shell.execute_reply": "2021-11-21T18:46:47.196538Z",
     "shell.execute_reply.started": "2021-11-21T18:46:40.089434Z"
    }
   },
   "outputs": [],
   "source": [
    "pip install neattext"
   ]
  },
  {
   "cell_type": "code",
   "execution_count": null,
   "metadata": {
    "execution": {
     "iopub.execute_input": "2021-11-21T18:46:47.200057Z",
     "iopub.status.busy": "2021-11-21T18:46:47.199818Z",
     "iopub.status.idle": "2021-11-21T18:46:47.222603Z",
     "shell.execute_reply": "2021-11-21T18:46:47.22191Z",
     "shell.execute_reply.started": "2021-11-21T18:46:47.200026Z"
    }
   },
   "outputs": [],
   "source": [
    "import neattext.functions as nfx"
   ]
  },
  {
   "cell_type": "code",
   "execution_count": null,
   "metadata": {
    "execution": {
     "iopub.execute_input": "2021-11-21T18:49:24.895394Z",
     "iopub.status.busy": "2021-11-21T18:49:24.894763Z",
     "iopub.status.idle": "2021-11-21T18:49:24.981645Z",
     "shell.execute_reply": "2021-11-21T18:49:24.980622Z",
     "shell.execute_reply.started": "2021-11-21T18:49:24.895353Z"
    }
   },
   "outputs": [],
   "source": [
    "df = pd.read_csv(\"../input/emotion-dataset/emotion_dataset_raw.csv\")\n",
    "df.drop(df[df['Emotion']=='shame'].index, inplace=True)\n",
    "df.drop(df[df['Emotion']=='disgust'].index, inplace=True)"
   ]
  },
  {
   "cell_type": "code",
   "execution_count": null,
   "metadata": {
    "execution": {
     "iopub.execute_input": "2021-11-21T18:49:26.219087Z",
     "iopub.status.busy": "2021-11-21T18:49:26.21878Z",
     "iopub.status.idle": "2021-11-21T18:49:26.459137Z",
     "shell.execute_reply": "2021-11-21T18:49:26.458216Z",
     "shell.execute_reply.started": "2021-11-21T18:49:26.219054Z"
    }
   },
   "outputs": [],
   "source": [
    "plt.figure(figsize=(20,5))\n",
    "sns.countplot(x='Emotion',data=df)"
   ]
  },
  {
   "cell_type": "code",
   "execution_count": null,
   "metadata": {
    "execution": {
     "iopub.execute_input": "2021-11-21T18:54:22.770501Z",
     "iopub.status.busy": "2021-11-21T18:54:22.770189Z",
     "iopub.status.idle": "2021-11-21T18:54:22.838824Z",
     "shell.execute_reply": "2021-11-21T18:54:22.837972Z",
     "shell.execute_reply.started": "2021-11-21T18:54:22.770465Z"
    }
   },
   "outputs": [],
   "source": [
    "df2 = pd.read_csv(\"../input/emotion-detection-from-text/tweet_emotions.csv\")"
   ]
  },
  {
   "cell_type": "code",
   "execution_count": null,
   "metadata": {
    "execution": {
     "iopub.execute_input": "2021-11-21T18:54:23.989604Z",
     "iopub.status.busy": "2021-11-21T18:54:23.988931Z",
     "iopub.status.idle": "2021-11-21T18:54:23.999615Z",
     "shell.execute_reply": "2021-11-21T18:54:23.998718Z",
     "shell.execute_reply.started": "2021-11-21T18:54:23.989559Z"
    }
   },
   "outputs": [],
   "source": [
    "df2.head()"
   ]
  },
  {
   "cell_type": "code",
   "execution_count": null,
   "metadata": {
    "execution": {
     "iopub.execute_input": "2021-11-21T18:54:24.939579Z",
     "iopub.status.busy": "2021-11-21T18:54:24.938659Z",
     "iopub.status.idle": "2021-11-21T18:54:24.952068Z",
     "shell.execute_reply": "2021-11-21T18:54:24.951212Z",
     "shell.execute_reply.started": "2021-11-21T18:54:24.939525Z"
    }
   },
   "outputs": [],
   "source": [
    "df['Emotion'].value_counts()\n",
    "df2.rename(columns = {'sentiment':'Emotion', 'content':'Text'}, inplace = True)\n",
    "df2.tail()"
   ]
  },
  {
   "cell_type": "code",
   "execution_count": null,
   "metadata": {
    "execution": {
     "iopub.execute_input": "2021-11-21T18:54:26.329455Z",
     "iopub.status.busy": "2021-11-21T18:54:26.329118Z",
     "iopub.status.idle": "2021-11-21T18:54:26.606766Z",
     "shell.execute_reply": "2021-11-21T18:54:26.606072Z",
     "shell.execute_reply.started": "2021-11-21T18:54:26.329423Z"
    }
   },
   "outputs": [],
   "source": [
    "df2.drop(['tweet_id'],axis=1, inplace=True)\n",
    "df2.drop(df2[df2['Emotion']=='empty'].index, inplace=True)\n",
    "df2.drop(df2[df2['Emotion']=='enthusiam'].index, inplace=True)\n",
    "df2.drop(df2[df2['Emotion']=='boredom'].index, inplace=True)\n",
    "df2.drop(df2[df2['Emotion']=='relief'].index, inplace=True)\n",
    "df2.drop(df2[df2['Emotion']=='anger'].index, inplace=True)\n",
    "pre = {'neutral':'neutral','sadness':'sadness','worry':'worry','love':'love','happiness':'happiness','fun':'happiness','suprise':'suprise','hate':'anger'}\n",
    "df2['Emotion'] = df2['Emotion'].map(pre)\n",
    "plt.figure(figsize=(20,5))\n",
    "sns.countplot(x='Emotion',data=df2)"
   ]
  },
  {
   "cell_type": "code",
   "execution_count": null,
   "metadata": {
    "execution": {
     "iopub.execute_input": "2021-11-21T18:54:29.809285Z",
     "iopub.status.busy": "2021-11-21T18:54:29.808712Z",
     "iopub.status.idle": "2021-11-21T18:54:30.178281Z",
     "shell.execute_reply": "2021-11-21T18:54:30.177617Z",
     "shell.execute_reply.started": "2021-11-21T18:54:29.809245Z"
    }
   },
   "outputs": [],
   "source": [
    "import fileinput\n",
    "  \n",
    "# Using fileinput.input() method\n",
    "a = []\n",
    "b = []\n",
    "for line in fileinput.input(files ='../input/testtxt/train.txt'):\n",
    "    s = \"\"\n",
    "    i = len(line) - 2\n",
    "    while line[i] != ';':\n",
    "        s = line[i] + s\n",
    "        i -= 1 \n",
    "    b.append(s)\n",
    "    a.append(line[0:i])\n",
    "for line in fileinput.input(files ='../input/testtxt/test.txt'):\n",
    "    s = \"\"\n",
    "    i = len(line) - 2\n",
    "    while line[i] != ';':\n",
    "        s = line[i] + s\n",
    "        i -= 1 \n",
    "    b.append(s)\n",
    "    a.append(line[0:i])\n",
    "for line in fileinput.input(files ='../input/testtxt/val.txt'):\n",
    "    s = \"\"\n",
    "    i = len(line) - 2\n",
    "    while line[i] != ';':\n",
    "        s = line[i] + s\n",
    "        i -= 1 \n",
    "    b.append(s)\n",
    "    a.append(line[0:i])\n",
    "\n",
    "print(len(b),a[0])\n",
    "dic = {'Text':a, 'Emotion':b}\n",
    "df3 = pd.DataFrame(dic)\n",
    "df3.to_csv('Emotions.csv') \n",
    "plt.figure(figsize=(20,5))\n",
    "sns.countplot(x='Emotion',data=df3)"
   ]
  },
  {
   "cell_type": "code",
   "execution_count": null,
   "metadata": {
    "execution": {
     "iopub.execute_input": "2021-11-21T18:54:30.799386Z",
     "iopub.status.busy": "2021-11-21T18:54:30.798862Z",
     "iopub.status.idle": "2021-11-21T18:54:30.871074Z",
     "shell.execute_reply": "2021-11-21T18:54:30.870229Z",
     "shell.execute_reply.started": "2021-11-21T18:54:30.799334Z"
    }
   },
   "outputs": [],
   "source": [
    "df4 = pd.read_csv('../input/emotion/train_sent_emo.csv')\n",
    "df4.rename(columns = {'Utterance':'Text'}, inplace = True)\n",
    "df4.drop(['Sr No.', 'Speaker', 'Sentiment', 'Dialogue_ID', 'Utterance_ID', 'Season', 'Episode', 'StartTime', 'EndTime'],axis=1, inplace=True)\n",
    "df4.head()\n",
    "df4.drop(df4[df4['Emotion']=='disgust'].index, inplace=True)\n",
    "df5 = pd.read_csv('../input/emotion/dev_sent_emo.csv')\n",
    "df5.rename(columns = {'Utterance':'Text'}, inplace = True)\n",
    "df5.drop(['Sr No.', 'Speaker', 'Sentiment', 'Dialogue_ID', 'Utterance_ID', 'Season', 'Episode', 'StartTime', 'EndTime'],axis=1, inplace=True)\n",
    "df5.drop(df5[df5['Emotion']=='disgust'].index, inplace=True)\n",
    "df5.head()\n",
    "df6 = pd.read_csv('../input/emotion/test_sent_emo.csv')\n",
    "df6.rename(columns = {'Utterance':'Text'}, inplace = True)\n",
    "df6.drop(['Sr No.', 'Speaker', 'Sentiment', 'Dialogue_ID', 'Utterance_ID', 'Season', 'Episode', 'StartTime', 'EndTime'],axis=1, inplace=True)\n",
    "df6.drop(df6[df6['Emotion']=='disgust'].index, inplace=True)\n",
    "df6.head()"
   ]
  },
  {
   "cell_type": "code",
   "execution_count": null,
   "metadata": {
    "execution": {
     "iopub.execute_input": "2021-11-21T18:54:31.704621Z",
     "iopub.status.busy": "2021-11-21T18:54:31.703974Z",
     "iopub.status.idle": "2021-11-21T18:54:31.92693Z",
     "shell.execute_reply": "2021-11-21T18:54:31.92605Z",
     "shell.execute_reply.started": "2021-11-21T18:54:31.704558Z"
    }
   },
   "outputs": [],
   "source": [
    "plt.figure(figsize=(20,5))\n",
    "sns.countplot(x='Emotion',data=df4)"
   ]
  },
  {
   "cell_type": "code",
   "execution_count": null,
   "metadata": {
    "execution": {
     "iopub.execute_input": "2021-11-21T19:21:33.382693Z",
     "iopub.status.busy": "2021-11-21T19:21:33.381921Z",
     "iopub.status.idle": "2021-11-21T19:21:33.458754Z",
     "shell.execute_reply": "2021-11-21T19:21:33.457997Z",
     "shell.execute_reply.started": "2021-11-21T19:21:33.382648Z"
    }
   },
   "outputs": [],
   "source": [
    "df_concat = pd.concat([df,df2,df3,df4,df5,df6], axis=0)\n",
    "df_concat.head()\n",
    "labels = {}\n",
    "j = 0\n",
    "for i in df_concat['Emotion'].unique():\n",
    "    labels[i] = j\n",
    "    j += 1\n",
    "print(labels)\n",
    "print(df_concat.head())\n",
    "df_concat.drop(df_concat[df_concat['Emotion']=='happiness'].index, inplace=True)"
   ]
  },
  {
   "cell_type": "code",
   "execution_count": null,
   "metadata": {
    "execution": {
     "iopub.execute_input": "2021-11-21T19:21:36.149255Z",
     "iopub.status.busy": "2021-11-21T19:21:36.148534Z",
     "iopub.status.idle": "2021-11-21T19:21:36.43893Z",
     "shell.execute_reply": "2021-11-21T19:21:36.438079Z",
     "shell.execute_reply.started": "2021-11-21T19:21:36.149219Z"
    }
   },
   "outputs": [],
   "source": [
    "plt.figure(figsize=(20,5))\n",
    "sns.countplot(x='Emotion',data=df_concat)"
   ]
  },
  {
   "cell_type": "code",
   "execution_count": null,
   "metadata": {
    "execution": {
     "iopub.execute_input": "2021-11-21T19:21:43.734971Z",
     "iopub.status.busy": "2021-11-21T19:21:43.734129Z",
     "iopub.status.idle": "2021-11-21T19:21:49.353778Z",
     "shell.execute_reply": "2021-11-21T19:21:49.353008Z",
     "shell.execute_reply.started": "2021-11-21T19:21:43.73493Z"
    }
   },
   "outputs": [],
   "source": [
    "all_words = ' '.join([text for text in  df_concat['Text']]) \n",
    "from wordcloud import WordCloud\n",
    "wordcloud = WordCloud(width=800, height=500, random_state=21, max_font_size=110).generate(all_words) \n",
    "plt.figure(figsize=(20, 12)) \n",
    "plt.imshow(wordcloud, interpolation=\"bilinear\") \n",
    "plt.axis('off')\n",
    "plt.show()"
   ]
  },
  {
   "cell_type": "code",
   "execution_count": null,
   "metadata": {
    "execution": {
     "iopub.execute_input": "2021-11-21T19:21:57.300439Z",
     "iopub.status.busy": "2021-11-21T19:21:57.300103Z",
     "iopub.status.idle": "2021-11-21T19:21:57.308034Z",
     "shell.execute_reply": "2021-11-21T19:21:57.307137Z",
     "shell.execute_reply.started": "2021-11-21T19:21:57.300406Z"
    }
   },
   "outputs": [],
   "source": [
    "dir(nfx)"
   ]
  },
  {
   "cell_type": "code",
   "execution_count": null,
   "metadata": {
    "execution": {
     "iopub.execute_input": "2021-11-21T19:21:58.384262Z",
     "iopub.status.busy": "2021-11-21T19:21:58.383512Z",
     "iopub.status.idle": "2021-11-21T19:21:58.531358Z",
     "shell.execute_reply": "2021-11-21T19:21:58.530465Z",
     "shell.execute_reply.started": "2021-11-21T19:21:58.384213Z"
    }
   },
   "outputs": [],
   "source": [
    "df_concat['Clean_Text'] = df_concat['Text'].apply(nfx.remove_userhandles)"
   ]
  },
  {
   "cell_type": "code",
   "execution_count": null,
   "metadata": {
    "execution": {
     "iopub.execute_input": "2021-11-21T19:22:01.868945Z",
     "iopub.status.busy": "2021-11-21T19:22:01.868627Z",
     "iopub.status.idle": "2021-11-21T19:22:02.231748Z",
     "shell.execute_reply": "2021-11-21T19:22:02.231028Z",
     "shell.execute_reply.started": "2021-11-21T19:22:01.868909Z"
    }
   },
   "outputs": [],
   "source": [
    "df_concat['Clean_Text'] = df_concat['Clean_Text'].apply(nfx.remove_stopwords)\n",
    "df_concat['Emotion'] = df_concat['Emotion'].map(labels)"
   ]
  },
  {
   "cell_type": "code",
   "execution_count": null,
   "metadata": {
    "execution": {
     "iopub.execute_input": "2021-11-21T19:22:03.149031Z",
     "iopub.status.busy": "2021-11-21T19:22:03.148753Z",
     "iopub.status.idle": "2021-11-21T19:22:03.17797Z",
     "shell.execute_reply": "2021-11-21T19:22:03.177208Z",
     "shell.execute_reply.started": "2021-11-21T19:22:03.149002Z"
    }
   },
   "outputs": [],
   "source": [
    "df_concat = df_concat.sample(frac = 1)\n",
    "df_concat"
   ]
  },
  {
   "cell_type": "code",
   "execution_count": null,
   "metadata": {
    "execution": {
     "iopub.execute_input": "2021-11-21T19:22:06.1544Z",
     "iopub.status.busy": "2021-11-21T19:22:06.153552Z",
     "iopub.status.idle": "2021-11-21T19:22:06.179198Z",
     "shell.execute_reply": "2021-11-21T19:22:06.178504Z",
     "shell.execute_reply.started": "2021-11-21T19:22:06.154345Z"
    }
   },
   "outputs": [],
   "source": [
    "df_concat = df_concat.sample(frac = 1)\n",
    "Xfeatures = df_concat['Clean_Text']\n",
    "ylabels = df_concat['Emotion']"
   ]
  },
  {
   "cell_type": "code",
   "execution_count": null,
   "metadata": {
    "execution": {
     "iopub.execute_input": "2021-11-21T19:31:58.52091Z",
     "iopub.status.busy": "2021-11-21T19:31:58.520486Z",
     "iopub.status.idle": "2021-11-21T19:31:58.540191Z",
     "shell.execute_reply": "2021-11-21T19:31:58.539616Z",
     "shell.execute_reply.started": "2021-11-21T19:31:58.520879Z"
    }
   },
   "outputs": [],
   "source": [
    "from sklearn.model_selection import train_test_split\n",
    "from sklearn.pipeline import Pipeline\n",
    "from sklearn.model_selection import GridSearchCV\n",
    "from sklearn.metrics import accuracy_score\n",
    "from sklearn.tree import DecisionTreeClassifier\n",
    "from sklearn.linear_model import LogisticRegression\n",
    "from sklearn.ensemble import RandomForestClassifier\n",
    "from sklearn import svm\n",
    "from sklearn.feature_extraction.text import TfidfTransformer\n",
    "x_train,x_test,y_train,y_test = train_test_split(Xfeatures,ylabels,test_size=0.2,random_state=100)"
   ]
  },
  {
   "cell_type": "code",
   "execution_count": null,
   "metadata": {
    "execution": {
     "iopub.execute_input": "2021-11-21T19:31:59.799847Z",
     "iopub.status.busy": "2021-11-21T19:31:59.799432Z",
     "iopub.status.idle": "2021-11-21T19:31:59.802934Z",
     "shell.execute_reply": "2021-11-21T19:31:59.802405Z",
     "shell.execute_reply.started": "2021-11-21T19:31:59.799816Z"
    }
   },
   "outputs": [],
   "source": [
    "ex1 = \"I am sad and angry\""
   ]
  },
  {
   "cell_type": "code",
   "execution_count": null,
   "metadata": {
    "execution": {
     "iopub.execute_input": "2021-11-21T19:32:00.874862Z",
     "iopub.status.busy": "2021-11-21T19:32:00.874368Z",
     "iopub.status.idle": "2021-11-21T19:32:00.879695Z",
     "shell.execute_reply": "2021-11-21T19:32:00.878963Z",
     "shell.execute_reply.started": "2021-11-21T19:32:00.874757Z"
    }
   },
   "outputs": [],
   "source": [
    "pipe_dt = Pipeline([('vect', CountVectorizer()),\n",
    "                 ('tfidf', TfidfTransformer()),\n",
    "                 ('model', DecisionTreeClassifier(random_state=100))])"
   ]
  },
  {
   "cell_type": "code",
   "execution_count": null,
   "metadata": {
    "execution": {
     "iopub.execute_input": "2021-11-21T19:32:02.005172Z",
     "iopub.status.busy": "2021-11-21T19:32:02.004386Z",
     "iopub.status.idle": "2021-11-21T19:32:59.358216Z",
     "shell.execute_reply": "2021-11-21T19:32:59.357523Z",
     "shell.execute_reply.started": "2021-11-21T19:32:02.005107Z"
    }
   },
   "outputs": [],
   "source": [
    "pipe_dt.fit(x_train,y_train)"
   ]
  },
  {
   "cell_type": "code",
   "execution_count": null,
   "metadata": {
    "execution": {
     "iopub.execute_input": "2021-11-21T19:32:59.359951Z",
     "iopub.status.busy": "2021-11-21T19:32:59.359601Z",
     "iopub.status.idle": "2021-11-21T19:32:59.57255Z",
     "shell.execute_reply": "2021-11-21T19:32:59.571602Z",
     "shell.execute_reply.started": "2021-11-21T19:32:59.359911Z"
    }
   },
   "outputs": [],
   "source": [
    "pipe_dt.score(x_test,y_test)"
   ]
  },
  {
   "cell_type": "code",
   "execution_count": null,
   "metadata": {
    "execution": {
     "iopub.execute_input": "2021-11-21T19:32:59.574788Z",
     "iopub.status.busy": "2021-11-21T19:32:59.574337Z",
     "iopub.status.idle": "2021-11-21T19:32:59.584161Z",
     "shell.execute_reply": "2021-11-21T19:32:59.58335Z",
     "shell.execute_reply.started": "2021-11-21T19:32:59.574739Z"
    }
   },
   "outputs": [],
   "source": [
    "a = pipe_dt.predict([ex1])\n",
    "label = {}\n",
    "for i,j in labels.items():\n",
    "    label[j] = i\n",
    "label[int(a)]"
   ]
  },
  {
   "cell_type": "code",
   "execution_count": null,
   "metadata": {
    "execution": {
     "iopub.execute_input": "2021-11-21T19:50:25.315602Z",
     "iopub.status.busy": "2021-11-21T19:50:25.315304Z",
     "iopub.status.idle": "2021-11-21T19:50:25.320385Z",
     "shell.execute_reply": "2021-11-21T19:50:25.319685Z",
     "shell.execute_reply.started": "2021-11-21T19:50:25.315568Z"
    }
   },
   "outputs": [],
   "source": [
    "# pipe_rf = Pipeline([('vect', CountVectorizer()),\n",
    "#                    ('tfidf', TfidfTransformer()),\n",
    "#             ('clf', RandomForestClassifier(n_estimators = 200, random_state=100))])"
   ]
  },
  {
   "cell_type": "code",
   "execution_count": null,
   "metadata": {
    "execution": {
     "iopub.execute_input": "2021-11-21T19:50:26.460731Z",
     "iopub.status.busy": "2021-11-21T19:50:26.460029Z",
     "iopub.status.idle": "2021-11-21T20:03:02.081904Z",
     "shell.execute_reply": "2021-11-21T20:03:02.080618Z",
     "shell.execute_reply.started": "2021-11-21T19:50:26.460681Z"
    }
   },
   "outputs": [],
   "source": [
    "# pipe_rf.fit(x_train,y_train)"
   ]
  },
  {
   "cell_type": "code",
   "execution_count": null,
   "metadata": {
    "execution": {
     "iopub.status.busy": "2021-11-21T20:03:02.082745Z",
     "iopub.status.idle": "2021-11-21T20:03:02.083059Z",
     "shell.execute_reply": "2021-11-21T20:03:02.082916Z",
     "shell.execute_reply.started": "2021-11-21T20:03:02.082898Z"
    }
   },
   "outputs": [],
   "source": [
    "# pipe_rf.score(x_test,y_test)"
   ]
  },
  {
   "cell_type": "code",
   "execution_count": null,
   "metadata": {
    "execution": {
     "iopub.status.busy": "2021-11-21T19:50:18.844521Z",
     "iopub.status.idle": "2021-11-21T19:50:18.844839Z",
     "shell.execute_reply": "2021-11-21T19:50:18.844686Z",
     "shell.execute_reply.started": "2021-11-21T19:50:18.844665Z"
    }
   },
   "outputs": [],
   "source": [
    "# label[int(pipe_rf.predict([ex1]))]\n"
   ]
  },
  {
   "cell_type": "code",
   "execution_count": null,
   "metadata": {
    "execution": {
     "iopub.execute_input": "2021-11-21T20:03:07.695132Z",
     "iopub.status.busy": "2021-11-21T20:03:07.694822Z",
     "iopub.status.idle": "2021-11-21T20:03:07.70025Z",
     "shell.execute_reply": "2021-11-21T20:03:07.699352Z",
     "shell.execute_reply.started": "2021-11-21T20:03:07.695101Z"
    }
   },
   "outputs": [],
   "source": [
    "from xgboost import XGBClassifier\n",
    "pipe_xg = Pipeline([('vect', CountVectorizer()),\n",
    "                   ('tfidf', TfidfTransformer()),\n",
    "            ('clf', XGBClassifier(n_estimators=300,random_state=100))])"
   ]
  },
  {
   "cell_type": "code",
   "execution_count": null,
   "metadata": {
    "execution": {
     "iopub.execute_input": "2021-11-21T20:03:09.144888Z",
     "iopub.status.busy": "2021-11-21T20:03:09.144568Z",
     "iopub.status.idle": "2021-11-21T20:07:42.067883Z",
     "shell.execute_reply": "2021-11-21T20:07:42.066988Z",
     "shell.execute_reply.started": "2021-11-21T20:03:09.144855Z"
    }
   },
   "outputs": [],
   "source": [
    "pipe_xg.fit(x_train,y_train)"
   ]
  },
  {
   "cell_type": "code",
   "execution_count": null,
   "metadata": {
    "execution": {
     "iopub.execute_input": "2021-11-21T20:07:42.069681Z",
     "iopub.status.busy": "2021-11-21T20:07:42.069445Z",
     "iopub.status.idle": "2021-11-21T20:07:43.380004Z",
     "shell.execute_reply": "2021-11-21T20:07:43.379119Z",
     "shell.execute_reply.started": "2021-11-21T20:07:42.069651Z"
    }
   },
   "outputs": [],
   "source": [
    "pipe_xg.score(x_test,y_test)"
   ]
  },
  {
   "cell_type": "code",
   "execution_count": null,
   "metadata": {
    "execution": {
     "iopub.execute_input": "2021-11-21T20:12:26.95576Z",
     "iopub.status.busy": "2021-11-21T20:12:26.955463Z",
     "iopub.status.idle": "2021-11-21T20:12:26.968964Z",
     "shell.execute_reply": "2021-11-21T20:12:26.968176Z",
     "shell.execute_reply.started": "2021-11-21T20:12:26.955729Z"
    }
   },
   "outputs": [],
   "source": [
    "label[int(pipe_xg.predict([' want to continue to surprise me. Would you like to know your future?']))]"
   ]
  }
 ],
 "metadata": {
  "kernelspec": {
   "display_name": "Python 3",
   "language": "python",
   "name": "python3"
  },
  "language_info": {
   "codemirror_mode": {
    "name": "ipython",
    "version": 3
   },
   "file_extension": ".py",
   "mimetype": "text/x-python",
   "name": "python",
   "nbconvert_exporter": "python",
   "pygments_lexer": "ipython3",
   "version": "3.6.4"
  }
 },
 "nbformat": 4,
 "nbformat_minor": 4
}
