{
 "cells": [
  {
   "cell_type": "code",
   "execution_count": 2,
   "id": "2e945c11",
   "metadata": {},
   "outputs": [],
   "source": [
    "import pandas as pd\n",
    "import numpy\n",
    "\n",
    "\n",
    "PenisData = pd.read_csv(\"C:/Users/megin/OneDrive/Documenten/DAta/penis.csv\")"
   ]
  },
  {
   "cell_type": "code",
   "execution_count": 3,
   "id": "7580d0b6",
   "metadata": {},
   "outputs": [
    {
     "data": {
      "text/plain": [
       "Index(['Country', 'Region', 'length_flaccid', 'length_erect',\n",
       "       'circumf_flaccid', 'circumf_erect', 'volume_erect', 'volume_flaccid',\n",
       "       'Method', 'N', 'Source', 'growth_length', 'growth_circumf',\n",
       "       'growth_volume'],\n",
       "      dtype='object')"
      ]
     },
     "execution_count": 3,
     "metadata": {},
     "output_type": "execute_result"
    }
   ],
   "source": [
    "PenisData.columns\n"
   ]
  },
  {
   "cell_type": "code",
   "execution_count": 4,
   "id": "037c42b9",
   "metadata": {},
   "outputs": [
    {
     "data": {
      "text/html": [
       "<div>\n",
       "<style scoped>\n",
       "    .dataframe tbody tr th:only-of-type {\n",
       "        vertical-align: middle;\n",
       "    }\n",
       "\n",
       "    .dataframe tbody tr th {\n",
       "        vertical-align: top;\n",
       "    }\n",
       "\n",
       "    .dataframe thead th {\n",
       "        text-align: right;\n",
       "    }\n",
       "</style>\n",
       "<table border=\"1\" class=\"dataframe\">\n",
       "  <thead>\n",
       "    <tr style=\"text-align: right;\">\n",
       "      <th></th>\n",
       "      <th>length_flaccid</th>\n",
       "      <th>length_erect</th>\n",
       "      <th>Method</th>\n",
       "      <th>Country</th>\n",
       "      <th>Method-ID</th>\n",
       "    </tr>\n",
       "  </thead>\n",
       "  <tbody>\n",
       "    <tr>\n",
       "      <th>107</th>\n",
       "      <td>8.4</td>\n",
       "      <td>12.40</td>\n",
       "      <td>Measured</td>\n",
       "      <td>Saudi Arabia</td>\n",
       "      <td>1</td>\n",
       "    </tr>\n",
       "    <tr>\n",
       "      <th>36</th>\n",
       "      <td>11.1</td>\n",
       "      <td>15.99</td>\n",
       "      <td>Self reported</td>\n",
       "      <td>Dominican Republic</td>\n",
       "      <td>0</td>\n",
       "    </tr>\n",
       "    <tr>\n",
       "      <th>116</th>\n",
       "      <td>9.7</td>\n",
       "      <td>15.29</td>\n",
       "      <td>Self reported</td>\n",
       "      <td>South Africa</td>\n",
       "      <td>0</td>\n",
       "    </tr>\n",
       "    <tr>\n",
       "      <th>101</th>\n",
       "      <td>9.8</td>\n",
       "      <td>15.41</td>\n",
       "      <td>Self reported</td>\n",
       "      <td>Poland</td>\n",
       "      <td>0</td>\n",
       "    </tr>\n",
       "    <tr>\n",
       "      <th>28</th>\n",
       "      <td>11.0</td>\n",
       "      <td>17.33</td>\n",
       "      <td>Measured</td>\n",
       "      <td>Congo-Brazzaville</td>\n",
       "      <td>1</td>\n",
       "    </tr>\n",
       "    <tr>\n",
       "      <th>29</th>\n",
       "      <td>9.6</td>\n",
       "      <td>13.81</td>\n",
       "      <td>Measured</td>\n",
       "      <td>Costa Rica</td>\n",
       "      <td>1</td>\n",
       "    </tr>\n",
       "    <tr>\n",
       "      <th>93</th>\n",
       "      <td>8.7</td>\n",
       "      <td>12.85</td>\n",
       "      <td>Self reported</td>\n",
       "      <td>Oman</td>\n",
       "      <td>0</td>\n",
       "    </tr>\n",
       "    <tr>\n",
       "      <th>45</th>\n",
       "      <td>10.3</td>\n",
       "      <td>15.07</td>\n",
       "      <td>Self reported</td>\n",
       "      <td>Gambia</td>\n",
       "      <td>0</td>\n",
       "    </tr>\n",
       "    <tr>\n",
       "      <th>77</th>\n",
       "      <td>10.7</td>\n",
       "      <td>16.82</td>\n",
       "      <td>Self reported</td>\n",
       "      <td>Lebanon</td>\n",
       "      <td>0</td>\n",
       "    </tr>\n",
       "    <tr>\n",
       "      <th>66</th>\n",
       "      <td>11.3</td>\n",
       "      <td>16.30</td>\n",
       "      <td>Measured</td>\n",
       "      <td>Jamaica</td>\n",
       "      <td>1</td>\n",
       "    </tr>\n",
       "  </tbody>\n",
       "</table>\n",
       "</div>"
      ],
      "text/plain": [
       "     length_flaccid  length_erect         Method             Country  \\\n",
       "107             8.4         12.40       Measured        Saudi Arabia   \n",
       "36             11.1         15.99  Self reported  Dominican Republic   \n",
       "116             9.7         15.29  Self reported        South Africa   \n",
       "101             9.8         15.41  Self reported              Poland   \n",
       "28             11.0         17.33       Measured   Congo-Brazzaville   \n",
       "29              9.6         13.81       Measured          Costa Rica   \n",
       "93              8.7         12.85  Self reported                Oman   \n",
       "45             10.3         15.07  Self reported              Gambia   \n",
       "77             10.7         16.82  Self reported             Lebanon   \n",
       "66             11.3         16.30       Measured             Jamaica   \n",
       "\n",
       "     Method-ID  \n",
       "107          1  \n",
       "36           0  \n",
       "116          0  \n",
       "101          0  \n",
       "28           1  \n",
       "29           1  \n",
       "93           0  \n",
       "45           0  \n",
       "77           0  \n",
       "66           1  "
      ]
     },
     "execution_count": 4,
     "metadata": {},
     "output_type": "execute_result"
    }
   ],
   "source": [
    "penis = PenisData.loc[:,[\"length_flaccid\", \"length_erect\", \"Method\", \"Country\"]]\n",
    "penis['Method-ID'] = penis['Method'].map({'Self reported': 0,'Measured':1 })\n",
    "\n",
    "penis.sample(10)"
   ]
  },
  {
   "cell_type": "code",
   "execution_count": 5,
   "id": "bf554ef0",
   "metadata": {},
   "outputs": [
    {
     "data": {
      "text/plain": [
       "<AxesSubplot:>"
      ]
     },
     "execution_count": 5,
     "metadata": {},
     "output_type": "execute_result"
    },
    {
     "data": {
      "image/png": "[encoded data removed]",
      "text/plain": [
       "<Figure size 1080x576 with 4 Axes>"
      ]
     },
     "metadata": {
      "needs_background": "light"
     },
     "output_type": "display_data"
    }
   ],
   "source": [
    "#penis['Region-ID'] = penis['Region'].map({'Central Asia': 0, 'Europe': 1, 'Africa': 2, 'South America': 3, 'Southeast Asia': 4, 'Western Asia': 5,'Pacific Islands': 6,'Australia': 7,'North America': 8,'Central America/Caribean\t': 9 ,'Asia': 10})\n",
    "#penis.sample(10)\n",
    "penis['Method-ID'] = penis['Method'].map({'Self reported': 0,'Measured':1 })\n",
    "Penisfeatures = tuple(penis.columns[:2].values)\n",
    "penis.boxplot(column=Penisfeatures, by='Method-ID', figsize=(15,8), layout=(1,4));\n",
    "penis.boxplot(column = \"Method-ID\")"
   ]
  },
  {
   "cell_type": "code",
   "execution_count": 6,
   "id": "cf377be5",
   "metadata": {},
   "outputs": [
    {
     "data": {
      "text/plain": [
       "(array([ 8.,  3.,  9., 14., 23., 31., 27., 13.,  6.,  5.]),\n",
       " array([ 9.43 , 10.282, 11.134, 11.986, 12.838, 13.69 , 14.542, 15.394,\n",
       "        16.246, 17.098, 17.95 ]),\n",
       " <BarContainer object of 10 artists>)"
      ]
     },
     "execution_count": 6,
     "metadata": {},
     "output_type": "execute_result"
    },
    {
     "data": {
      "image/png": "[encoded data removed]",
      "text/plain": [
       "<Figure size 432x288 with 1 Axes>"
      ]
     },
     "metadata": {
      "needs_background": "light"
     },
     "output_type": "display_data"
    }
   ],
   "source": [
    "import matplotlib.pyplot as plt\n",
    "pp = PenisData[['length_erect']]\n",
    "\n",
    "plt.hist(pp)"
   ]
  },
  {
   "cell_type": "code",
   "execution_count": 7,
   "id": "06763981",
   "metadata": {},
   "outputs": [],
   "source": [
    "country = PenisData[['Country']]\n"
   ]
  },
  {
   "cell_type": "code",
   "execution_count": 8,
   "id": "549775d0",
   "metadata": {},
   "outputs": [
    {
     "data": {
      "text/plain": [
       "<matplotlib.collections.PathCollection at 0x207aaabe760>"
      ]
     },
     "execution_count": 8,
     "metadata": {},
     "output_type": "execute_result"
    },
    {
     "data": {
      "image/png": "[encoded data removed]",
      "text/plain": [
       "<Figure size 432x288 with 1 Axes>"
      ]
     },
     "metadata": {
      "needs_background": "light"
     },
     "output_type": "display_data"
    }
   ],
   "source": [
    "x = PenisData[['length_flaccid']]\n",
    "y = pp\n",
    "plt.xlabel('Lenght flaccid')\n",
    "plt.ylabel('lenght erect')\n",
    "plt.scatter(x,y)"
   ]
  },
  {
   "cell_type": "code",
   "execution_count": 9,
   "id": "453c0d4e",
   "metadata": {},
   "outputs": [
    {
     "data": {
      "text/plain": [
       "<matplotlib.collections.PathCollection at 0x207aab29ac0>"
      ]
     },
     "execution_count": 9,
     "metadata": {},
     "output_type": "execute_result"
    },
    {
     "data": {
      "image/png": "[encoded data removed]",
      "text/plain": [
       "<Figure size 432x288 with 1 Axes>"
      ]
     },
     "metadata": {
      "needs_background": "light"
     },
     "output_type": "display_data"
    }
   ],
   "source": [
    "test_x = x[80:]\n",
    "test_y = y[80:]\n",
    "plt.scatter(test_x, test_y)"
   ]
  },
  {
   "cell_type": "code",
   "execution_count": 10,
   "id": "ba1b2db2",
   "metadata": {},
   "outputs": [
    {
     "data": {
      "image/png": "[encoded data removed]",
      "text/plain": [
       "<Figure size 432x288 with 1 Axes>"
      ]
     },
     "metadata": {
      "needs_background": "light"
     },
     "output_type": "display_data"
    }
   ],
   "source": [
    "from sklearn.linear_model import LinearRegression\n",
    "linear_regressor = LinearRegression()  # create object for the class\n",
    "linear_regressor.fit(x, y)  # perform linear regression\n",
    "Y_pred = linear_regressor.predict(x)\n",
    "\n",
    "plt.scatter(x, y)\n",
    "plt.plot(x, Y_pred, color='red')\n",
    "plt.show()"
   ]
  },
  {
   "cell_type": "code",
   "execution_count": 11,
   "id": "35d48cdd",
   "metadata": {},
   "outputs": [
    {
     "data": {
      "image/png": "[encoded data removed]",
      "text/plain": [
       "<Figure size 432x288 with 1 Axes>"
      ]
     },
     "metadata": {
      "needs_background": "light"
     },
     "output_type": "display_data"
    }
   ],
   "source": [
    "linear_regressor = LinearRegression()  # create object for the class\n",
    "linear_regressor.fit(test_x, test_y)  # perform linear regression\n",
    "Y_pred = linear_regressor.predict(test_x)\n",
    "\n",
    "plt.scatter(test_x, test_y)\n",
    "plt.plot(test_x, Y_pred, color='red')\n",
    "plt.show()"
   ]
  },
  {
   "cell_type": "code",
   "execution_count": 12,
   "id": "c7008ff5",
   "metadata": {},
   "outputs": [
    {
     "name": "stdout",
     "output_type": "stream",
     "text": [
      "                         length_erect              \n",
      "                                 mean    min    max\n",
      "Region                                             \n",
      "Africa                      15.281364  11.50  17.95\n",
      "Asia                        11.652308   9.60  14.16\n",
      "Australia                   15.745000  15.70  15.79\n",
      "Central America/Caribean    14.723000  12.40  16.30\n",
      "Central Asia                13.575000  13.46  13.69\n",
      "Europe                      14.213250  12.18  15.60\n",
      "North America               14.007500  13.87  14.15\n",
      "Pacific Islands             13.265000  12.87  14.19\n",
      "South America               15.375000  13.34  17.59\n",
      "South Asia                  11.488000  10.18  12.93\n",
      "Southeast Asia              10.614286   9.43  11.67\n",
      "Western Asia                13.255625  11.38  16.82\n"
     ]
    }
   ],
   "source": [
    "grouped_single = PenisData.groupby('Region').agg({'length_erect': ['mean', 'min', 'max']})\n",
    "\n",
    "print(grouped_single)"
   ]
  },
  {
   "cell_type": "code",
   "execution_count": null,
   "id": "fbd772e3",
   "metadata": {},
   "outputs": [],
   "source": []
  }
 ],
 "metadata": {
  "kernelspec": {
   "display_name": "Python 3 (ipykernel)",
   "language": "python",
   "name": "python3"
  },
  "language_info": {
   "codemirror_mode": {
    "name": "ipython",
    "version": 3
   },
   "file_extension": ".py",
   "mimetype": "text/x-python",
   "name": "python",
   "nbconvert_exporter": "python",
   "pygments_lexer": "ipython3",
   "version": "3.9.7"
  }
 },
 "nbformat": 4,
 "nbformat_minor": 5
}
